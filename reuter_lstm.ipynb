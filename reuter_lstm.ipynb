{
  "nbformat": 4,
  "nbformat_minor": 0,
  "metadata": {
    "colab": {
      "name": "reuter_lstm.ipynb",
      "provenance": [],
      "collapsed_sections": [],
      "authorship_tag": "ABX9TyOX2qnJ/jBNSHNYSI2crzvE",
      "include_colab_link": true
    },
    "kernelspec": {
      "name": "python3",
      "display_name": "Python 3"
    },
    "language_info": {
      "name": "python"
    },
    "accelerator": "GPU"
  },
  "cells": [
    {
      "cell_type": "markdown",
      "metadata": {
        "id": "view-in-github",
        "colab_type": "text"
      },
      "source": [
        "<a href=\"https://colab.research.google.com/github/201815054/PythonStudy2/blob/master/reuter_lstm.ipynb\" target=\"_parent\"><img src=\"https://colab.research.google.com/assets/colab-badge.svg\" alt=\"Open In Colab\"/></a>"
      ]
    },
    {
      "cell_type": "code",
      "execution_count": null,
      "metadata": {
        "id": "F59f_ErQsx3y"
      },
      "outputs": [],
      "source": [
        "import numpy as np\n",
        "import pandas as pd\n",
        "import matplotlib.pyplot as plt \n",
        "import seaborn as sns"
      ]
    },
    {
      "cell_type": "code",
      "source": [
        "from tensorflow.keras.datasets import reuters\n",
        "from tensorflow.keras.models import Sequential\n",
        "from tensorflow.keras.layers import Dense, LSTM, SimpleRNN, Embedding ,Dropout\n",
        "from tensorflow.keras.preprocessing.sequence import pad_sequences\n",
        "from tensorflow.keras.utils import to_categorical"
      ],
      "metadata": {
        "id": "D-6VxoRHs5SC"
      },
      "execution_count": null,
      "outputs": []
    },
    {
      "cell_type": "code",
      "source": [
        "(x_train,y_train),(x_test,y_test) = reuters.load_data(num_words=1000,test_split=0.2) #단어를 1000개를 가져왔기때문에 "
      ],
      "metadata": {
        "id": "JSOmJFp_s6oq"
      },
      "execution_count": null,
      "outputs": []
    },
    {
      "cell_type": "code",
      "source": [
        "print(x_train.shape, x_test.shape)"
      ],
      "metadata": {
        "colab": {
          "base_uri": "https://localhost:8080/"
        },
        "id": "-NjqFcbNs6q5",
        "outputId": "db9e17e5-c3fd-4f19-d728-8a757dc01884"
      },
      "execution_count": null,
      "outputs": [
        {
          "output_type": "stream",
          "name": "stdout",
          "text": [
            "(8982,) (2246,)\n"
          ]
        }
      ]
    },
    {
      "cell_type": "code",
      "source": [
        "x_train[:3] #단어를 1000개를 가져왔기때문에 아마 0부터 999까지있을겨 리스트 하나하나가기사임\n"
      ],
      "metadata": {
        "colab": {
          "base_uri": "https://localhost:8080/"
        },
        "id": "CJO1nsRls6s6",
        "outputId": "6c813785-c21a-420f-e576-a3422245d006"
      },
      "execution_count": null,
      "outputs": [
        {
          "output_type": "execute_result",
          "data": {
            "text/plain": [
              "array([list([1, 2, 2, 8, 43, 10, 447, 5, 25, 207, 270, 5, 2, 111, 16, 369, 186, 90, 67, 7, 89, 5, 19, 102, 6, 19, 124, 15, 90, 67, 84, 22, 482, 26, 7, 48, 4, 49, 8, 864, 39, 209, 154, 6, 151, 6, 83, 11, 15, 22, 155, 11, 15, 7, 48, 9, 2, 2, 504, 6, 258, 6, 272, 11, 15, 22, 134, 44, 11, 15, 16, 8, 197, 2, 90, 67, 52, 29, 209, 30, 32, 132, 6, 109, 15, 17, 12]),\n",
              "       list([1, 2, 699, 2, 2, 56, 2, 2, 9, 56, 2, 2, 81, 5, 2, 57, 366, 737, 132, 20, 2, 7, 2, 49, 2, 2, 2, 2, 699, 2, 8, 7, 10, 241, 16, 855, 129, 231, 783, 5, 4, 587, 2, 2, 2, 775, 7, 48, 34, 191, 44, 35, 2, 505, 17, 12]),\n",
              "       list([1, 53, 12, 284, 15, 14, 272, 26, 53, 959, 32, 818, 15, 14, 272, 26, 39, 684, 70, 11, 14, 12, 2, 18, 180, 183, 187, 70, 11, 14, 102, 32, 11, 29, 53, 44, 704, 15, 14, 19, 758, 15, 53, 959, 47, 2, 15, 14, 19, 132, 15, 39, 965, 32, 11, 14, 147, 72, 11, 180, 183, 187, 44, 11, 14, 102, 19, 11, 123, 186, 90, 67, 960, 4, 78, 13, 68, 467, 511, 110, 59, 89, 90, 67, 2, 55, 2, 92, 617, 80, 2, 46, 905, 220, 13, 4, 346, 48, 235, 629, 5, 211, 5, 2, 7, 2, 81, 5, 187, 11, 15, 9, 2, 201, 5, 47, 2, 18, 478, 2, 5, 2, 7, 232, 2, 71, 5, 160, 63, 11, 9, 2, 81, 5, 102, 59, 11, 17, 12])],\n",
              "      dtype=object)"
            ]
          },
          "metadata": {},
          "execution_count": 5
        }
      ]
    },
    {
      "cell_type": "code",
      "source": [
        "y_train[:10] #뉴스기산데 카테고리 뜻하는거임.. 산업, 정치, 경제 등 이런거 ..\n",
        "# 첫번째 기사가 몇번째 카테고리의 기산지를 나타냄. ."
      ],
      "metadata": {
        "colab": {
          "base_uri": "https://localhost:8080/"
        },
        "id": "CtTu2JHms6u5",
        "outputId": "505f7dfb-4ebe-4952-c137-2919a63e5f88"
      },
      "execution_count": null,
      "outputs": [
        {
          "output_type": "execute_result",
          "data": {
            "text/plain": [
              "array([ 3,  4,  3,  4,  4,  4,  4,  3,  3, 16])"
            ]
          },
          "metadata": {},
          "execution_count": 6
        }
      ]
    },
    {
      "cell_type": "code",
      "source": [
        "np.max(y_train)+1 # 46개의 뉴스 카테고리 "
      ],
      "metadata": {
        "colab": {
          "base_uri": "https://localhost:8080/"
        },
        "id": "dTsZBD3Cs6xB",
        "outputId": "9c2fdc07-42bb-435c-8a3c-4d224e88efa6"
      },
      "execution_count": null,
      "outputs": [
        {
          "output_type": "execute_result",
          "data": {
            "text/plain": [
              "46"
            ]
          },
          "metadata": {},
          "execution_count": 7
        }
      ]
    },
    {
      "cell_type": "code",
      "source": [
        ""
      ],
      "metadata": {
        "id": "5UtKa_6hs6y6"
      },
      "execution_count": null,
      "outputs": []
    },
    {
      "cell_type": "code",
      "source": [
        "length = [len(line) for line in x_train] # 어떤건 길이가 29고 어떤건 899길이가되는것도있구 ->기사의 단어길이"
      ],
      "metadata": {
        "id": "jR55dZn_s61B"
      },
      "execution_count": null,
      "outputs": []
    },
    {
      "cell_type": "code",
      "source": [
        "np.mean([len(line) for line in x_train]) #길이의 평균값이 너무 작아서 200정도로 맞춰준다 ! "
      ],
      "metadata": {
        "colab": {
          "base_uri": "https://localhost:8080/"
        },
        "id": "y0eN3r0EIuD0",
        "outputId": "be827c5a-2252-43c2-cfae-981d71065337"
      },
      "execution_count": null,
      "outputs": [
        {
          "output_type": "execute_result",
          "data": {
            "text/plain": [
              "145.5398574927633"
            ]
          },
          "metadata": {},
          "execution_count": 9
        }
      ]
    },
    {
      "cell_type": "code",
      "source": [
        "plt.hist(length,bins=100)"
      ],
      "metadata": {
        "colab": {
          "base_uri": "https://localhost:8080/",
          "height": 871
        },
        "id": "H-n8G6sAs63J",
        "outputId": "804a4768-2798-4100-f177-7ba1d45a486d"
      },
      "execution_count": null,
      "outputs": [
        {
          "output_type": "execute_result",
          "data": {
            "text/plain": [
              "(array([9.680e+02, 1.324e+03, 1.435e+03, 1.482e+03, 7.290e+02, 3.690e+02,\n",
              "        4.230e+02, 4.010e+02, 2.960e+02, 1.920e+02, 1.730e+02, 1.680e+02,\n",
              "        1.660e+02, 8.200e+01, 8.800e+01, 7.600e+01, 6.300e+01, 5.300e+01,\n",
              "        5.300e+01, 6.500e+01, 3.700e+01, 3.900e+01, 3.300e+01, 2.600e+01,\n",
              "        3.500e+01, 2.900e+01, 3.000e+01, 1.300e+01, 2.300e+01, 2.400e+01,\n",
              "        1.400e+01, 1.400e+01, 1.200e+01, 1.300e+01, 7.000e+00, 8.000e+00,\n",
              "        5.000e+00, 5.000e+00, 1.000e+00, 0.000e+00, 2.000e+00, 0.000e+00,\n",
              "        0.000e+00, 2.000e+00, 1.000e+00, 0.000e+00, 0.000e+00, 0.000e+00,\n",
              "        0.000e+00, 0.000e+00, 0.000e+00, 0.000e+00, 0.000e+00, 0.000e+00,\n",
              "        0.000e+00, 1.000e+00, 0.000e+00, 0.000e+00, 0.000e+00, 0.000e+00,\n",
              "        0.000e+00, 0.000e+00, 0.000e+00, 0.000e+00, 0.000e+00, 0.000e+00,\n",
              "        0.000e+00, 0.000e+00, 0.000e+00, 0.000e+00, 0.000e+00, 0.000e+00,\n",
              "        0.000e+00, 0.000e+00, 0.000e+00, 0.000e+00, 0.000e+00, 0.000e+00,\n",
              "        0.000e+00, 0.000e+00, 0.000e+00, 0.000e+00, 0.000e+00, 0.000e+00,\n",
              "        0.000e+00, 0.000e+00, 0.000e+00, 0.000e+00, 0.000e+00, 0.000e+00,\n",
              "        0.000e+00, 0.000e+00, 0.000e+00, 0.000e+00, 1.000e+00, 0.000e+00,\n",
              "        0.000e+00, 0.000e+00, 0.000e+00, 1.000e+00]),\n",
              " array([  13.  ,   36.63,   60.26,   83.89,  107.52,  131.15,  154.78,\n",
              "         178.41,  202.04,  225.67,  249.3 ,  272.93,  296.56,  320.19,\n",
              "         343.82,  367.45,  391.08,  414.71,  438.34,  461.97,  485.6 ,\n",
              "         509.23,  532.86,  556.49,  580.12,  603.75,  627.38,  651.01,\n",
              "         674.64,  698.27,  721.9 ,  745.53,  769.16,  792.79,  816.42,\n",
              "         840.05,  863.68,  887.31,  910.94,  934.57,  958.2 ,  981.83,\n",
              "        1005.46, 1029.09, 1052.72, 1076.35, 1099.98, 1123.61, 1147.24,\n",
              "        1170.87, 1194.5 , 1218.13, 1241.76, 1265.39, 1289.02, 1312.65,\n",
              "        1336.28, 1359.91, 1383.54, 1407.17, 1430.8 , 1454.43, 1478.06,\n",
              "        1501.69, 1525.32, 1548.95, 1572.58, 1596.21, 1619.84, 1643.47,\n",
              "        1667.1 , 1690.73, 1714.36, 1737.99, 1761.62, 1785.25, 1808.88,\n",
              "        1832.51, 1856.14, 1879.77, 1903.4 , 1927.03, 1950.66, 1974.29,\n",
              "        1997.92, 2021.55, 2045.18, 2068.81, 2092.44, 2116.07, 2139.7 ,\n",
              "        2163.33, 2186.96, 2210.59, 2234.22, 2257.85, 2281.48, 2305.11,\n",
              "        2328.74, 2352.37, 2376.  ]),\n",
              " <a list of 100 Patch objects>)"
            ]
          },
          "metadata": {},
          "execution_count": 10
        },
        {
          "output_type": "display_data",
          "data": {
            "text/plain": [
              "<Figure size 432x288 with 1 Axes>"
            ],
            "image/png": "[encoded data removed]"
          },
          "metadata": {
            "needs_background": "light"
          }
        }
      ]
    },
    {
      "cell_type": "code",
      "source": [
        "x_train_seq = pad_sequences(x_train,maxlen=200)\n",
        "x_test_seq = pad_sequences(x_test,maxlen=200) #길이의 평균값이 너무 작아서 200정도로 맞춰준다 ! "
      ],
      "metadata": {
        "id": "7qn8pa2rs65R"
      },
      "execution_count": null,
      "outputs": []
    },
    {
      "cell_type": "code",
      "source": [
        "y_train # 클래스로 되어있기때문에 원핫으로 바꿔주깅 \n",
        "to_categorical(y_train).shape #쉐입을보면 카테고리종류가 46이었기때무에 컬럼이 46개가있고 자기에해당되는값만1"
      ],
      "metadata": {
        "colab": {
          "base_uri": "https://localhost:8080/"
        },
        "id": "u2x1DurLJA2k",
        "outputId": "32701672-8715-4c9c-ae5d-b5837ce74f25"
      },
      "execution_count": null,
      "outputs": [
        {
          "output_type": "execute_result",
          "data": {
            "text/plain": [
              "(8982, 46)"
            ]
          },
          "metadata": {},
          "execution_count": 12
        }
      ]
    },
    {
      "cell_type": "code",
      "source": [
        "y_train_oh = to_categorical(y_train)\n",
        "y_test_oh = to_categorical(y_test)"
      ],
      "metadata": {
        "id": "O4eWVzslJS5c"
      },
      "execution_count": null,
      "outputs": []
    },
    {
      "cell_type": "code",
      "source": [
        "x_train_seq[:2] # 단어가 숫자로되어있음 크기로 인식하기때문에 원핫방식으로 바꿔야된다했는데..\n",
        "# 원핫으로 바꾸면 크기가 너무 커지기때문에 딥러닝을 통해 특정한 벡터로 바꿔줌 => Embedding"
      ],
      "metadata": {
        "colab": {
          "base_uri": "https://localhost:8080/"
        },
        "id": "7uaahaRzJjIc",
        "outputId": "846323fa-b3d5-483c-a50f-07343acd7ae1"
      },
      "execution_count": null,
      "outputs": [
        {
          "output_type": "execute_result",
          "data": {
            "text/plain": [
              "array([[  0,   0,   0,   0,   0,   0,   0,   0,   0,   0,   0,   0,   0,\n",
              "          0,   0,   0,   0,   0,   0,   0,   0,   0,   0,   0,   0,   0,\n",
              "          0,   0,   0,   0,   0,   0,   0,   0,   0,   0,   0,   0,   0,\n",
              "          0,   0,   0,   0,   0,   0,   0,   0,   0,   0,   0,   0,   0,\n",
              "          0,   0,   0,   0,   0,   0,   0,   0,   0,   0,   0,   0,   0,\n",
              "          0,   0,   0,   0,   0,   0,   0,   0,   0,   0,   0,   0,   0,\n",
              "          0,   0,   0,   0,   0,   0,   0,   0,   0,   0,   0,   0,   0,\n",
              "          0,   0,   0,   0,   0,   0,   0,   0,   0,   0,   0,   0,   0,\n",
              "          0,   0,   0,   0,   0,   0,   0,   0,   0,   1,   2,   2,   8,\n",
              "         43,  10, 447,   5,  25, 207, 270,   5,   2, 111,  16, 369, 186,\n",
              "         90,  67,   7,  89,   5,  19, 102,   6,  19, 124,  15,  90,  67,\n",
              "         84,  22, 482,  26,   7,  48,   4,  49,   8, 864,  39, 209, 154,\n",
              "          6, 151,   6,  83,  11,  15,  22, 155,  11,  15,   7,  48,   9,\n",
              "          2,   2, 504,   6, 258,   6, 272,  11,  15,  22, 134,  44,  11,\n",
              "         15,  16,   8, 197,   2,  90,  67,  52,  29, 209,  30,  32, 132,\n",
              "          6, 109,  15,  17,  12],\n",
              "       [  0,   0,   0,   0,   0,   0,   0,   0,   0,   0,   0,   0,   0,\n",
              "          0,   0,   0,   0,   0,   0,   0,   0,   0,   0,   0,   0,   0,\n",
              "          0,   0,   0,   0,   0,   0,   0,   0,   0,   0,   0,   0,   0,\n",
              "          0,   0,   0,   0,   0,   0,   0,   0,   0,   0,   0,   0,   0,\n",
              "          0,   0,   0,   0,   0,   0,   0,   0,   0,   0,   0,   0,   0,\n",
              "          0,   0,   0,   0,   0,   0,   0,   0,   0,   0,   0,   0,   0,\n",
              "          0,   0,   0,   0,   0,   0,   0,   0,   0,   0,   0,   0,   0,\n",
              "          0,   0,   0,   0,   0,   0,   0,   0,   0,   0,   0,   0,   0,\n",
              "          0,   0,   0,   0,   0,   0,   0,   0,   0,   0,   0,   0,   0,\n",
              "          0,   0,   0,   0,   0,   0,   0,   0,   0,   0,   0,   0,   0,\n",
              "          0,   0,   0,   0,   0,   0,   0,   0,   0,   0,   0,   0,   0,\n",
              "          0,   1,   2, 699,   2,   2,  56,   2,   2,   9,  56,   2,   2,\n",
              "         81,   5,   2,  57, 366, 737, 132,  20,   2,   7,   2,  49,   2,\n",
              "          2,   2,   2, 699,   2,   8,   7,  10, 241,  16, 855, 129, 231,\n",
              "        783,   5,   4, 587,   2,   2,   2, 775,   7,  48,  34, 191,  44,\n",
              "         35,   2, 505,  17,  12]], dtype=int32)"
            ]
          },
          "metadata": {},
          "execution_count": 14
        }
      ]
    },
    {
      "cell_type": "code",
      "source": [
        "model = Sequential()\n",
        "model.add(Embedding(1000,30)) # 천개의 단어가있는데 30개의\n",
        "model.add(LSTM(100)) # 100차원의 모델을 만들거임 내부적으로 하이퍼볼릭탄젠트로 처리함.. \n",
        "model.add(Dense(46,activation='softmax')) #46개값중 1개의 값을 맞추는거기때문에\n",
        "model.summary()"
      ],
      "metadata": {
        "colab": {
          "base_uri": "https://localhost:8080/"
        },
        "id": "9DZBHpazwvdY",
        "outputId": "fc29118e-891e-4e3a-ddc4-24ff8685fe5e"
      },
      "execution_count": null,
      "outputs": [
        {
          "output_type": "stream",
          "name": "stdout",
          "text": [
            "Model: \"sequential\"\n",
            "_________________________________________________________________\n",
            " Layer (type)                Output Shape              Param #   \n",
            "=================================================================\n",
            " embedding (Embedding)       (None, None, 30)          30000     \n",
            "                                                                 \n",
            " lstm (LSTM)                 (None, 100)               52400     \n",
            "                                                                 \n",
            " dense (Dense)               (None, 46)                4646      \n",
            "                                                                 \n",
            "=================================================================\n",
            "Total params: 87,046\n",
            "Trainable params: 87,046\n",
            "Non-trainable params: 0\n",
            "_________________________________________________________________\n"
          ]
        }
      ]
    },
    {
      "cell_type": "code",
      "source": [
        "model.compile(loss='categorical_crossentropy',metrics=['accuracy'],optimizer='adam') #loss는 멀티클래시피케이션이니까 categorical로 줌 "
      ],
      "metadata": {
        "id": "tbghkYTns6_s"
      },
      "execution_count": null,
      "outputs": []
    },
    {
      "cell_type": "code",
      "source": [
        "hist = model.fit(x_train_seq.astype(float), y_train_oh, epochs=100, batch_size=20, validation_data=(x_test_seq.astype(float),y_test_oh))"
      ],
      "metadata": {
        "id": "B3NtGPVNs7B5"
      },
      "execution_count": null,
      "outputs": []
    },
    {
      "cell_type": "code",
      "source": [
        "model = Sequential()\n",
        "model.add(Embedding(1000,30)) # 천개의 단어가있는데 30개의\n",
        "model.add(Dropout(0.5))\n",
        "model.add(Conv1D(64,5,padding='valid',activation='relu',strides=1)) #conv1d는 한쪽방향으로 슬라이딩하는것 ..(1 demensional convolution)\n",
        "# 이걸하면 더 좋아진다 이건아님 근데 걍 더 깊게 쌓을수있다는거\n",
        "model.add(MaxPooling1D(pool_size=4))\n",
        "model.add(LSTM(100),return_sequences=True)\n",
        "model.add(LSTM(100)) # 100차원의 모델을 만들거임 내부적으로 하이퍼볼릭탄젠트로 처리함.. \n",
        "model.add(Dense100,activation='relu')\n",
        "mode.add(Dropout(0.5))\n",
        "model.add(Dense(46,activation='softmax')) #46개값중 1개의 값을 맞추는거기때문에\n",
        "model.summary()"
      ],
      "metadata": {
        "colab": {
          "base_uri": "https://localhost:8080/",
          "height": 266
        },
        "id": "i_lpdSrjNx3j",
        "outputId": "c61951f8-d372-4093-af98-286855d8cfec"
      },
      "execution_count": null,
      "outputs": [
        {
          "output_type": "error",
          "ename": "NameError",
          "evalue": "ignored",
          "traceback": [
            "\u001b[0;31m---------------------------------------------------------------------------\u001b[0m",
            "\u001b[0;31mNameError\u001b[0m                                 Traceback (most recent call last)",
            "\u001b[0;32m<ipython-input-28-1821811d5c37>\u001b[0m in \u001b[0;36m<module>\u001b[0;34m()\u001b[0m\n\u001b[1;32m      2\u001b[0m \u001b[0mmodel\u001b[0m\u001b[0;34m.\u001b[0m\u001b[0madd\u001b[0m\u001b[0;34m(\u001b[0m\u001b[0mEmbedding\u001b[0m\u001b[0;34m(\u001b[0m\u001b[0;36m1000\u001b[0m\u001b[0;34m,\u001b[0m\u001b[0;36m30\u001b[0m\u001b[0;34m)\u001b[0m\u001b[0;34m)\u001b[0m \u001b[0;31m# 천개의 단어가있는데 30개의\u001b[0m\u001b[0;34m\u001b[0m\u001b[0;34m\u001b[0m\u001b[0m\n\u001b[1;32m      3\u001b[0m \u001b[0mmodel\u001b[0m\u001b[0;34m.\u001b[0m\u001b[0madd\u001b[0m\u001b[0;34m(\u001b[0m\u001b[0mDropout\u001b[0m\u001b[0;34m(\u001b[0m\u001b[0;36m0.5\u001b[0m\u001b[0;34m)\u001b[0m\u001b[0;34m)\u001b[0m\u001b[0;34m\u001b[0m\u001b[0;34m\u001b[0m\u001b[0m\n\u001b[0;32m----> 4\u001b[0;31m \u001b[0mmodel\u001b[0m\u001b[0;34m.\u001b[0m\u001b[0madd\u001b[0m\u001b[0;34m(\u001b[0m\u001b[0mConv1D\u001b[0m\u001b[0;34m(\u001b[0m\u001b[0;36m64\u001b[0m\u001b[0;34m,\u001b[0m\u001b[0;36m5\u001b[0m\u001b[0;34m,\u001b[0m\u001b[0mpadding\u001b[0m\u001b[0;34m=\u001b[0m\u001b[0;34m'valid'\u001b[0m\u001b[0;34m,\u001b[0m\u001b[0mactivation\u001b[0m\u001b[0;34m=\u001b[0m\u001b[0;34m'relu'\u001b[0m\u001b[0;34m,\u001b[0m\u001b[0mstrides\u001b[0m\u001b[0;34m=\u001b[0m\u001b[0;36m1\u001b[0m\u001b[0;34m)\u001b[0m\u001b[0;34m)\u001b[0m \u001b[0;31m#conv1d는 한쪽방향으로 슬라이딩하는것 ..(1 demensional convolution)\u001b[0m\u001b[0;34m\u001b[0m\u001b[0;34m\u001b[0m\u001b[0m\n\u001b[0m\u001b[1;32m      5\u001b[0m \u001b[0;31m# 이걸하면 더 좋아진다 이건아님 근데 걍 더 깊게 쌓을수있다는거\u001b[0m\u001b[0;34m\u001b[0m\u001b[0;34m\u001b[0m\u001b[0;34m\u001b[0m\u001b[0m\n\u001b[1;32m      6\u001b[0m \u001b[0mmodel\u001b[0m\u001b[0;34m.\u001b[0m\u001b[0madd\u001b[0m\u001b[0;34m(\u001b[0m\u001b[0mMaxPooling1D\u001b[0m\u001b[0;34m(\u001b[0m\u001b[0mpool_size\u001b[0m\u001b[0;34m=\u001b[0m\u001b[0;36m4\u001b[0m\u001b[0;34m)\u001b[0m\u001b[0;34m)\u001b[0m\u001b[0;34m\u001b[0m\u001b[0;34m\u001b[0m\u001b[0m\n",
            "\u001b[0;31mNameError\u001b[0m: name 'Conv1D' is not defined"
          ]
        }
      ]
    },
    {
      "cell_type": "code",
      "source": [
        "# print(x_train_seq.shape, x_test_seq.shape)"
      ],
      "metadata": {
        "id": "uT57L_Wfs67R"
      },
      "execution_count": null,
      "outputs": []
    },
    {
      "cell_type": "code",
      "source": [
        "# model = Sequential()\n",
        "# model.add(SimpleRNN(8,input_shape=(150,1))) # 이거무슨뜻.. ? \n",
        "# model.add(Dense(1,activation='sigmoid'))\n",
        "# model.summary()"
      ],
      "metadata": {
        "id": "W0K4iolDs69Z"
      },
      "execution_count": null,
      "outputs": []
    },
    {
      "cell_type": "code",
      "source": [
        "# x_train_seq"
      ],
      "metadata": {
        "id": "qELkNE3cwvZZ"
      },
      "execution_count": null,
      "outputs": []
    },
    {
      "cell_type": "code",
      "source": [
        "# x_train.shape"
      ],
      "metadata": {
        "id": "OudI5Ti0wvbY"
      },
      "execution_count": null,
      "outputs": []
    },
    {
      "cell_type": "code",
      "source": [
        "# model.compile(loss='binary_crossentropy', metrics=['accuracy'],optimizer='adam')"
      ],
      "metadata": {
        "id": "QNHRoK0-wvfY"
      },
      "execution_count": null,
      "outputs": []
    },
    {
      "cell_type": "code",
      "source": [
        "# hist = model.fit(x_train_seq.astype(float),y_train, epochs=10, batch_size=64, validation_data=(x_test_seq.astype(float),y_test))"
      ],
      "metadata": {
        "id": "x7mgbtaUwvhQ"
      },
      "execution_count": null,
      "outputs": []
    },
    {
      "cell_type": "code",
      "source": [
        ""
      ],
      "metadata": {
        "id": "UBlvU_gpwvjI"
      },
      "execution_count": null,
      "outputs": []
    },
    {
      "cell_type": "code",
      "source": [
        ""
      ],
      "metadata": {
        "id": "cnaG0qwtwvlC"
      },
      "execution_count": null,
      "outputs": []
    },
    {
      "cell_type": "code",
      "source": [
        ""
      ],
      "metadata": {
        "id": "RXbYb0S5wvnB"
      },
      "execution_count": null,
      "outputs": []
    },
    {
      "cell_type": "code",
      "source": [
        ""
      ],
      "metadata": {
        "id": "IVwsswr-wvpA"
      },
      "execution_count": null,
      "outputs": []
    },
    {
      "cell_type": "code",
      "source": [
        ""
      ],
      "metadata": {
        "id": "sE6_oWd0wvrB"
      },
      "execution_count": null,
      "outputs": []
    },
    {
      "cell_type": "code",
      "source": [
        ""
      ],
      "metadata": {
        "id": "OOKvwUWUwvtA"
      },
      "execution_count": null,
      "outputs": []
    },
    {
      "cell_type": "code",
      "source": [
        ""
      ],
      "metadata": {
        "id": "rx8JdcOHwvvJ"
      },
      "execution_count": null,
      "outputs": []
    },
    {
      "cell_type": "code",
      "source": [
        ""
      ],
      "metadata": {
        "id": "dDgY29-mwvxI"
      },
      "execution_count": null,
      "outputs": []
    },
    {
      "cell_type": "code",
      "source": [
        ""
      ],
      "metadata": {
        "id": "8vscfLPJwvzI"
      },
      "execution_count": null,
      "outputs": []
    },
    {
      "cell_type": "code",
      "source": [
        ""
      ],
      "metadata": {
        "id": "CTdR3zBywv1Z"
      },
      "execution_count": null,
      "outputs": []
    },
    {
      "cell_type": "code",
      "source": [
        ""
      ],
      "metadata": {
        "id": "Fd_QYfTBwv3Y"
      },
      "execution_count": null,
      "outputs": []
    }
  ]
}
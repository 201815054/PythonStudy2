{
 "cells": [
  {
   "cell_type": "code",
   "execution_count": 1,
   "id": "3ea8f79e",
   "metadata": {},
   "outputs": [
    {
     "name": "stdout",
     "output_type": "stream",
     "text": [
      "Requirement already satisfied: pillow in c:\\users\\sim\\anaconda3\\lib\\site-packages (8.4.0)\n"
     ]
    }
   ],
   "source": [
    "!pip install pillow"
   ]
  },
  {
   "cell_type": "code",
   "execution_count": 2,
   "id": "4ab627c1",
   "metadata": {},
   "outputs": [],
   "source": [
    "import pandas as pd\n",
    "import numpy as np"
   ]
  },
  {
   "cell_type": "code",
   "execution_count": 3,
   "id": "6404b6b5",
   "metadata": {},
   "outputs": [],
   "source": [
    "# from wordcloud import WordCloud\n",
    "import matplotlib.pyplot as plt\n",
    "from collections import Counter\n",
    "from konlpy.tag import Okt\n",
    "from PIL import Image\n",
    "import numpy as np"
   ]
  },
  {
   "cell_type": "code",
   "execution_count": 4,
   "id": "4e67c149",
   "metadata": {},
   "outputs": [],
   "source": [
    "price = pd.read_csv('./alcohol_price.csv',index_col=0)\n",
    "liqinfo = pd.read_csv('./LiquorInfo.csv',index_col=0)"
   ]
  },
  {
   "cell_type": "code",
   "execution_count": 5,
   "id": "922b53db",
   "metadata": {},
   "outputs": [],
   "source": [
    "price.rename(columns={'전통주이름':'name'},inplace=True)"
   ]
  },
  {
   "cell_type": "code",
   "execution_count": 6,
   "id": "8bd63ed8",
   "metadata": {},
   "outputs": [],
   "source": [
    "liq = pd.merge(price,liqinfo,how='right')"
   ]
  },
  {
   "cell_type": "code",
   "execution_count": 7,
   "id": "1d3efb46",
   "metadata": {
    "collapsed": true
   },
   "outputs": [
    {
     "name": "stdout",
     "output_type": "stream",
     "text": [
      "<class 'pandas.core.frame.DataFrame'>\n",
      "Int64Index: 750 entries, 0 to 749\n",
      "Data columns (total 13 columns):\n",
      " #   Column    Non-Null Count  Dtype \n",
      "---  ------    --------------  ----- \n",
      " 0   name      749 non-null    object\n",
      " 1   상품명       636 non-null    object\n",
      " 2   가격        636 non-null    object\n",
      " 3   kinds     749 non-null    object\n",
      " 4   material  742 non-null    object\n",
      " 5   alchol    749 non-null    object\n",
      " 6   ml        748 non-null    object\n",
      " 7   intro     736 non-null    object\n",
      " 8   food      666 non-null    object\n",
      " 9   home      748 non-null    object\n",
      " 10  addr      743 non-null    object\n",
      " 11  homep     689 non-null    object\n",
      " 12  ask       750 non-null    object\n",
      "dtypes: object(13)\n",
      "memory usage: 82.0+ KB\n"
     ]
    }
   ],
   "source": [
    "liq.info()"
   ]
  },
  {
   "cell_type": "code",
   "execution_count": 8,
   "id": "0387304d",
   "metadata": {},
   "outputs": [],
   "source": [
    "okt = Okt()"
   ]
  },
  {
   "cell_type": "code",
   "execution_count": 9,
   "id": "b19e76a7",
   "metadata": {},
   "outputs": [],
   "source": [
    "liq = liq.fillna('0')"
   ]
  },
  {
   "cell_type": "code",
   "execution_count": 10,
   "id": "96051cce",
   "metadata": {},
   "outputs": [],
   "source": [
    "liq['tokenized_name'] = liq.apply(lambda row: okt.nouns(row['name']), axis=1)\n",
    "liq['tokenized_product_name'] = liq.apply(lambda row: okt.nouns(row['상품명']), axis=1)\n",
    "liq['tokenized_price'] = liq.apply(lambda row: okt.nouns(row['가격']), axis=1)\n",
    "liq['tokenized_material'] = liq.apply(lambda row: okt.nouns(row['material']), axis=1)\n",
    "liq['tokenized_intro'] = liq.apply(lambda row: okt.nouns(row['intro']), axis=1)\n",
    "liq['tokenized_food'] = liq.apply(lambda row: okt.nouns(row['food']), axis=1)"
   ]
  },
  {
   "cell_type": "code",
   "execution_count": 11,
   "id": "6134a96a",
   "metadata": {
    "collapsed": true
   },
   "outputs": [
    {
     "data": {
      "text/html": [
       "<div>\n",
       "<style scoped>\n",
       "    .dataframe tbody tr th:only-of-type {\n",
       "        vertical-align: middle;\n",
       "    }\n",
       "\n",
       "    .dataframe tbody tr th {\n",
       "        vertical-align: top;\n",
       "    }\n",
       "\n",
       "    .dataframe thead th {\n",
       "        text-align: right;\n",
       "    }\n",
       "</style>\n",
       "<table border=\"1\" class=\"dataframe\">\n",
       "  <thead>\n",
       "    <tr style=\"text-align: right;\">\n",
       "      <th></th>\n",
       "      <th>name</th>\n",
       "      <th>상품명</th>\n",
       "      <th>가격</th>\n",
       "      <th>kinds</th>\n",
       "      <th>material</th>\n",
       "      <th>alchol</th>\n",
       "      <th>ml</th>\n",
       "      <th>intro</th>\n",
       "      <th>food</th>\n",
       "      <th>home</th>\n",
       "      <th>addr</th>\n",
       "      <th>homep</th>\n",
       "      <th>ask</th>\n",
       "      <th>tokenized_name</th>\n",
       "      <th>tokenized_product_name</th>\n",
       "      <th>tokenized_price</th>\n",
       "      <th>tokenized_material</th>\n",
       "      <th>tokenized_intro</th>\n",
       "      <th>tokenized_food</th>\n",
       "    </tr>\n",
       "  </thead>\n",
       "  <tbody>\n",
       "    <tr>\n",
       "      <th>0</th>\n",
       "      <td>이동 생 쌀 막걸리</td>\n",
       "      <td>이동 생 쌀 막걸리</td>\n",
       "      <td>￦1,300 (가격은 판매처 별로 상이할 수 있습니다.)</td>\n",
       "      <td>탁주</td>\n",
       "      <td>정제수, 백미, 팽화미, 입국, 아스파탐 등</td>\n",
       "      <td>6%</td>\n",
       "      <td>750ml</td>\n",
       "      <td>포천의 이동주조는 군사지역인 탓에 군인들이 거주하는 경우가 많았는데, 이들이 제대한...</td>\n",
       "      <td>쌀과 쌀 누룩을 이용해 막걸리 빛이 희고 팽화미 특유의 고소한 맛과 향미가 있는 것...</td>\n",
       "      <td>이동주조</td>\n",
       "      <td>경기도 포천시 이동면 화동로 2466</td>\n",
       "      <td>http://edongricewine.modoo.at/</td>\n",
       "      <td>문의031-535-2800</td>\n",
       "      <td>[이동, 생, 쌀, 막걸리]</td>\n",
       "      <td>[이동, 생, 쌀, 막걸리]</td>\n",
       "      <td>[가격, 판매, 처, 별로, 상이, 수]</td>\n",
       "      <td>[정, 제수, 백미, 팽, 화미, 입국, 아스파탐, 등]</td>\n",
       "      <td>[포천, 이동주, 군사, 지역, 탓, 군인, 거주, 경우, 이, 제대, 후, 막걸리...</td>\n",
       "      <td>[쌀, 쌀, 누룩, 이용, 막걸리, 빛, 팽, 화미, 특유, 맛, 향, 미가, 것,...</td>\n",
       "    </tr>\n",
       "    <tr>\n",
       "      <th>1</th>\n",
       "      <td>율무 동동주</td>\n",
       "      <td>율무 동동주</td>\n",
       "      <td>￦14,000 (가격은 판매처 별로 상이할 수 있습니다)</td>\n",
       "      <td>탁주</td>\n",
       "      <td>쌀(국내산), 누룩, 효모, 연천 율무, 정제수</td>\n",
       "      <td>14%</td>\n",
       "      <td>750ml</td>\n",
       "      <td>경기도 최북단 DMZ의 민통선에 위치한 연천양조장에서 연천 고래실논에서 재배되는 연...</td>\n",
       "      <td>라이트한 아이보리 컬러. 코를 대면 새콤한 사과향과 고운 누룩향이 서서히 올라옵니다...</td>\n",
       "      <td>농업회사법인 연천양조㈜</td>\n",
       "      <td>경기도 연천군 마산면 청정로 1738번길 15</td>\n",
       "      <td>https://ksool88.modoo.at/?NaPm=ct%3Dkj7xdaia%7...</td>\n",
       "      <td>문의031-833-3775</td>\n",
       "      <td>[율무, 동동주]</td>\n",
       "      <td>[율무, 동동주]</td>\n",
       "      <td>[가격, 판매, 처, 별로, 상이, 수]</td>\n",
       "      <td>[쌀, 국내, 산, 누룩, 효모, 연천, 율무, 정, 제수]</td>\n",
       "      <td>[경기도, 최, 북단, 의, 민통선, 위치, 양조장, 연천, 고래, 실논, 재배, ...</td>\n",
       "      <td>[라이트, 아이보리, 컬러, 코, 대면, 콤, 사과, 향, 누룩, 향, 서서히, 산...</td>\n",
       "    </tr>\n",
       "    <tr>\n",
       "      <th>2</th>\n",
       "      <td>행운 생유자 동동주</td>\n",
       "      <td>생 행운 동동주</td>\n",
       "      <td>￦6,000 (가격은 판매처 별로 상이할 수 있습니다.)</td>\n",
       "      <td>탁주</td>\n",
       "      <td>쌀(국내산), 소맥분(미국산), 전분당, 정제수, 유자과즙, 치자, 정제효소, 종국...</td>\n",
       "      <td>6%</td>\n",
       "      <td>750ml / 1700ml</td>\n",
       "      <td>유자 동동주는 거제도의 특산품 유자를 활용하여 생산한 막걸리입니다. 유자 추출액을 ...</td>\n",
       "      <td>노란색에 신선한 유자향이 올라옵니다. 단맛이 적고 신선한 산미가 유자의 느낌과 잘 ...</td>\n",
       "      <td>성포양조장</td>\n",
       "      <td>경남 거제시 사등면 지석3길3</td>\n",
       "      <td>http://성포양조장.kr</td>\n",
       "      <td>문의010-3589-5134</td>\n",
       "      <td>[행운, 생, 유자, 동동주]</td>\n",
       "      <td>[생, 행운, 동동주]</td>\n",
       "      <td>[가격, 판매, 처, 별로, 상이, 수]</td>\n",
       "      <td>[쌀, 국내, 산, 소맥분, 미국, 산, 분당, 정, 제수, 유자, 과즙, 치자, ...</td>\n",
       "      <td>[유자, 동동주, 거제도, 특산, 품, 유자, 활용, 생산, 막걸리, 유자, 추출,...</td>\n",
       "      <td>[노란색, 유자, 향, 단맛, 산미, 유자, 느낌, 술, 난, 후, 매우, 산미, ...</td>\n",
       "    </tr>\n",
       "    <tr>\n",
       "      <th>3</th>\n",
       "      <td>오산막걸리</td>\n",
       "      <td>오산막걸리</td>\n",
       "      <td>￦3,000 (가격은 판매처 별로 상이할 수 있습니다)</td>\n",
       "      <td>탁주</td>\n",
       "      <td>쌀(국내산), 국, 효모, 정제수</td>\n",
       "      <td>6%</td>\n",
       "      <td>500ml</td>\n",
       "      <td>오산막걸리는 오산에서 재배한 세마쌀을 주원료로 누룩과 물 이외에는 인공감미료를 넣지...</td>\n",
       "      <td>진한 아이보리 빛깔의 막걸리로 독특한 산미가 일품입니다. 술 맛은 전체적으로 단맛 ...</td>\n",
       "      <td>농업회사법인 오산양조㈜</td>\n",
       "      <td>경기도 오산시 시장길 63</td>\n",
       "      <td>http://osansool.com/</td>\n",
       "      <td>문의031-374-2139</td>\n",
       "      <td>[오산, 막걸리]</td>\n",
       "      <td>[오산, 막걸리]</td>\n",
       "      <td>[가격, 판매, 처, 별로, 상이, 수]</td>\n",
       "      <td>[쌀, 국내, 산, 국, 효모, 정, 제수]</td>\n",
       "      <td>[오산, 막걸리, 오산, 재배, 쌀, 원료, 누룩, 물, 이외, 인공, 감미료, 전...</td>\n",
       "      <td>[아이보리, 빛깔, 막걸리, 산미, 일품, 술, 맛, 전체, 단맛, 산미, 술, 목...</td>\n",
       "    </tr>\n",
       "    <tr>\n",
       "      <th>4</th>\n",
       "      <td>오미자 생막걸리</td>\n",
       "      <td>오미자 생막걸리</td>\n",
       "      <td>￦2,500 (가격은 판매처 별로 상이할 수 있습니다.)</td>\n",
       "      <td>탁주</td>\n",
       "      <td>정제수, 백미(국내산), 입국(쌀, 밀), 올리고당, 물엿, 허브(유기농), 오미자...</td>\n",
       "      <td>5%</td>\n",
       "      <td>750ml</td>\n",
       "      <td>다섯 가지 맛이 난다고 하여 붙여진 이름처럼 문경주조의 오미자 막걸리는 마실 때마다...</td>\n",
       "      <td>산뜻한 오미자 특유의 산미 향이 코를 자극시키며, 오미자의 특징인 오미의 조화가 잘...</td>\n",
       "      <td>문경주조</td>\n",
       "      <td>경상북도 문경시 동로면 노은리 192번지</td>\n",
       "      <td>https://mgomijasul.modoo.at/</td>\n",
       "      <td>문의054-552-8285</td>\n",
       "      <td>[오미자, 생, 막걸리]</td>\n",
       "      <td>[오미자, 생, 막걸리]</td>\n",
       "      <td>[가격, 판매, 처, 별로, 상이, 수]</td>\n",
       "      <td>[정, 제수, 백미, 국내, 산, 입국, 쌀, 밀, 올리고당, 물엿, 허브, 유기농...</td>\n",
       "      <td>[다섯, 가지, 맛, 이름, 경주, 오미자, 막걸리, 때, 맛, 수, 과, 콤함, ...</td>\n",
       "      <td>[오미자, 특유, 산미, 향, 코, 오미자, 특징, 오, 조화, 색, 막걸리, 소고...</td>\n",
       "    </tr>\n",
       "  </tbody>\n",
       "</table>\n",
       "</div>"
      ],
      "text/plain": [
       "         name         상품명                               가격 kinds  \\\n",
       "0  이동 생 쌀 막걸리  이동 생 쌀 막걸리  ￦1,300 (가격은 판매처 별로 상이할 수 있습니다.)    탁주   \n",
       "1      율무 동동주      율무 동동주  ￦14,000 (가격은 판매처 별로 상이할 수 있습니다)    탁주   \n",
       "2  행운 생유자 동동주    생 행운 동동주  ￦6,000 (가격은 판매처 별로 상이할 수 있습니다.)    탁주   \n",
       "3       오산막걸리       오산막걸리   ￦3,000 (가격은 판매처 별로 상이할 수 있습니다)    탁주   \n",
       "4    오미자 생막걸리    오미자 생막걸리  ￦2,500 (가격은 판매처 별로 상이할 수 있습니다.)    탁주   \n",
       "\n",
       "                                            material alchol              ml  \\\n",
       "0                           정제수, 백미, 팽화미, 입국, 아스파탐 등     6%           750ml   \n",
       "1                         쌀(국내산), 누룩, 효모, 연천 율무, 정제수    14%           750ml   \n",
       "2  쌀(국내산), 소맥분(미국산), 전분당, 정제수, 유자과즙, 치자, 정제효소, 종국...     6%  750ml / 1700ml   \n",
       "3                                 쌀(국내산), 국, 효모, 정제수     6%           500ml   \n",
       "4  정제수, 백미(국내산), 입국(쌀, 밀), 올리고당, 물엿, 허브(유기농), 오미자...     5%           750ml   \n",
       "\n",
       "                                               intro  \\\n",
       "0  포천의 이동주조는 군사지역인 탓에 군인들이 거주하는 경우가 많았는데, 이들이 제대한...   \n",
       "1  경기도 최북단 DMZ의 민통선에 위치한 연천양조장에서 연천 고래실논에서 재배되는 연...   \n",
       "2  유자 동동주는 거제도의 특산품 유자를 활용하여 생산한 막걸리입니다. 유자 추출액을 ...   \n",
       "3  오산막걸리는 오산에서 재배한 세마쌀을 주원료로 누룩과 물 이외에는 인공감미료를 넣지...   \n",
       "4  다섯 가지 맛이 난다고 하여 붙여진 이름처럼 문경주조의 오미자 막걸리는 마실 때마다...   \n",
       "\n",
       "                                                food          home  \\\n",
       "0  쌀과 쌀 누룩을 이용해 막걸리 빛이 희고 팽화미 특유의 고소한 맛과 향미가 있는 것...          이동주조   \n",
       "1  라이트한 아이보리 컬러. 코를 대면 새콤한 사과향과 고운 누룩향이 서서히 올라옵니다...  농업회사법인 연천양조㈜   \n",
       "2  노란색에 신선한 유자향이 올라옵니다. 단맛이 적고 신선한 산미가 유자의 느낌과 잘 ...         성포양조장   \n",
       "3  진한 아이보리 빛깔의 막걸리로 독특한 산미가 일품입니다. 술 맛은 전체적으로 단맛 ...  농업회사법인 오산양조㈜   \n",
       "4  산뜻한 오미자 특유의 산미 향이 코를 자극시키며, 오미자의 특징인 오미의 조화가 잘...          문경주조   \n",
       "\n",
       "                        addr  \\\n",
       "0       경기도 포천시 이동면 화동로 2466   \n",
       "1  경기도 연천군 마산면 청정로 1738번길 15   \n",
       "2           경남 거제시 사등면 지석3길3   \n",
       "3             경기도 오산시 시장길 63   \n",
       "4     경상북도 문경시 동로면 노은리 192번지   \n",
       "\n",
       "                                               homep              ask  \\\n",
       "0                     http://edongricewine.modoo.at/   문의031-535-2800   \n",
       "1  https://ksool88.modoo.at/?NaPm=ct%3Dkj7xdaia%7...   문의031-833-3775   \n",
       "2                                    http://성포양조장.kr  문의010-3589-5134   \n",
       "3                               http://osansool.com/   문의031-374-2139   \n",
       "4                       https://mgomijasul.modoo.at/   문의054-552-8285   \n",
       "\n",
       "     tokenized_name tokenized_product_name         tokenized_price  \\\n",
       "0   [이동, 생, 쌀, 막걸리]        [이동, 생, 쌀, 막걸리]  [가격, 판매, 처, 별로, 상이, 수]   \n",
       "1         [율무, 동동주]              [율무, 동동주]  [가격, 판매, 처, 별로, 상이, 수]   \n",
       "2  [행운, 생, 유자, 동동주]           [생, 행운, 동동주]  [가격, 판매, 처, 별로, 상이, 수]   \n",
       "3         [오산, 막걸리]              [오산, 막걸리]  [가격, 판매, 처, 별로, 상이, 수]   \n",
       "4     [오미자, 생, 막걸리]          [오미자, 생, 막걸리]  [가격, 판매, 처, 별로, 상이, 수]   \n",
       "\n",
       "                                  tokenized_material  \\\n",
       "0                    [정, 제수, 백미, 팽, 화미, 입국, 아스파탐, 등]   \n",
       "1                  [쌀, 국내, 산, 누룩, 효모, 연천, 율무, 정, 제수]   \n",
       "2  [쌀, 국내, 산, 소맥분, 미국, 산, 분당, 정, 제수, 유자, 과즙, 치자, ...   \n",
       "3                           [쌀, 국내, 산, 국, 효모, 정, 제수]   \n",
       "4  [정, 제수, 백미, 국내, 산, 입국, 쌀, 밀, 올리고당, 물엿, 허브, 유기농...   \n",
       "\n",
       "                                     tokenized_intro  \\\n",
       "0  [포천, 이동주, 군사, 지역, 탓, 군인, 거주, 경우, 이, 제대, 후, 막걸리...   \n",
       "1  [경기도, 최, 북단, 의, 민통선, 위치, 양조장, 연천, 고래, 실논, 재배, ...   \n",
       "2  [유자, 동동주, 거제도, 특산, 품, 유자, 활용, 생산, 막걸리, 유자, 추출,...   \n",
       "3  [오산, 막걸리, 오산, 재배, 쌀, 원료, 누룩, 물, 이외, 인공, 감미료, 전...   \n",
       "4  [다섯, 가지, 맛, 이름, 경주, 오미자, 막걸리, 때, 맛, 수, 과, 콤함, ...   \n",
       "\n",
       "                                      tokenized_food  \n",
       "0  [쌀, 쌀, 누룩, 이용, 막걸리, 빛, 팽, 화미, 특유, 맛, 향, 미가, 것,...  \n",
       "1  [라이트, 아이보리, 컬러, 코, 대면, 콤, 사과, 향, 누룩, 향, 서서히, 산...  \n",
       "2  [노란색, 유자, 향, 단맛, 산미, 유자, 느낌, 술, 난, 후, 매우, 산미, ...  \n",
       "3  [아이보리, 빛깔, 막걸리, 산미, 일품, 술, 맛, 전체, 단맛, 산미, 술, 목...  \n",
       "4  [오미자, 특유, 산미, 향, 코, 오미자, 특징, 오, 조화, 색, 막걸리, 소고...  "
      ]
     },
     "execution_count": 11,
     "metadata": {},
     "output_type": "execute_result"
    }
   ],
   "source": [
    "liq.head()"
   ]
  },
  {
   "cell_type": "code",
   "execution_count": null,
   "id": "2c2c0b46",
   "metadata": {},
   "outputs": [],
   "source": []
  },
  {
   "cell_type": "code",
   "execution_count": null,
   "id": "00906558",
   "metadata": {},
   "outputs": [],
   "source": []
  },
  {
   "cell_type": "code",
   "execution_count": null,
   "id": "ad8f2af6",
   "metadata": {},
   "outputs": [],
   "source": []
  }
 ],
 "metadata": {
  "kernelspec": {
   "display_name": "Python 3 (ipykernel)",
   "language": "python",
   "name": "python3"
  },
  "language_info": {
   "codemirror_mode": {
    "name": "ipython",
    "version": 3
   },
   "file_extension": ".py",
   "mimetype": "text/x-python",
   "name": "python",
   "nbconvert_exporter": "python",
   "pygments_lexer": "ipython3",
   "version": "3.9.7"
  }
 },
 "nbformat": 4,
 "nbformat_minor": 5
}

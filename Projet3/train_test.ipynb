{
 "cells": [
  {
   "cell_type": "code",
   "execution_count": 2,
   "id": "7451d072",
   "metadata": {},
   "outputs": [],
   "source": [
    "import pandas as pd\n",
    "import numpy as np\n",
    "import matplotlib.pyplot as plt\n",
    "import seaborn as sns\n",
    "from pathlib import Path\n",
    "from sklearn.model_selection import StratifiedShuffleSplit\n",
    "import shutil\n",
    "import os"
   ]
  },
  {
   "cell_type": "code",
   "execution_count": 18,
   "id": "72b917ae",
   "metadata": {},
   "outputs": [],
   "source": [
    "train_path = Path('../data/padding/train') # train test로 구분한 파일 저장 경로\n",
    "test_path = Path('../data/padding/test')\n",
    "# test_path = Path('./data/파일리스트반복/test')\n",
    "\n",
    "\n",
    "train_path.mkdir(exist_ok=True)\n",
    "test_path.mkdir(exist_ok=True)\n",
    "\n",
    "data_path = Path('../data/padding/') # 원본 파일들 저장 경로\n",
    "data = []\n",
    "for d in data_path.glob('*'): #현재 디렉터리 \n",
    "    for f in d.glob('*.jpg'): #현재디렉터리의 jpg파일 \n",
    "        data.append([f, d.stem]) #.stem 어간추출 \n",
    "data = np.array(data) # array 로 바꿔줌 \n",
    "data\n",
    "\n",
    "ss = StratifiedShuffleSplit(1, train_size = 0.8) # 얘가 핵심, Stratify 유지하면서 쪼개주는 역할\n",
    "train_ix, test_ix = next(ss.split(data[:,0],data[:,1])) # next가 뭐하는 놈인지 기억안난다 암튼 나눠준거다\n",
    "train_ix\n",
    "\n",
    "train_set, test_set = data[train_ix], data[test_ix]\n",
    "train_set\n",
    "\n",
    "for p, c in train_set:\n",
    "    (train_path / c).mkdir(exist_ok=True)\n",
    "    shutil.move(p, train_path.joinpath(*p.parts[-2:]))\n",
    "for p, c in test_set:\n",
    "    (test_path / c).mkdir(exist_ok=True)\n",
    "    shutil.move(p, test_path.joinpath(*p.parts[-2:]))"
   ]
  },
  {
   "cell_type": "code",
   "execution_count": 10,
   "id": "1d090c69",
   "metadata": {},
   "outputs": [],
   "source": []
  },
  {
   "cell_type": "code",
   "execution_count": null,
   "id": "35694e95",
   "metadata": {},
   "outputs": [],
   "source": []
  },
  {
   "cell_type": "code",
   "execution_count": null,
   "id": "7e951cd1",
   "metadata": {},
   "outputs": [],
   "source": []
  }
 ],
 "metadata": {
  "kernelspec": {
   "display_name": "Python 3 (ipykernel)",
   "language": "python",
   "name": "python3"
  },
  "language_info": {
   "codemirror_mode": {
    "name": "ipython",
    "version": 3
   },
   "file_extension": ".py",
   "mimetype": "text/x-python",
   "name": "python",
   "nbconvert_exporter": "python",
   "pygments_lexer": "ipython3",
   "version": "3.9.7"
  }
 },
 "nbformat": 4,
 "nbformat_minor": 5
}

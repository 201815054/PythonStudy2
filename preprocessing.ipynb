{
 "cells": [
  {
   "cell_type": "code",
   "execution_count": null,
   "id": "7d7c7ad1",
   "metadata": {},
   "outputs": [],
   "source": [
    "# 한글처리 -> 형태소 단위 처리 -> 형태소 분석기 -> konlpy \n",
    "# 형태소 : 문장에서 의미를 갖는 가장 작은 단위\n",
    "# 형태소 분석기 : 한글에서 형태소를 추출하는 분석기 \n"
   ]
  },
  {
   "cell_type": "code",
   "execution_count": null,
   "id": "2da14930",
   "metadata": {},
   "outputs": [],
   "source": [
    "# konlpy 설치 "
   ]
  },
  {
   "cell_type": "code",
   "execution_count": 2,
   "id": "51c0a05d",
   "metadata": {},
   "outputs": [],
   "source": [
    "import konlpy"
   ]
  },
  {
   "cell_type": "code",
   "execution_count": 1,
   "id": "180d0cd1",
   "metadata": {},
   "outputs": [],
   "source": [
    "from konlpy.tag import Hannanum, Komoran,Kkma, Twitter # Mecab, Kahili ()"
   ]
  },
  {
   "cell_type": "code",
   "execution_count": 6,
   "id": "1d975122",
   "metadata": {},
   "outputs": [],
   "source": [
    "kor = Komoran()\n",
    "han = Hannanum()\n",
    "km = Kkma()"
   ]
  },
  {
   "cell_type": "code",
   "execution_count": 8,
   "id": "275450dd",
   "metadata": {},
   "outputs": [],
   "source": [
    "text = (\"\"\"\n",
    "소속사 제이디비엔터테인먼트는 \"KBS 공채 개그맨 선후배 사이이자 같은 소속사 식구인 김준호, 김지민 씨가 진지한 만남을 이어가고 있다\"며 \"두 사람은 최근 교제를 시작하게 됐다\"고 3일 밝혔는데요.\n",
    "\n",
    "이어 \"김준호 씨가 힘든 일이 있을 때마다 김지민 씨의 위로가 큰 힘이 되었고, 좋은 감정을 가지고 있었던 두 사람은 선후배 사이로 관계를 이어오다 얼마 전부터 연인 사이로 발전하게 됐다\"고 설명했습니다.\"\"\")"
   ]
  },
  {
   "cell_type": "code",
   "execution_count": 15,
   "id": "3f381087",
   "metadata": {},
   "outputs": [
    {
     "data": {
      "text/plain": [
       "['소속사', '제이', '디', '비', '엔터테인먼트', '는', '\"', 'KB']"
      ]
     },
     "execution_count": 15,
     "metadata": {},
     "output_type": "execute_result"
    }
   ],
   "source": [
    "kor.morphs(text[:20])"
   ]
  },
  {
   "cell_type": "code",
   "execution_count": 16,
   "id": "8c125a7f",
   "metadata": {},
   "outputs": [
    {
     "data": {
      "text/plain": [
       "['소속사', '제이', '디', '엔터테인먼트']"
      ]
     },
     "execution_count": 16,
     "metadata": {},
     "output_type": "execute_result"
    }
   ],
   "source": [
    "kor.nouns(text[:20]) #감정분석할땐 형용사같은걸 넣어주게된다.. "
   ]
  },
  {
   "cell_type": "code",
   "execution_count": 17,
   "id": "6a768835",
   "metadata": {},
   "outputs": [
    {
     "data": {
      "text/plain": [
       "[('소속사', 'NNG'),\n",
       " ('제이', 'NNP'),\n",
       " ('디', 'NNP'),\n",
       " ('비', 'XPN'),\n",
       " ('엔터테인먼트', 'NNG'),\n",
       " ('는', 'JX'),\n",
       " ('\"', 'SS'),\n",
       " ('KB', 'SL')]"
      ]
     },
     "execution_count": 17,
     "metadata": {},
     "output_type": "execute_result"
    }
   ],
   "source": [
    "kor.pos(text[:20])"
   ]
  },
  {
   "cell_type": "code",
   "execution_count": 14,
   "id": "30ee8b26",
   "metadata": {},
   "outputs": [
    {
     "data": {
      "text/plain": [
       "['소속사', '제이디비엔터테인먼트는', '\"', 'KB']"
      ]
     },
     "execution_count": 14,
     "metadata": {},
     "output_type": "execute_result"
    }
   ],
   "source": [
    "han.morphs(text[:20])"
   ]
  },
  {
   "cell_type": "code",
   "execution_count": 18,
   "id": "d0620166",
   "metadata": {},
   "outputs": [
    {
     "data": {
      "text/plain": [
       "['소속사', '제이디비엔터테인먼트는']"
      ]
     },
     "execution_count": 18,
     "metadata": {},
     "output_type": "execute_result"
    }
   ],
   "source": [
    "han.nouns(text[:20])"
   ]
  },
  {
   "cell_type": "code",
   "execution_count": null,
   "id": "3cbd9d93",
   "metadata": {},
   "outputs": [],
   "source": []
  },
  {
   "cell_type": "code",
   "execution_count": null,
   "id": "ba49e47a",
   "metadata": {},
   "outputs": [],
   "source": []
  },
  {
   "cell_type": "code",
   "execution_count": null,
   "id": "b9ba34e5",
   "metadata": {},
   "outputs": [],
   "source": []
  },
  {
   "cell_type": "code",
   "execution_count": null,
   "id": "6a862cba",
   "metadata": {},
   "outputs": [],
   "source": []
  },
  {
   "cell_type": "code",
   "execution_count": null,
   "id": "f060c683",
   "metadata": {},
   "outputs": [],
   "source": []
  },
  {
   "cell_type": "code",
   "execution_count": null,
   "id": "87f55f17",
   "metadata": {},
   "outputs": [],
   "source": []
  },
  {
   "cell_type": "code",
   "execution_count": null,
   "id": "29b3c4cd",
   "metadata": {},
   "outputs": [],
   "source": []
  },
  {
   "cell_type": "code",
   "execution_count": null,
   "id": "e2747987",
   "metadata": {},
   "outputs": [],
   "source": []
  },
  {
   "cell_type": "code",
   "execution_count": null,
   "id": "1271765b",
   "metadata": {},
   "outputs": [],
   "source": []
  },
  {
   "cell_type": "code",
   "execution_count": null,
   "id": "44f57a93",
   "metadata": {},
   "outputs": [],
   "source": []
  },
  {
   "cell_type": "code",
   "execution_count": null,
   "id": "a2607bed",
   "metadata": {},
   "outputs": [],
   "source": []
  },
  {
   "cell_type": "code",
   "execution_count": null,
   "id": "2ba1462c",
   "metadata": {},
   "outputs": [],
   "source": []
  },
  {
   "cell_type": "code",
   "execution_count": null,
   "id": "d5910383",
   "metadata": {},
   "outputs": [],
   "source": []
  },
  {
   "cell_type": "code",
   "execution_count": null,
   "id": "9b55e05a",
   "metadata": {},
   "outputs": [],
   "source": []
  },
  {
   "cell_type": "code",
   "execution_count": null,
   "id": "49677aad",
   "metadata": {},
   "outputs": [],
   "source": []
  },
  {
   "cell_type": "code",
   "execution_count": null,
   "id": "52f6fd4b",
   "metadata": {},
   "outputs": [],
   "source": []
  },
  {
   "cell_type": "code",
   "execution_count": null,
   "id": "6e18fe95",
   "metadata": {},
   "outputs": [],
   "source": []
  },
  {
   "cell_type": "code",
   "execution_count": null,
   "id": "03e76252",
   "metadata": {},
   "outputs": [],
   "source": []
  },
  {
   "cell_type": "code",
   "execution_count": null,
   "id": "ef20fef4",
   "metadata": {},
   "outputs": [],
   "source": []
  },
  {
   "cell_type": "code",
   "execution_count": null,
   "id": "efc2cbfd",
   "metadata": {},
   "outputs": [],
   "source": []
  },
  {
   "cell_type": "code",
   "execution_count": null,
   "id": "ae907f73",
   "metadata": {},
   "outputs": [],
   "source": []
  },
  {
   "cell_type": "code",
   "execution_count": null,
   "id": "29d813bd",
   "metadata": {},
   "outputs": [],
   "source": []
  },
  {
   "cell_type": "code",
   "execution_count": null,
   "id": "bd0f8d5d",
   "metadata": {},
   "outputs": [],
   "source": []
  },
  {
   "cell_type": "code",
   "execution_count": null,
   "id": "363f692b",
   "metadata": {},
   "outputs": [],
   "source": []
  },
  {
   "cell_type": "code",
   "execution_count": null,
   "id": "9bcf6d6e",
   "metadata": {},
   "outputs": [],
   "source": []
  },
  {
   "cell_type": "code",
   "execution_count": null,
   "id": "70f1391a",
   "metadata": {},
   "outputs": [],
   "source": []
  },
  {
   "cell_type": "code",
   "execution_count": null,
   "id": "de992377",
   "metadata": {},
   "outputs": [],
   "source": []
  }
 ],
 "metadata": {
  "kernelspec": {
   "display_name": "Python 3 (ipykernel)",
   "language": "python",
   "name": "python3"
  },
  "language_info": {
   "codemirror_mode": {
    "name": "ipython",
    "version": 3
   },
   "file_extension": ".py",
   "mimetype": "text/x-python",
   "name": "python",
   "nbconvert_exporter": "python",
   "pygments_lexer": "ipython3",
   "version": "3.9.7"
  }
 },
 "nbformat": 4,
 "nbformat_minor": 5
}

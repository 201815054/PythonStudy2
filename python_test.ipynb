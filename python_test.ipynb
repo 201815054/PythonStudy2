{
 "cells": [
  {
   "cell_type": "code",
   "execution_count": 1,
   "id": "a848a868",
   "metadata": {},
   "outputs": [],
   "source": [
    "import numpy as np \n",
    "import pandas as pd "
   ]
  },
  {
   "cell_type": "code",
   "execution_count": 3,
   "id": "d93d7a4d",
   "metadata": {},
   "outputs": [
    {
     "name": "stdout",
     "output_type": "stream",
     "text": [
      "70.0\n"
     ]
    }
   ],
   "source": [
    "국어 = 80\n",
    "영어 = 75\n",
    "수학 = 55\n",
    "\n",
    "print((국어+영어+수학)/3)"
   ]
  },
  {
   "cell_type": "code",
   "execution_count": 6,
   "id": "23e64a75",
   "metadata": {},
   "outputs": [],
   "source": [
    "i=0\n",
    "if i in range(1,20):\n",
    "    if i/2 == 0:\n",
    "        print(\"짝수\")\n",
    "    else:\n",
    "        print(\"홀수\") #파이썬에서 입력하는게 모엿지.."
   ]
  },
  {
   "cell_type": "code",
   "execution_count": 8,
   "id": "5ae62bc5",
   "metadata": {},
   "outputs": [
    {
     "name": "stdout",
     "output_type": "stream",
     "text": [
      "1068234\n",
      "881120\n"
     ]
    }
   ],
   "source": [
    "홍길동 = '881120-1068234'\n",
    "print(홍길동.split('-')[1])\n",
    "print(홍길동.split('-')[0])"
   ]
  },
  {
   "cell_type": "code",
   "execution_count": 9,
   "id": "4e08fc23",
   "metadata": {},
   "outputs": [
    {
     "data": {
      "text/plain": [
       "'1'"
      ]
     },
     "execution_count": 9,
     "metadata": {},
     "output_type": "execute_result"
    }
   ],
   "source": [
    "pin= \"881120-1068234\"\n",
    "pin[-7]"
   ]
  },
  {
   "cell_type": "code",
   "execution_count": 10,
   "id": "0808ca5c",
   "metadata": {},
   "outputs": [
    {
     "data": {
      "text/plain": [
       "'a#b#c#d'"
      ]
     },
     "execution_count": 10,
     "metadata": {},
     "output_type": "execute_result"
    }
   ],
   "source": [
    "a = \"a:b:c:d\"\n",
    "a.replace(':','#')"
   ]
  },
  {
   "cell_type": "code",
   "execution_count": null,
   "id": "7248fd24",
   "metadata": {},
   "outputs": [],
   "source": [
    "lis = [1,3,5,4,2]\n",
    "lis.sort()\n",
    "lis.reverse()\n",
    "print(lis)"
   ]
  },
  {
   "cell_type": "code",
   "execution_count": 26,
   "id": "c11beb74",
   "metadata": {},
   "outputs": [
    {
     "data": {
      "text/plain": [
       "'Life is too short'"
      ]
     },
     "execution_count": 26,
     "metadata": {},
     "output_type": "execute_result"
    }
   ],
   "source": [
    "a = ['Life', 'is', 'too', 'short']\n",
    "result = \" \".join(a)\n",
    "result"
   ]
  },
  {
   "cell_type": "code",
   "execution_count": 17,
   "id": "90b37d2a",
   "metadata": {},
   "outputs": [
    {
     "ename": "TypeError",
     "evalue": "can only concatenate tuple (not \"int\") to tuple",
     "output_type": "error",
     "traceback": [
      "\u001b[1;31m---------------------------------------------------------------------------\u001b[0m",
      "\u001b[1;31mTypeError\u001b[0m                                 Traceback (most recent call last)",
      "\u001b[1;32m~\\AppData\\Local\\Temp/ipykernel_31784/3100974992.py\u001b[0m in \u001b[0;36m<module>\u001b[1;34m\u001b[0m\n\u001b[0;32m      1\u001b[0m \u001b[0ma\u001b[0m \u001b[1;33m=\u001b[0m \u001b[1;33m(\u001b[0m\u001b[1;36m1\u001b[0m\u001b[1;33m,\u001b[0m\u001b[1;36m2\u001b[0m\u001b[1;33m,\u001b[0m\u001b[1;36m3\u001b[0m\u001b[1;33m)\u001b[0m\u001b[1;33m\u001b[0m\u001b[1;33m\u001b[0m\u001b[0m\n\u001b[0;32m      2\u001b[0m \u001b[0mb\u001b[0m \u001b[1;33m=\u001b[0m \u001b[1;33m(\u001b[0m\u001b[1;36m4\u001b[0m\u001b[1;33m)\u001b[0m\u001b[1;33m\u001b[0m\u001b[1;33m\u001b[0m\u001b[0m\n\u001b[1;32m----> 3\u001b[1;33m \u001b[0ma\u001b[0m\u001b[1;33m+\u001b[0m\u001b[0mb\u001b[0m\u001b[1;33m\u001b[0m\u001b[1;33m\u001b[0m\u001b[0m\n\u001b[0m",
      "\u001b[1;31mTypeError\u001b[0m: can only concatenate tuple (not \"int\") to tuple"
     ]
    }
   ],
   "source": [
    "a = (1,2,3)\n",
    "b = (4)\n",
    "a+b"
   ]
  },
  {
   "cell_type": "code",
   "execution_count": 18,
   "id": "0e4be1b9",
   "metadata": {},
   "outputs": [
    {
     "data": {
      "text/plain": [
       "{}"
      ]
     },
     "execution_count": 18,
     "metadata": {},
     "output_type": "execute_result"
    }
   ],
   "source": [
    "a = dict()\n",
    "a"
   ]
  },
  {
   "cell_type": "code",
   "execution_count": 22,
   "id": "2e94f3f1",
   "metadata": {},
   "outputs": [
    {
     "data": {
      "text/plain": [
       "80"
      ]
     },
     "execution_count": 22,
     "metadata": {},
     "output_type": "execute_result"
    }
   ],
   "source": [
    "a = {'A':90, 'B':80, 'C':70}\n",
    "a.pop('B')"
   ]
  },
  {
   "cell_type": "code",
   "execution_count": null,
   "id": "be15f675",
   "metadata": {},
   "outputs": [],
   "source": [
    "a = [1, 1, 1, 2, 2, 3, 3, 3, 4, 4, 5]\n",
    "a.집핣...몰루"
   ]
  },
  {
   "cell_type": "code",
   "execution_count": 27,
   "id": "76262e8c",
   "metadata": {},
   "outputs": [
    {
     "name": "stdout",
     "output_type": "stream",
     "text": [
      "shirt\n"
     ]
    }
   ],
   "source": [
    "a = \"Life is too short, you need python\"\n",
    "\n",
    "if \"wife\" in a: print(\"wife\")\n",
    "elif \"python\" in a and \"you\" not in a: print(\"python\")\n",
    "elif \"shirt\" not in a: print(\"shirt\")\n",
    "elif \"need\" in a: print(\"need\")\n",
    "else: print(\"none\")"
   ]
  },
  {
   "cell_type": "code",
   "execution_count": 29,
   "id": "89fa9484",
   "metadata": {},
   "outputs": [
    {
     "ename": "TypeError",
     "evalue": "argument of type 'int' is not iterable",
     "output_type": "error",
     "traceback": [
      "\u001b[1;31m---------------------------------------------------------------------------\u001b[0m",
      "\u001b[1;31mTypeError\u001b[0m                                 Traceback (most recent call last)",
      "\u001b[1;32m~\\AppData\\Local\\Temp/ipykernel_31784/946577522.py\u001b[0m in \u001b[0;36m<module>\u001b[1;34m\u001b[0m\n\u001b[1;32m----> 1\u001b[1;33m \u001b[1;32mwhile\u001b[0m \u001b[0mi\u001b[0m \u001b[1;32min\u001b[0m \u001b[1;36m1000\u001b[0m\u001b[1;33m+\u001b[0m\u001b[1;36m1\u001b[0m\u001b[1;33m:\u001b[0m\u001b[1;33m\u001b[0m\u001b[1;33m\u001b[0m\u001b[0m\n\u001b[0m\u001b[0;32m      2\u001b[0m     \u001b[1;32mif\u001b[0m \u001b[0mi\u001b[0m\u001b[1;33m%\u001b[0m\u001b[1;36m3\u001b[0m \u001b[1;33m==\u001b[0m\u001b[1;36m0\u001b[0m\u001b[1;33m:\u001b[0m\u001b[1;33m\u001b[0m\u001b[1;33m\u001b[0m\u001b[0m\n\u001b[0;32m      3\u001b[0m         \u001b[0mi\u001b[0m\u001b[1;33m.\u001b[0m\u001b[0mappend\u001b[0m\u001b[1;33m(\u001b[0m\u001b[0mi\u001b[0m\u001b[1;33m)\u001b[0m\u001b[1;33m\u001b[0m\u001b[1;33m\u001b[0m\u001b[0m\n\u001b[0;32m      4\u001b[0m \u001b[0mi\u001b[0m\u001b[1;33m\u001b[0m\u001b[1;33m\u001b[0m\u001b[0m\n",
      "\u001b[1;31mTypeError\u001b[0m: argument of type 'int' is not iterable"
     ]
    }
   ],
   "source": [
    "while i in 1000+1:\n",
    "    if i%3 ==0:\n",
    "        i.append(i)\n",
    "i    \n",
    "\n",
    "while문 설명보기 왜 밑에 항상 i+=1 하는거여 그 끝나야돼서그런가 "
   ]
  },
  {
   "cell_type": "code",
   "execution_count": 30,
   "id": "fb7d689d",
   "metadata": {},
   "outputs": [
    {
     "ename": "SyntaxError",
     "evalue": "invalid syntax (Temp/ipykernel_31784/3915012747.py, line 1)",
     "output_type": "error",
     "traceback": [
      "\u001b[1;36m  File \u001b[1;32m\"C:\\Users\\sim\\AppData\\Local\\Temp/ipykernel_31784/3915012747.py\"\u001b[1;36m, line \u001b[1;32m1\u001b[0m\n\u001b[1;33m    while\u001b[0m\n\u001b[1;37m         ^\u001b[0m\n\u001b[1;31mSyntaxError\u001b[0m\u001b[1;31m:\u001b[0m invalid syntax\n"
     ]
    }
   ],
   "source": [
    "while"
   ]
  },
  {
   "cell_type": "code",
   "execution_count": 33,
   "id": "73d36f2f",
   "metadata": {},
   "outputs": [
    {
     "name": "stdout",
     "output_type": "stream",
     "text": [
      "1 2 3 4 5 6 7 8 9 10 11 12 13 14 15 16 17 18 19 20 21 22 23 24 25 26 27 28 29 30 31 32 33 34 35 36 37 38 39 40 41 42 43 44 45 46 47 48 49 50 51 52 53 54 55 56 57 58 59 60 61 62 63 64 65 66 67 68 69 70 71 72 73 74 75 76 77 78 79 80 81 82 83 84 85 86 87 88 89 90 91 92 93 94 95 96 97 98 99 100 "
     ]
    }
   ],
   "source": [
    "for i in range(1,100+1):\n",
    "    print(i,end=' ')"
   ]
  },
  {
   "cell_type": "code",
   "execution_count": 44,
   "id": "1c567b4a",
   "metadata": {},
   "outputs": [
    {
     "data": {
      "text/plain": [
       "79.0"
      ]
     },
     "execution_count": 44,
     "metadata": {},
     "output_type": "execute_result"
    }
   ],
   "source": [
    "a = [70, 60, 55, 75, 95, 90, 80, 80, 85, 100]\n",
    "lis = 0\n",
    "# for i in a:\n",
    "#     b = i.append(i)\n",
    "#     c = b/len(i)\n",
    "#     print(c)\n",
    "\n",
    "for i in a:\n",
    "    lis += i \n",
    "av = lis/len(a)\n",
    "av\n",
    "    "
   ]
  },
  {
   "cell_type": "code",
   "execution_count": 36,
   "id": "78f708c3",
   "metadata": {},
   "outputs": [
    {
     "ename": "SyntaxError",
     "evalue": "invalid syntax (Temp/ipykernel_31784/4128572313.py, line 7)",
     "output_type": "error",
     "traceback": [
      "\u001b[1;36m  File \u001b[1;32m\"C:\\Users\\sim\\AppData\\Local\\Temp/ipykernel_31784/4128572313.py\"\u001b[1;36m, line \u001b[1;32m7\u001b[0m\n\u001b[1;33m    [i for i in numbers if n%2==1 result.append(n*2) ]\u001b[0m\n\u001b[1;37m                                       ^\u001b[0m\n\u001b[1;31mSyntaxError\u001b[0m\u001b[1;31m:\u001b[0m invalid syntax\n"
     ]
    }
   ],
   "source": [
    "numbers = [1, 2, 3, 4, 5]\n",
    "result = []\n",
    "for n in numbers:\n",
    "    if n % 2 == 1:\n",
    "        result.append(n*2)\n",
    "        \n",
    "        \n",
    "[n*2 for n in numbers if n&2 == 1]\n",
    "[i for i in numbers if n%2==1 result.append(n*2) ]"
   ]
  },
  {
   "cell_type": "code",
   "execution_count": 49,
   "id": "333635ea",
   "metadata": {},
   "outputs": [],
   "source": [
    "def is_odd(num):\n",
    "    if num%2 == 0:\n",
    "        return print('짝수입니다')\n",
    "    else:\n",
    "        return print(\"홀수입니다\")"
   ]
  },
  {
   "cell_type": "code",
   "execution_count": 53,
   "id": "ef4b96d5",
   "metadata": {},
   "outputs": [
    {
     "name": "stdout",
     "output_type": "stream",
     "text": [
      "첫번째 숫자를 입력하세요:10\n",
      "두번째 숫자를 입력하세요:10\n",
      "두 수의 합은 20 입니다\n"
     ]
    }
   ],
   "source": [
    "input1 = input(\"첫번째 숫자를 입력하세요:\")\n",
    "input2 = input(\"두번째 숫자를 입력하세요:\")\n",
    "\n",
    "total = int(input1) + int(input2)\n",
    "print(\"두 수의 합은 %s 입니다\" % total)"
   ]
  },
  {
   "cell_type": "code",
   "execution_count": 58,
   "id": "c83a54b1",
   "metadata": {},
   "outputs": [
    {
     "name": "stdout",
     "output_type": "stream",
     "text": [
      "Life is too short you need java\n"
     ]
    }
   ],
   "source": [
    "f1 = open(\"test.txt\", 'w')\n",
    "f1.write(\"Life is too short you need java\")\n",
    "f1.close()\n",
    "\n",
    "f2 = open(\"test.txt\", 'r')\n",
    "print(f2.read()) \n",
    "\n",
    "with open(\"test.txt\",'w') as f1:\n",
    "    f1.write(\"Life is too short!\")\n",
    "with open(\"test.txt\",'r') as f2:\n",
    "    print(f2.read())"
   ]
  },
  {
   "cell_type": "code",
   "execution_count": null,
   "id": "48f743f5",
   "metadata": {},
   "outputs": [],
   "source": [
    "f open with 어쩌구였던거같은... "
   ]
  },
  {
   "cell_type": "code",
   "execution_count": null,
   "id": "80180155",
   "metadata": {},
   "outputs": [],
   "source": []
  },
  {
   "cell_type": "code",
   "execution_count": null,
   "id": "f1914f6b",
   "metadata": {},
   "outputs": [],
   "source": []
  },
  {
   "cell_type": "code",
   "execution_count": null,
   "id": "9753b928",
   "metadata": {},
   "outputs": [],
   "source": []
  },
  {
   "cell_type": "code",
   "execution_count": null,
   "id": "af36cea9",
   "metadata": {},
   "outputs": [],
   "source": []
  },
  {
   "cell_type": "code",
   "execution_count": null,
   "id": "f1e38609",
   "metadata": {},
   "outputs": [],
   "source": []
  },
  {
   "cell_type": "code",
   "execution_count": null,
   "id": "a115bdcf",
   "metadata": {},
   "outputs": [],
   "source": []
  },
  {
   "cell_type": "code",
   "execution_count": null,
   "id": "d6fb7c0e",
   "metadata": {},
   "outputs": [],
   "source": []
  },
  {
   "cell_type": "code",
   "execution_count": null,
   "id": "3ba81436",
   "metadata": {},
   "outputs": [],
   "source": []
  },
  {
   "cell_type": "code",
   "execution_count": null,
   "id": "f839d93b",
   "metadata": {},
   "outputs": [],
   "source": []
  },
  {
   "cell_type": "code",
   "execution_count": null,
   "id": "56e51f6d",
   "metadata": {},
   "outputs": [],
   "source": []
  },
  {
   "cell_type": "code",
   "execution_count": null,
   "id": "a8ee16e3",
   "metadata": {},
   "outputs": [],
   "source": []
  },
  {
   "cell_type": "code",
   "execution_count": null,
   "id": "04e757e1",
   "metadata": {},
   "outputs": [],
   "source": []
  },
  {
   "cell_type": "code",
   "execution_count": null,
   "id": "8339a03f",
   "metadata": {},
   "outputs": [],
   "source": []
  }
 ],
 "metadata": {
  "kernelspec": {
   "display_name": "Python 3 (ipykernel)",
   "language": "python",
   "name": "python3"
  },
  "language_info": {
   "codemirror_mode": {
    "name": "ipython",
    "version": 3
   },
   "file_extension": ".py",
   "mimetype": "text/x-python",
   "name": "python",
   "nbconvert_exporter": "python",
   "pygments_lexer": "ipython3",
   "version": "3.7.11"
  }
 },
 "nbformat": 4,
 "nbformat_minor": 5
}

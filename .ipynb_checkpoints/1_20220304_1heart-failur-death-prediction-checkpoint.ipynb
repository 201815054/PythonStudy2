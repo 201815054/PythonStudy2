{
 "cells": [
  {
   "cell_type": "code",
   "execution_count": 1,
   "id": "a3917558",
   "metadata": {},
   "outputs": [],
   "source": [
    "import pandas as pd \n",
    "import numpy as np\n",
    "import matplotlib.pyplot as plt\n",
    "import seaborn as sns "
   ]
  },
  {
   "cell_type": "code",
   "execution_count": 2,
   "id": "035d9f65",
   "metadata": {},
   "outputs": [
    {
     "data": {
      "text/html": [
       "<div>\n",
       "<style scoped>\n",
       "    .dataframe tbody tr th:only-of-type {\n",
       "        vertical-align: middle;\n",
       "    }\n",
       "\n",
       "    .dataframe tbody tr th {\n",
       "        vertical-align: top;\n",
       "    }\n",
       "\n",
       "    .dataframe thead th {\n",
       "        text-align: right;\n",
       "    }\n",
       "</style>\n",
       "<table border=\"1\" class=\"dataframe\">\n",
       "  <thead>\n",
       "    <tr style=\"text-align: right;\">\n",
       "      <th></th>\n",
       "      <th>age</th>\n",
       "      <th>anaemia</th>\n",
       "      <th>creatinine_phosphokinase</th>\n",
       "      <th>diabetes</th>\n",
       "      <th>ejection_fraction</th>\n",
       "      <th>high_blood_pressure</th>\n",
       "      <th>platelets</th>\n",
       "      <th>serum_creatinine</th>\n",
       "      <th>serum_sodium</th>\n",
       "      <th>sex</th>\n",
       "      <th>smoking</th>\n",
       "      <th>time</th>\n",
       "      <th>DEATH_EVENT</th>\n",
       "    </tr>\n",
       "  </thead>\n",
       "  <tbody>\n",
       "    <tr>\n",
       "      <th>0</th>\n",
       "      <td>75.0</td>\n",
       "      <td>0</td>\n",
       "      <td>582</td>\n",
       "      <td>0</td>\n",
       "      <td>20</td>\n",
       "      <td>1</td>\n",
       "      <td>265000.00</td>\n",
       "      <td>1.9</td>\n",
       "      <td>130</td>\n",
       "      <td>1</td>\n",
       "      <td>0</td>\n",
       "      <td>4</td>\n",
       "      <td>1</td>\n",
       "    </tr>\n",
       "    <tr>\n",
       "      <th>1</th>\n",
       "      <td>55.0</td>\n",
       "      <td>0</td>\n",
       "      <td>7861</td>\n",
       "      <td>0</td>\n",
       "      <td>38</td>\n",
       "      <td>0</td>\n",
       "      <td>263358.03</td>\n",
       "      <td>1.1</td>\n",
       "      <td>136</td>\n",
       "      <td>1</td>\n",
       "      <td>0</td>\n",
       "      <td>6</td>\n",
       "      <td>1</td>\n",
       "    </tr>\n",
       "    <tr>\n",
       "      <th>2</th>\n",
       "      <td>65.0</td>\n",
       "      <td>0</td>\n",
       "      <td>146</td>\n",
       "      <td>0</td>\n",
       "      <td>20</td>\n",
       "      <td>0</td>\n",
       "      <td>162000.00</td>\n",
       "      <td>1.3</td>\n",
       "      <td>129</td>\n",
       "      <td>1</td>\n",
       "      <td>1</td>\n",
       "      <td>7</td>\n",
       "      <td>1</td>\n",
       "    </tr>\n",
       "    <tr>\n",
       "      <th>3</th>\n",
       "      <td>50.0</td>\n",
       "      <td>1</td>\n",
       "      <td>111</td>\n",
       "      <td>0</td>\n",
       "      <td>20</td>\n",
       "      <td>0</td>\n",
       "      <td>210000.00</td>\n",
       "      <td>1.9</td>\n",
       "      <td>137</td>\n",
       "      <td>1</td>\n",
       "      <td>0</td>\n",
       "      <td>7</td>\n",
       "      <td>1</td>\n",
       "    </tr>\n",
       "    <tr>\n",
       "      <th>4</th>\n",
       "      <td>65.0</td>\n",
       "      <td>1</td>\n",
       "      <td>160</td>\n",
       "      <td>1</td>\n",
       "      <td>20</td>\n",
       "      <td>0</td>\n",
       "      <td>327000.00</td>\n",
       "      <td>2.7</td>\n",
       "      <td>116</td>\n",
       "      <td>0</td>\n",
       "      <td>0</td>\n",
       "      <td>8</td>\n",
       "      <td>1</td>\n",
       "    </tr>\n",
       "  </tbody>\n",
       "</table>\n",
       "</div>"
      ],
      "text/plain": [
       "    age  anaemia  creatinine_phosphokinase  diabetes  ejection_fraction  \\\n",
       "0  75.0        0                       582         0                 20   \n",
       "1  55.0        0                      7861         0                 38   \n",
       "2  65.0        0                       146         0                 20   \n",
       "3  50.0        1                       111         0                 20   \n",
       "4  65.0        1                       160         1                 20   \n",
       "\n",
       "   high_blood_pressure  platelets  serum_creatinine  serum_sodium  sex  \\\n",
       "0                    1  265000.00               1.9           130    1   \n",
       "1                    0  263358.03               1.1           136    1   \n",
       "2                    0  162000.00               1.3           129    1   \n",
       "3                    0  210000.00               1.9           137    1   \n",
       "4                    0  327000.00               2.7           116    0   \n",
       "\n",
       "   smoking  time  DEATH_EVENT  \n",
       "0        0     4            1  \n",
       "1        0     6            1  \n",
       "2        1     7            1  \n",
       "3        0     7            1  \n",
       "4        0     8            1  "
      ]
     },
     "execution_count": 2,
     "metadata": {},
     "output_type": "execute_result"
    }
   ],
   "source": [
    "df = pd.read_csv('./data/ml_files-20220302T055049Z-001/ml_files/heart_failure_clinical_records_dataset.csv')\n",
    "df.head()"
   ]
  },
  {
   "cell_type": "code",
   "execution_count": 3,
   "id": "3261418f",
   "metadata": {},
   "outputs": [
    {
     "name": "stdout",
     "output_type": "stream",
     "text": [
      "<class 'pandas.core.frame.DataFrame'>\n",
      "RangeIndex: 299 entries, 0 to 298\n",
      "Data columns (total 13 columns):\n",
      " #   Column                    Non-Null Count  Dtype  \n",
      "---  ------                    --------------  -----  \n",
      " 0   age                       299 non-null    float64\n",
      " 1   anaemia                   299 non-null    int64  \n",
      " 2   creatinine_phosphokinase  299 non-null    int64  \n",
      " 3   diabetes                  299 non-null    int64  \n",
      " 4   ejection_fraction         299 non-null    int64  \n",
      " 5   high_blood_pressure       299 non-null    int64  \n",
      " 6   platelets                 299 non-null    float64\n",
      " 7   serum_creatinine          299 non-null    float64\n",
      " 8   serum_sodium              299 non-null    int64  \n",
      " 9   sex                       299 non-null    int64  \n",
      " 10  smoking                   299 non-null    int64  \n",
      " 11  time                      299 non-null    int64  \n",
      " 12  DEATH_EVENT               299 non-null    int64  \n",
      "dtypes: float64(3), int64(10)\n",
      "memory usage: 30.5 KB\n"
     ]
    }
   ],
   "source": [
    "df.info()"
   ]
  },
  {
   "cell_type": "code",
   "execution_count": 4,
   "id": "d8712161",
   "metadata": {},
   "outputs": [
    {
     "data": {
      "text/html": [
       "<div>\n",
       "<style scoped>\n",
       "    .dataframe tbody tr th:only-of-type {\n",
       "        vertical-align: middle;\n",
       "    }\n",
       "\n",
       "    .dataframe tbody tr th {\n",
       "        vertical-align: top;\n",
       "    }\n",
       "\n",
       "    .dataframe thead th {\n",
       "        text-align: right;\n",
       "    }\n",
       "</style>\n",
       "<table border=\"1\" class=\"dataframe\">\n",
       "  <thead>\n",
       "    <tr style=\"text-align: right;\">\n",
       "      <th></th>\n",
       "      <th>age</th>\n",
       "      <th>anaemia</th>\n",
       "      <th>creatinine_phosphokinase</th>\n",
       "      <th>diabetes</th>\n",
       "      <th>ejection_fraction</th>\n",
       "      <th>high_blood_pressure</th>\n",
       "      <th>platelets</th>\n",
       "      <th>serum_creatinine</th>\n",
       "      <th>serum_sodium</th>\n",
       "      <th>sex</th>\n",
       "      <th>smoking</th>\n",
       "      <th>time</th>\n",
       "      <th>DEATH_EVENT</th>\n",
       "    </tr>\n",
       "  </thead>\n",
       "  <tbody>\n",
       "    <tr>\n",
       "      <th>294</th>\n",
       "      <td>62.0</td>\n",
       "      <td>0</td>\n",
       "      <td>61</td>\n",
       "      <td>1</td>\n",
       "      <td>38</td>\n",
       "      <td>1</td>\n",
       "      <td>155000.0</td>\n",
       "      <td>1.1</td>\n",
       "      <td>143</td>\n",
       "      <td>1</td>\n",
       "      <td>1</td>\n",
       "      <td>270</td>\n",
       "      <td>0</td>\n",
       "    </tr>\n",
       "    <tr>\n",
       "      <th>295</th>\n",
       "      <td>55.0</td>\n",
       "      <td>0</td>\n",
       "      <td>1820</td>\n",
       "      <td>0</td>\n",
       "      <td>38</td>\n",
       "      <td>0</td>\n",
       "      <td>270000.0</td>\n",
       "      <td>1.2</td>\n",
       "      <td>139</td>\n",
       "      <td>0</td>\n",
       "      <td>0</td>\n",
       "      <td>271</td>\n",
       "      <td>0</td>\n",
       "    </tr>\n",
       "    <tr>\n",
       "      <th>296</th>\n",
       "      <td>45.0</td>\n",
       "      <td>0</td>\n",
       "      <td>2060</td>\n",
       "      <td>1</td>\n",
       "      <td>60</td>\n",
       "      <td>0</td>\n",
       "      <td>742000.0</td>\n",
       "      <td>0.8</td>\n",
       "      <td>138</td>\n",
       "      <td>0</td>\n",
       "      <td>0</td>\n",
       "      <td>278</td>\n",
       "      <td>0</td>\n",
       "    </tr>\n",
       "    <tr>\n",
       "      <th>297</th>\n",
       "      <td>45.0</td>\n",
       "      <td>0</td>\n",
       "      <td>2413</td>\n",
       "      <td>0</td>\n",
       "      <td>38</td>\n",
       "      <td>0</td>\n",
       "      <td>140000.0</td>\n",
       "      <td>1.4</td>\n",
       "      <td>140</td>\n",
       "      <td>1</td>\n",
       "      <td>1</td>\n",
       "      <td>280</td>\n",
       "      <td>0</td>\n",
       "    </tr>\n",
       "    <tr>\n",
       "      <th>298</th>\n",
       "      <td>50.0</td>\n",
       "      <td>0</td>\n",
       "      <td>196</td>\n",
       "      <td>0</td>\n",
       "      <td>45</td>\n",
       "      <td>0</td>\n",
       "      <td>395000.0</td>\n",
       "      <td>1.6</td>\n",
       "      <td>136</td>\n",
       "      <td>1</td>\n",
       "      <td>1</td>\n",
       "      <td>285</td>\n",
       "      <td>0</td>\n",
       "    </tr>\n",
       "  </tbody>\n",
       "</table>\n",
       "</div>"
      ],
      "text/plain": [
       "      age  anaemia  creatinine_phosphokinase  diabetes  ejection_fraction  \\\n",
       "294  62.0        0                        61         1                 38   \n",
       "295  55.0        0                      1820         0                 38   \n",
       "296  45.0        0                      2060         1                 60   \n",
       "297  45.0        0                      2413         0                 38   \n",
       "298  50.0        0                       196         0                 45   \n",
       "\n",
       "     high_blood_pressure  platelets  serum_creatinine  serum_sodium  sex  \\\n",
       "294                    1   155000.0               1.1           143    1   \n",
       "295                    0   270000.0               1.2           139    0   \n",
       "296                    0   742000.0               0.8           138    0   \n",
       "297                    0   140000.0               1.4           140    1   \n",
       "298                    0   395000.0               1.6           136    1   \n",
       "\n",
       "     smoking  time  DEATH_EVENT  \n",
       "294        1   270            0  \n",
       "295        0   271            0  \n",
       "296        0   278            0  \n",
       "297        1   280            0  \n",
       "298        1   285            0  "
      ]
     },
     "execution_count": 4,
     "metadata": {},
     "output_type": "execute_result"
    }
   ],
   "source": [
    "df.tail()"
   ]
  },
  {
   "cell_type": "code",
   "execution_count": null,
   "id": "6dc9a0d7",
   "metadata": {},
   "outputs": [],
   "source": []
  },
  {
   "cell_type": "code",
   "execution_count": 5,
   "id": "4b207e02",
   "metadata": {},
   "outputs": [],
   "source": [
    "# 사망을 예측하는 모델을 만들고 평가하시오 "
   ]
  },
  {
   "cell_type": "code",
   "execution_count": 6,
   "id": "10137233",
   "metadata": {},
   "outputs": [],
   "source": [
    "# y = df['DEATH_EVENT']\n",
    "# x = df.drop('DEATH_EVENT',axis=1)"
   ]
  },
  {
   "cell_type": "code",
   "execution_count": 7,
   "id": "eec3004d",
   "metadata": {},
   "outputs": [],
   "source": [
    "# from sklearn.model_selection import train_test_split\n",
    "\n",
    "# x_train,x_test,y_train,y_test = train_test_split(x,y,test_size=0.2,random_state=0)"
   ]
  },
  {
   "cell_type": "code",
   "execution_count": 8,
   "id": "4cd5e4dd",
   "metadata": {},
   "outputs": [],
   "source": [
    "# from sklearn.svm import SVC\n",
    "# svm = SVC()\n"
   ]
  },
  {
   "cell_type": "code",
   "execution_count": 9,
   "id": "8cdf3c05",
   "metadata": {},
   "outputs": [],
   "source": [
    "# svm.fit(x_train,y_train)"
   ]
  },
  {
   "cell_type": "code",
   "execution_count": 10,
   "id": "b6cc1034",
   "metadata": {},
   "outputs": [],
   "source": [
    "# pred = svm.predict(x_test)"
   ]
  },
  {
   "cell_type": "code",
   "execution_count": 11,
   "id": "aa0d0919",
   "metadata": {},
   "outputs": [],
   "source": [
    "# from sklearn.metrics import classification_report, roc_auc_score\n",
    "# print(classification_report(y_test,pred))"
   ]
  },
  {
   "cell_type": "code",
   "execution_count": 12,
   "id": "c1176f21",
   "metadata": {},
   "outputs": [],
   "source": [
    "# svm.decision_function(x_test)"
   ]
  },
  {
   "cell_type": "code",
   "execution_count": 13,
   "id": "ff45b8b1",
   "metadata": {},
   "outputs": [],
   "source": [
    "# roc_auc_score(y_test,svm.decision_function(x_test))"
   ]
  },
  {
   "cell_type": "code",
   "execution_count": 14,
   "id": "539729c6",
   "metadata": {},
   "outputs": [],
   "source": [
    "# from sklearn.preprocessing import StandardScaler"
   ]
  },
  {
   "cell_type": "code",
   "execution_count": 15,
   "id": "cde35655",
   "metadata": {},
   "outputs": [],
   "source": [
    "# scaler = StandardScaler()"
   ]
  },
  {
   "cell_type": "code",
   "execution_count": 16,
   "id": "18fdea89",
   "metadata": {},
   "outputs": [],
   "source": [
    "# scaler.fit(x_train)"
   ]
  },
  {
   "cell_type": "code",
   "execution_count": 17,
   "id": "c52ced6a",
   "metadata": {},
   "outputs": [],
   "source": [
    "# x_train_scaled = scaler.transform(x_train)\n",
    "# x_test_scaled = scaler.transform(x_test)"
   ]
  },
  {
   "cell_type": "code",
   "execution_count": 18,
   "id": "9088b0ca",
   "metadata": {},
   "outputs": [],
   "source": [
    "# svm.fit(x_train_scaled,y_train) "
   ]
  },
  {
   "cell_type": "code",
   "execution_count": 19,
   "id": "357f4ea1",
   "metadata": {},
   "outputs": [],
   "source": [
    "# pred_scaled = svm.predict(x_test_scaled)"
   ]
  },
  {
   "cell_type": "code",
   "execution_count": 20,
   "id": "f3152091",
   "metadata": {},
   "outputs": [],
   "source": [
    "# print(classification_report(y_test,pred_scaled))"
   ]
  },
  {
   "cell_type": "code",
   "execution_count": 21,
   "id": "f867783c",
   "metadata": {},
   "outputs": [],
   "source": [
    "# # log, lgbm, rfc\n",
    "# from sklearn.linear_model import LogisticRegression\n",
    "# from lightgbm import LGBMClassifier\n",
    "# from sklearn.ensemble import RandomForestClassifier\n",
    "# log = LogisticRegression\n",
    "# lgbm = LGBMClassifier\n",
    "# rfc = RandomForestClassifier"
   ]
  },
  {
   "cell_type": "code",
   "execution_count": 22,
   "id": "3c78e9c0",
   "metadata": {},
   "outputs": [],
   "source": [
    "# models = [svm, log, lgbm, rfc]\n",
    "\n",
    "# for i in models:\n",
    "#     i.fit(x_train_scaled,y_train)\n",
    "#     pred2 = i.predict(x_test_scaled)\n",
    "#     decfunc2 = i.decision_function(x_test_scaled)\n",
    "#     print('{}cr:'.format(i),classification_report(y_test,pred2))\n",
    "#     print('roc_auc_:',roc_auc_score(y_test,decfunc2))\n",
    "#     print('*'*50)"
   ]
  },
  {
   "cell_type": "code",
   "execution_count": null,
   "id": "d8eba090",
   "metadata": {},
   "outputs": [],
   "source": []
  },
  {
   "cell_type": "code",
   "execution_count": null,
   "id": "711920aa",
   "metadata": {},
   "outputs": [],
   "source": []
  },
  {
   "cell_type": "code",
   "execution_count": null,
   "id": "95da5c20",
   "metadata": {},
   "outputs": [],
   "source": []
  },
  {
   "cell_type": "code",
   "execution_count": null,
   "id": "26fefc00",
   "metadata": {},
   "outputs": [],
   "source": []
  },
  {
   "cell_type": "code",
   "execution_count": null,
   "id": "76e210be",
   "metadata": {},
   "outputs": [],
   "source": []
  },
  {
   "cell_type": "code",
   "execution_count": null,
   "id": "4c8b9e68",
   "metadata": {},
   "outputs": [],
   "source": []
  },
  {
   "cell_type": "code",
   "execution_count": 23,
   "id": "37781c48",
   "metadata": {},
   "outputs": [],
   "source": [
    "# 샘시작"
   ]
  },
  {
   "cell_type": "code",
   "execution_count": 24,
   "id": "f7b1d33e",
   "metadata": {},
   "outputs": [
    {
     "data": {
      "text/html": [
       "<div>\n",
       "<style scoped>\n",
       "    .dataframe tbody tr th:only-of-type {\n",
       "        vertical-align: middle;\n",
       "    }\n",
       "\n",
       "    .dataframe tbody tr th {\n",
       "        vertical-align: top;\n",
       "    }\n",
       "\n",
       "    .dataframe thead th {\n",
       "        text-align: right;\n",
       "    }\n",
       "</style>\n",
       "<table border=\"1\" class=\"dataframe\">\n",
       "  <thead>\n",
       "    <tr style=\"text-align: right;\">\n",
       "      <th></th>\n",
       "      <th>age</th>\n",
       "      <th>anaemia</th>\n",
       "      <th>creatinine_phosphokinase</th>\n",
       "      <th>diabetes</th>\n",
       "      <th>ejection_fraction</th>\n",
       "      <th>high_blood_pressure</th>\n",
       "      <th>platelets</th>\n",
       "      <th>serum_creatinine</th>\n",
       "      <th>serum_sodium</th>\n",
       "      <th>sex</th>\n",
       "      <th>smoking</th>\n",
       "      <th>time</th>\n",
       "      <th>DEATH_EVENT</th>\n",
       "    </tr>\n",
       "  </thead>\n",
       "  <tbody>\n",
       "    <tr>\n",
       "      <th>0</th>\n",
       "      <td>75.0</td>\n",
       "      <td>0</td>\n",
       "      <td>582</td>\n",
       "      <td>0</td>\n",
       "      <td>20</td>\n",
       "      <td>1</td>\n",
       "      <td>265000.00</td>\n",
       "      <td>1.9</td>\n",
       "      <td>130</td>\n",
       "      <td>1</td>\n",
       "      <td>0</td>\n",
       "      <td>4</td>\n",
       "      <td>1</td>\n",
       "    </tr>\n",
       "    <tr>\n",
       "      <th>1</th>\n",
       "      <td>55.0</td>\n",
       "      <td>0</td>\n",
       "      <td>7861</td>\n",
       "      <td>0</td>\n",
       "      <td>38</td>\n",
       "      <td>0</td>\n",
       "      <td>263358.03</td>\n",
       "      <td>1.1</td>\n",
       "      <td>136</td>\n",
       "      <td>1</td>\n",
       "      <td>0</td>\n",
       "      <td>6</td>\n",
       "      <td>1</td>\n",
       "    </tr>\n",
       "    <tr>\n",
       "      <th>2</th>\n",
       "      <td>65.0</td>\n",
       "      <td>0</td>\n",
       "      <td>146</td>\n",
       "      <td>0</td>\n",
       "      <td>20</td>\n",
       "      <td>0</td>\n",
       "      <td>162000.00</td>\n",
       "      <td>1.3</td>\n",
       "      <td>129</td>\n",
       "      <td>1</td>\n",
       "      <td>1</td>\n",
       "      <td>7</td>\n",
       "      <td>1</td>\n",
       "    </tr>\n",
       "    <tr>\n",
       "      <th>3</th>\n",
       "      <td>50.0</td>\n",
       "      <td>1</td>\n",
       "      <td>111</td>\n",
       "      <td>0</td>\n",
       "      <td>20</td>\n",
       "      <td>0</td>\n",
       "      <td>210000.00</td>\n",
       "      <td>1.9</td>\n",
       "      <td>137</td>\n",
       "      <td>1</td>\n",
       "      <td>0</td>\n",
       "      <td>7</td>\n",
       "      <td>1</td>\n",
       "    </tr>\n",
       "    <tr>\n",
       "      <th>4</th>\n",
       "      <td>65.0</td>\n",
       "      <td>1</td>\n",
       "      <td>160</td>\n",
       "      <td>1</td>\n",
       "      <td>20</td>\n",
       "      <td>0</td>\n",
       "      <td>327000.00</td>\n",
       "      <td>2.7</td>\n",
       "      <td>116</td>\n",
       "      <td>0</td>\n",
       "      <td>0</td>\n",
       "      <td>8</td>\n",
       "      <td>1</td>\n",
       "    </tr>\n",
       "  </tbody>\n",
       "</table>\n",
       "</div>"
      ],
      "text/plain": [
       "    age  anaemia  creatinine_phosphokinase  diabetes  ejection_fraction  \\\n",
       "0  75.0        0                       582         0                 20   \n",
       "1  55.0        0                      7861         0                 38   \n",
       "2  65.0        0                       146         0                 20   \n",
       "3  50.0        1                       111         0                 20   \n",
       "4  65.0        1                       160         1                 20   \n",
       "\n",
       "   high_blood_pressure  platelets  serum_creatinine  serum_sodium  sex  \\\n",
       "0                    1  265000.00               1.9           130    1   \n",
       "1                    0  263358.03               1.1           136    1   \n",
       "2                    0  162000.00               1.3           129    1   \n",
       "3                    0  210000.00               1.9           137    1   \n",
       "4                    0  327000.00               2.7           116    0   \n",
       "\n",
       "   smoking  time  DEATH_EVENT  \n",
       "0        0     4            1  \n",
       "1        0     6            1  \n",
       "2        1     7            1  \n",
       "3        0     7            1  \n",
       "4        0     8            1  "
      ]
     },
     "execution_count": 24,
     "metadata": {},
     "output_type": "execute_result"
    }
   ],
   "source": [
    "df.head()"
   ]
  },
  {
   "cell_type": "code",
   "execution_count": 25,
   "id": "60ee944f",
   "metadata": {},
   "outputs": [],
   "source": [
    "y = df.DEATH_EVENT\n",
    "x = df.drop('DEATH_EVENT',axis=1)"
   ]
  },
  {
   "cell_type": "code",
   "execution_count": 26,
   "id": "59ac273d",
   "metadata": {},
   "outputs": [
    {
     "data": {
      "text/plain": [
       "age                         float64\n",
       "anaemia                       int64\n",
       "creatinine_phosphokinase      int64\n",
       "diabetes                      int64\n",
       "ejection_fraction             int64\n",
       "high_blood_pressure           int64\n",
       "platelets                   float64\n",
       "serum_creatinine            float64\n",
       "serum_sodium                  int64\n",
       "sex                           int64\n",
       "smoking                       int64\n",
       "time                          int64\n",
       "dtype: object"
      ]
     },
     "execution_count": 26,
     "metadata": {},
     "output_type": "execute_result"
    }
   ],
   "source": [
    "x.dtypes\n",
    "#확인해봤더니 다 숫자로되어있어서 겟더미즈 할 필요가 없음 "
   ]
  },
  {
   "cell_type": "code",
   "execution_count": 27,
   "id": "0a1ed151",
   "metadata": {},
   "outputs": [
    {
     "data": {
      "text/plain": [
       "age                         0\n",
       "anaemia                     0\n",
       "creatinine_phosphokinase    0\n",
       "diabetes                    0\n",
       "ejection_fraction           0\n",
       "high_blood_pressure         0\n",
       "platelets                   0\n",
       "serum_creatinine            0\n",
       "serum_sodium                0\n",
       "sex                         0\n",
       "smoking                     0\n",
       "time                        0\n",
       "dtype: int64"
      ]
     },
     "execution_count": 27,
     "metadata": {},
     "output_type": "execute_result"
    }
   ],
   "source": [
    "x.isnull().sum()\n",
    "#난값도없음 그래서 딱히 전처리가 필요하진 않음"
   ]
  },
  {
   "cell_type": "code",
   "execution_count": 28,
   "id": "57431edf",
   "metadata": {},
   "outputs": [],
   "source": [
    "from sklearn.model_selection import train_test_split\n",
    "x_train,x_test,y_train,y_test = train_test_split(x,y,test_size=0.2,random_state=0)"
   ]
  },
  {
   "cell_type": "code",
   "execution_count": 29,
   "id": "bac43d6a",
   "metadata": {},
   "outputs": [
    {
     "name": "stderr",
     "output_type": "stream",
     "text": [
      "C:\\Users\\sim\\Anaconda3\\lib\\site-packages\\xgboost\\compat.py:36: FutureWarning: pandas.Int64Index is deprecated and will be removed from pandas in a future version. Use pandas.Index with the appropriate dtype instead.\n",
      "  from pandas import MultiIndex, Int64Index\n"
     ]
    }
   ],
   "source": [
    "from sklearn.linear_model import LogisticRegression\n",
    "from sklearn.ensemble import RandomForestClassifier\n",
    "from xgboost import XGBClassifier\n",
    "from lightgbm import LGBMClassifier\n",
    "\n",
    "from sklearn.metrics import classification_report,f1_score,roc_auc_score,accuracy_score"
   ]
  },
  {
   "cell_type": "code",
   "execution_count": 30,
   "id": "28447e0e",
   "metadata": {},
   "outputs": [],
   "source": [
    "log = LogisticRegression()\n",
    "rfc =RandomForestClassifier()\n",
    "xgb =XGBClassifier()\n",
    "lgbm =LGBMClassifier()"
   ]
  },
  {
   "cell_type": "code",
   "execution_count": 31,
   "id": "e76acf9d",
   "metadata": {},
   "outputs": [],
   "source": [
    "models = [log, rfc, xgb, lgbm]"
   ]
  },
  {
   "cell_type": "code",
   "execution_count": 32,
   "id": "cf25d681",
   "metadata": {},
   "outputs": [
    {
     "name": "stdout",
     "output_type": "stream",
     "text": [
      "<class 'sklearn.linear_model._logistic.LogisticRegression'> __main__\n",
      "              precision    recall  f1-score   support\n",
      "\n",
      "           0       0.71      0.95      0.81        37\n",
      "           1       0.82      0.39      0.53        23\n",
      "\n",
      "    accuracy                           0.73        60\n",
      "   macro avg       0.77      0.67      0.67        60\n",
      "weighted avg       0.75      0.73      0.70        60\n",
      "\n",
      "roc_auc_score: 0.826086956521739\n",
      "**************************************************\n",
      "<class 'sklearn.ensemble._forest.RandomForestClassifier'> __main__\n",
      "              precision    recall  f1-score   support\n",
      "\n",
      "           0       0.81      0.95      0.88        37\n",
      "           1       0.88      0.65      0.75        23\n",
      "\n",
      "    accuracy                           0.83        60\n",
      "   macro avg       0.85      0.80      0.81        60\n",
      "weighted avg       0.84      0.83      0.83        60\n",
      "\n",
      "roc_auc_score: 0.9441833137485312\n",
      "**************************************************\n",
      "[14:30:51] WARNING: C:/Users/Administrator/workspace/xgboost-win64_release_1.5.1/src/learner.cc:1115: Starting in XGBoost 1.3.0, the default evaluation metric used with the objective 'binary:logistic' was changed from 'error' to 'logloss'. Explicitly set eval_metric if you'd like to restore the old behavior.\n",
      "<class 'xgboost.sklearn.XGBClassifier'> __main__\n",
      "              precision    recall  f1-score   support\n",
      "\n",
      "           0       0.82      0.89      0.86        37\n",
      "           1       0.80      0.70      0.74        23\n",
      "\n",
      "    accuracy                           0.82        60\n",
      "   macro avg       0.81      0.79      0.80        60\n",
      "weighted avg       0.82      0.82      0.81        60\n",
      "\n",
      "roc_auc_score: 0.9036427732079906\n",
      "**************************************************\n",
      "<class 'lightgbm.sklearn.LGBMClassifier'> __main__\n",
      "              precision    recall  f1-score   support\n",
      "\n",
      "           0       0.83      0.95      0.89        37\n",
      "           1       0.89      0.70      0.78        23\n",
      "\n",
      "    accuracy                           0.85        60\n",
      "   macro avg       0.86      0.82      0.83        60\n",
      "weighted avg       0.85      0.85      0.85        60\n",
      "\n",
      "roc_auc_score: 0.9330199764982374\n",
      "**************************************************\n"
     ]
    },
    {
     "name": "stderr",
     "output_type": "stream",
     "text": [
      "C:\\Users\\sim\\Anaconda3\\lib\\site-packages\\xgboost\\sklearn.py:1224: UserWarning: The use of label encoder in XGBClassifier is deprecated and will be removed in a future release. To remove this warning, do the following: 1) Pass option use_label_encoder=False when constructing XGBClassifier object; and 2) Encode your labels (y) as integers starting with 0, i.e. 0, 1, 2, ..., [num_class - 1].\n",
      "  warnings.warn(label_encoder_deprecation_msg, UserWarning)\n",
      "C:\\Users\\sim\\Anaconda3\\lib\\site-packages\\xgboost\\data.py:262: FutureWarning: pandas.Int64Index is deprecated and will be removed from pandas in a future version. Use pandas.Index with the appropriate dtype instead.\n",
      "  elif isinstance(data.columns, (pd.Int64Index, pd.RangeIndex)):\n"
     ]
    }
   ],
   "source": [
    "trained_models = []\n",
    "for m in models:\n",
    "    m.fit(x_train,y_train)\n",
    "    preds = m.predict(x_test)\n",
    "    proba = m.predict_proba(x_test)[:,1]\n",
    "    print(m.__class__,__name__)\n",
    "    print(classification_report(y_test,preds))\n",
    "    print('roc_auc_score:',roc_auc_score(y_test,proba))\n",
    "    print('*'*50)"
   ]
  },
  {
   "cell_type": "code",
   "execution_count": 33,
   "id": "fe057c21",
   "metadata": {},
   "outputs": [],
   "source": [
    "# 여기까지 최적화 안하고 그냥한거 \n",
    "# 그래서 최적화가 필요. \n",
    "# 데이터를 보니 만단위도 있고 1단위도있어서 스케일차가 큼. \n",
    "# 그래서 스케일링 해줄필요가있음"
   ]
  },
  {
   "cell_type": "code",
   "execution_count": 34,
   "id": "493ced27",
   "metadata": {},
   "outputs": [],
   "source": [
    "from sklearn.preprocessing import StandardScaler"
   ]
  },
  {
   "cell_type": "code",
   "execution_count": 35,
   "id": "8dc0e376",
   "metadata": {},
   "outputs": [],
   "source": [
    "scaler = StandardScaler()\n",
    "scaler.fit(x_train)\n",
    "\n",
    "x_train_scaled = scaler.transform(x_train)\n",
    "x_test_scaled = scaler.transform(x_test)"
   ]
  },
  {
   "cell_type": "code",
   "execution_count": 36,
   "id": "e953e10e",
   "metadata": {},
   "outputs": [
    {
     "name": "stdout",
     "output_type": "stream",
     "text": [
      "<class 'sklearn.linear_model._logistic.LogisticRegression'> __main__\n",
      "              precision    recall  f1-score   support\n",
      "\n",
      "           0       0.75      0.97      0.85        37\n",
      "           1       0.92      0.48      0.63        23\n",
      "\n",
      "    accuracy                           0.78        60\n",
      "   macro avg       0.83      0.73      0.74        60\n",
      "weighted avg       0.81      0.78      0.76        60\n",
      "\n",
      "roc_auc_score: 0.8601645123384254\n",
      "**************************************************\n",
      "<class 'sklearn.ensemble._forest.RandomForestClassifier'> __main__\n",
      "              precision    recall  f1-score   support\n",
      "\n",
      "           0       0.82      0.97      0.89        37\n",
      "           1       0.94      0.65      0.77        23\n",
      "\n",
      "    accuracy                           0.85        60\n",
      "   macro avg       0.88      0.81      0.83        60\n",
      "weighted avg       0.86      0.85      0.84        60\n",
      "\n",
      "roc_auc_score: 0.9336075205640424\n",
      "**************************************************\n",
      "[14:30:52] WARNING: C:/Users/Administrator/workspace/xgboost-win64_release_1.5.1/src/learner.cc:1115: Starting in XGBoost 1.3.0, the default evaluation metric used with the objective 'binary:logistic' was changed from 'error' to 'logloss'. Explicitly set eval_metric if you'd like to restore the old behavior.\n",
      "<class 'xgboost.sklearn.XGBClassifier'> __main__\n",
      "              precision    recall  f1-score   support\n",
      "\n",
      "           0       0.82      0.89      0.86        37\n",
      "           1       0.80      0.70      0.74        23\n",
      "\n",
      "    accuracy                           0.82        60\n",
      "   macro avg       0.81      0.79      0.80        60\n",
      "weighted avg       0.82      0.82      0.81        60\n",
      "\n",
      "roc_auc_score: 0.9036427732079906\n",
      "**************************************************\n",
      "<class 'lightgbm.sklearn.LGBMClassifier'> __main__\n",
      "              precision    recall  f1-score   support\n",
      "\n",
      "           0       0.85      0.95      0.90        37\n",
      "           1       0.89      0.74      0.81        23\n",
      "\n",
      "    accuracy                           0.87        60\n",
      "   macro avg       0.87      0.84      0.85        60\n",
      "weighted avg       0.87      0.87      0.86        60\n",
      "\n",
      "roc_auc_score: 0.9330199764982373\n",
      "**************************************************\n"
     ]
    },
    {
     "name": "stderr",
     "output_type": "stream",
     "text": [
      "C:\\Users\\sim\\Anaconda3\\lib\\site-packages\\xgboost\\sklearn.py:1224: UserWarning: The use of label encoder in XGBClassifier is deprecated and will be removed in a future release. To remove this warning, do the following: 1) Pass option use_label_encoder=False when constructing XGBClassifier object; and 2) Encode your labels (y) as integers starting with 0, i.e. 0, 1, 2, ..., [num_class - 1].\n",
      "  warnings.warn(label_encoder_deprecation_msg, UserWarning)\n"
     ]
    }
   ],
   "source": [
    "# 스케일한 데이터로 다시한번 시켜보면 \n",
    "trained_models = []\n",
    "for m in models:\n",
    "    m.fit(x_train_scaled,y_train)\n",
    "    preds = m.predict(x_test_scaled)\n",
    "    proba = m.predict_proba(x_test_scaled)[:,1]\n",
    "    print(m.__class__,__name__)\n",
    "    print(classification_report(y_test,preds))\n",
    "    print('roc_auc_score:',roc_auc_score(y_test,proba))\n",
    "    print('*'*50)"
   ]
  },
  {
   "cell_type": "code",
   "execution_count": 37,
   "id": "c510214a",
   "metadata": {},
   "outputs": [
    {
     "data": {
      "text/plain": [
       "0     0.341600\n",
       "1     0.227397\n",
       "2     4.700192\n",
       "3     0.348259\n",
       "4     0.453647\n",
       "5     0.546526\n",
       "6     1.595701\n",
       "7     4.514097\n",
       "8    -1.146346\n",
       "9    -0.622233\n",
       "10    0.781661\n",
       "11    0.140871\n",
       "dtype: float64"
      ]
     },
     "execution_count": 37,
     "metadata": {},
     "output_type": "execute_result"
    }
   ],
   "source": [
    "from scipy.stats import skew\n",
    "pd.DataFrame(x_train_scaled).apply(lambda x: skew(x))"
   ]
  },
  {
   "cell_type": "code",
   "execution_count": 38,
   "id": "c8303850",
   "metadata": {},
   "outputs": [],
   "source": [
    "# skew => np.log1p"
   ]
  },
  {
   "cell_type": "code",
   "execution_count": 39,
   "id": "56870910",
   "metadata": {},
   "outputs": [
    {
     "data": {
      "text/plain": [
       "array([ 1.61860178e+00, -4.99874415e-01,  1.12394085e-02, -4.91507162e-01,\n",
       "       -7.48517494e-01, -6.81836016e-01, -2.72394979e-01, -7.35671309e-01,\n",
       "       -7.52836491e-01,  6.01455209e-01, -7.39935061e-01, -7.42073774e-01,\n",
       "       -4.53894679e-01, -6.11778164e-01,  3.21576783e-01, -7.22988059e-01,\n",
       "        2.54328216e-01, -7.37800913e-01, -7.31425660e-01,  1.12394085e-02,\n",
       "       -6.28837887e-01, -7.10463661e-01, -3.11986746e-01, -4.36394225e-01,\n",
       "       -6.17432463e-01, -6.69813538e-01, -4.55500921e-01,  1.12394085e-02,\n",
       "       -6.77812442e-01, -6.36514419e-01,  1.12394085e-02,  1.72691461e-02,\n",
       "        1.12394085e-02, -4.05339262e-01, -6.25021607e-01,  2.96885486e-01,\n",
       "        1.12394085e-02, -3.81171500e-01, -5.15114194e-01, -6.06155657e-01,\n",
       "        1.15223646e+00,  5.27034415e-02, -5.28858433e-01,  1.49535115e+00,\n",
       "        1.12394085e-02,  1.00845416e-01,  1.12394085e-02, -5.87639051e-01,\n",
       "        1.12394085e-02, -5.95004601e-01, -2.75075690e-01, -5.98707821e-01,\n",
       "       -5.44549920e-01, -7.46364970e-01, -5.73068733e-01,  2.11255304e+00,\n",
       "       -7.22988059e-01, -6.85875845e-01, -5.98707821e-01, -6.00564586e-01,\n",
       "       -7.14621055e-01, -5.93158121e-01, -5.62278643e-01, -7.04259797e-01,\n",
       "       -7.63716305e-01, -3.34520651e-01, -6.63856071e-01,  7.97180302e-01,\n",
       "       -5.96854496e-01, -5.42794213e-01, -5.97663462e-02, -4.81558006e-01,\n",
       "       -2.98156629e-01, -6.34589755e-01,  7.37554165e-02, -3.85658689e-01,\n",
       "        8.22414607e-02,  3.98369677e-01,  1.12394085e-02, -5.87639051e-01,\n",
       "       -5.28858433e-01,  8.46034526e-01,  3.77623067e-01, -6.32668787e-01,\n",
       "       -3.96207768e-01, -2.44673036e-01,  1.12394085e-02,  1.12394085e-02,\n",
       "       -6.50091802e-01,  4.68842343e-02,  1.00913915e+00,  1.12394085e-02,\n",
       "       -4.03811544e-01, -4.57109748e-01,  1.12394085e-02, -7.16706252e-01,\n",
       "       -6.71807274e-01, -5.67659135e-01,  1.29910070e-01, -7.50674660e-01,\n",
       "        2.38392528e-01, -7.63716305e-01, -6.91966354e-01,  1.12394085e-02,\n",
       "        2.00747067e-01, -6.08026316e-01, -6.94004794e-01, -4.25414949e-01,\n",
       "        6.18670417e-03,  3.42783055e-01, -5.08312270e-01,  1.12394085e-02,\n",
       "        5.02286978e-01, -6.36514419e-01,  8.54745112e-01,  1.12394085e-02,\n",
       "        8.15837804e-01, -4.55500921e-01, -7.44217070e-01, -6.02424805e-01,\n",
       "        1.71123326e-01, -3.50312617e-01, -6.48140853e-01,  4.96719624e-01,\n",
       "        1.00167941e+00, -2.30453032e-01, -6.94004794e-01, -5.49835613e-01,\n",
       "        1.12394085e-02, -5.53374994e-01, -6.19324357e-01,  1.12394085e-02,\n",
       "       -7.35671309e-01, -6.11778164e-01, -5.73068733e-01,  1.12394085e-02,\n",
       "       -5.71262280e-01, -5.91315044e-01,  8.21233328e-01, -7.22988059e-01,\n",
       "        1.41480449e-01, -6.28837887e-01, -5.98707821e-01, -1.84281260e-02,\n",
       "       -6.98094184e-01,  9.23446791e-01, -3.35946024e-01, -7.29309576e-01,\n",
       "        1.09490888e+00,  1.12394085e-02, -6.85875845e-01, -4.70074398e-01,\n",
       "       -9.95035517e-02, -3.16173356e-01, -7.27197960e-01,  4.19365034e-01,\n",
       "        4.94856931e-01,  1.05702519e+00,  1.12394085e-02, -4.02286156e-01,\n",
       "       -5.41041583e-01, -7.37800913e-01, -3.51760694e-01,  1.12394085e-02,\n",
       "       -7.18795806e-01,  2.14002486e-01, -1.36201922e-01, -7.27197960e-01,\n",
       "       -9.50095216e-02, -2.87228621e-01,  2.86988720e-01, -7.02200366e-01,\n",
       "       -7.27197960e-01, -4.25414949e-01,  1.12394085e-02,  2.87753497e-01,\n",
       "        1.12394085e-02,  3.61269333e-02,  2.38392528e-01, -6.67823770e-01,\n",
       "       -7.18795806e-01,  2.13196385e+00,  1.56411721e-01,  1.12394085e-02,\n",
       "        1.12394085e-02,  8.95654104e-05, -2.84515177e-01,  1.40595158e-01,\n",
       "       -2.73734436e-01,  1.12394085e-02, -3.84160721e-01, -5.98707821e-01,\n",
       "        1.13959682e+00, -4.86520211e-01, -7.16706252e-01,  1.06724528e+00,\n",
       "       -5.93158121e-01, -3.99242344e-01, -7.35671309e-01, -6.55967591e-01,\n",
       "        1.02864247e+00, -8.01618952e-01,  1.12394085e-02, -6.59904053e-01,\n",
       "       -8.17653335e-01, -3.97723905e-01, -4.74979805e-01, -6.46193703e-01,\n",
       "        4.39618825e-02,  1.12394085e-02,  7.22332572e-01,  1.12394085e-02,\n",
       "       -7.16706252e-01, -7.33546232e-01, -5.30589822e-01,  4.86118187e-01,\n",
       "       -1.91433328e-01, -3.26010821e-01,  1.85849012e+00, -5.64068926e-01,\n",
       "        1.89846143e-01, -3.91673101e-01, -4.78263497e-01,  2.83156038e-01,\n",
       "       -4.19194778e-01, -4.25414949e-01, -6.85875845e-01, -5.64068926e-01,\n",
       "       -7.18795806e-01, -6.73804992e-01,  1.12394085e-02,  1.12394085e-02,\n",
       "       -6.09900481e-01, -1.69456331e-01,  1.10834031e-03, -6.13659381e-01,\n",
       "       -6.50091802e-01,  1.12394085e-02, -5.23682181e-01])"
      ]
     },
     "execution_count": 39,
     "metadata": {},
     "output_type": "execute_result"
    }
   ],
   "source": [
    "x_train_scaled[:,2] = np.log1p(x_train_scaled[:,2])\n",
    "x_train_scaled[:,7] = np.log1p(x_train_scaled[:,7])\n",
    "\n",
    "x_train_scaled[:,2]"
   ]
  },
  {
   "cell_type": "code",
   "execution_count": 40,
   "id": "4c0e2e50",
   "metadata": {},
   "outputs": [
    {
     "name": "stdout",
     "output_type": "stream",
     "text": [
      "<class 'sklearn.linear_model._logistic.LogisticRegression'> __main__\n",
      "              precision    recall  f1-score   support\n",
      "\n",
      "           0       0.77      0.92      0.84        37\n",
      "           1       0.81      0.57      0.67        23\n",
      "\n",
      "    accuracy                           0.78        60\n",
      "   macro avg       0.79      0.74      0.75        60\n",
      "weighted avg       0.79      0.78      0.77        60\n",
      "\n",
      "roc_auc_score: 0.873090481786134\n",
      "**************************************************\n",
      "<class 'sklearn.ensemble._forest.RandomForestClassifier'> __main__\n",
      "              precision    recall  f1-score   support\n",
      "\n",
      "           0       0.81      0.95      0.88        37\n",
      "           1       0.88      0.65      0.75        23\n",
      "\n",
      "    accuracy                           0.83        60\n",
      "   macro avg       0.85      0.80      0.81        60\n",
      "weighted avg       0.84      0.83      0.83        60\n",
      "\n",
      "roc_auc_score: 0.927144535840188\n",
      "**************************************************\n",
      "[14:30:52] WARNING: C:/Users/Administrator/workspace/xgboost-win64_release_1.5.1/src/learner.cc:1115: Starting in XGBoost 1.3.0, the default evaluation metric used with the objective 'binary:logistic' was changed from 'error' to 'logloss'. Explicitly set eval_metric if you'd like to restore the old behavior.\n",
      "<class 'xgboost.sklearn.XGBClassifier'> __main__\n",
      "              precision    recall  f1-score   support\n",
      "\n",
      "           0       0.82      0.84      0.83        37\n",
      "           1       0.73      0.70      0.71        23\n",
      "\n",
      "    accuracy                           0.78        60\n",
      "   macro avg       0.77      0.77      0.77        60\n",
      "weighted avg       0.78      0.78      0.78        60\n",
      "\n",
      "roc_auc_score: 0.9036427732079906\n",
      "**************************************************\n",
      "<class 'lightgbm.sklearn.LGBMClassifier'> __main__\n",
      "              precision    recall  f1-score   support\n",
      "\n",
      "           0       0.81      0.92      0.86        37\n",
      "           1       0.83      0.65      0.73        23\n",
      "\n",
      "    accuracy                           0.82        60\n",
      "   macro avg       0.82      0.79      0.80        60\n",
      "weighted avg       0.82      0.82      0.81        60\n",
      "\n",
      "roc_auc_score: 0.9341950646298474\n",
      "**************************************************\n"
     ]
    },
    {
     "name": "stderr",
     "output_type": "stream",
     "text": [
      "C:\\Users\\sim\\Anaconda3\\lib\\site-packages\\xgboost\\sklearn.py:1224: UserWarning: The use of label encoder in XGBClassifier is deprecated and will be removed in a future release. To remove this warning, do the following: 1) Pass option use_label_encoder=False when constructing XGBClassifier object; and 2) Encode your labels (y) as integers starting with 0, i.e. 0, 1, 2, ..., [num_class - 1].\n",
      "  warnings.warn(label_encoder_deprecation_msg, UserWarning)\n"
     ]
    }
   ],
   "source": [
    "# 로그값을 씌운 데이터로 다시한번 시켜보면 \n",
    "trained_models = []\n",
    "for m in models:\n",
    "    m.fit(x_train_scaled,y_train)\n",
    "    preds = m.predict(x_test_scaled)\n",
    "    proba = m.predict_proba(x_test_scaled)[:,1]\n",
    "    print(m.__class__,__name__)\n",
    "    print(classification_report(y_test,preds))\n",
    "    print('roc_auc_score:',roc_auc_score(y_test,proba))\n",
    "    print('*'*50)"
   ]
  },
  {
   "cell_type": "code",
   "execution_count": null,
   "id": "e41c0d00",
   "metadata": {},
   "outputs": [],
   "source": []
  },
  {
   "cell_type": "code",
   "execution_count": null,
   "id": "45848e18",
   "metadata": {},
   "outputs": [],
   "source": []
  },
  {
   "cell_type": "code",
   "execution_count": null,
   "id": "9a0120e6",
   "metadata": {},
   "outputs": [],
   "source": []
  },
  {
   "cell_type": "code",
   "execution_count": null,
   "id": "8a2197e7",
   "metadata": {},
   "outputs": [],
   "source": []
  }
 ],
 "metadata": {
  "kernelspec": {
   "display_name": "Python 3 (ipykernel)",
   "language": "python",
   "name": "python3"
  },
  "language_info": {
   "codemirror_mode": {
    "name": "ipython",
    "version": 3
   },
   "file_extension": ".py",
   "mimetype": "text/x-python",
   "name": "python",
   "nbconvert_exporter": "python",
   "pygments_lexer": "ipython3",
   "version": "3.9.7"
  }
 },
 "nbformat": 4,
 "nbformat_minor": 5
}

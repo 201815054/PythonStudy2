{
 "cells": [
  {
   "cell_type": "code",
   "execution_count": 1,
   "id": "a7541ea5",
   "metadata": {},
   "outputs": [],
   "source": [
    "import pandas as pd\n",
    "import numpy as np\n",
    "import matplotlib.pyplot as plt \n",
    "import seaborn as sns\n"
   ]
  },
  {
   "cell_type": "code",
   "execution_count": 32,
   "id": "26184117",
   "metadata": {},
   "outputs": [],
   "source": [
    "from tensorflow.keras.models import Sequential \n",
    "from tensorflow.keras.layers import Dense,Conv2D, MaxPooling2D,Flatten,Dropout\n",
    "import tensorflow as tf \n",
    "from tensorflow.keras.datasets import cifar100\n",
    "from tensorflow.keras.utils import to_categorical"
   ]
  },
  {
   "cell_type": "code",
   "execution_count": 33,
   "id": "6d178a8c",
   "metadata": {},
   "outputs": [],
   "source": [
    "(x_train,y_train),(x_test,y_test) = cifar100.load_data()\n"
   ]
  },
  {
   "cell_type": "code",
   "execution_count": 34,
   "id": "b9bda0c3",
   "metadata": {},
   "outputs": [
    {
     "name": "stdout",
     "output_type": "stream",
     "text": [
      "(50000, 32, 32, 3) (10000, 32, 32, 3)\n"
     ]
    }
   ],
   "source": [
    "print(x_train.shape,x_test.shape)"
   ]
  },
  {
   "cell_type": "code",
   "execution_count": 35,
   "id": "6c7c7558",
   "metadata": {},
   "outputs": [
    {
     "data": {
      "text/plain": [
       "(50000, 1)"
      ]
     },
     "execution_count": 35,
     "metadata": {},
     "output_type": "execute_result"
    }
   ],
   "source": [
    "y_train.shape"
   ]
  },
  {
   "cell_type": "code",
   "execution_count": 36,
   "id": "c40bbc38",
   "metadata": {},
   "outputs": [
    {
     "data": {
      "text/plain": [
       "array([ 0,  1,  2,  3,  4,  5,  6,  7,  8,  9, 10, 11, 12, 13, 14, 15, 16,\n",
       "       17, 18, 19, 20, 21, 22, 23, 24, 25, 26, 27, 28, 29, 30, 31, 32, 33,\n",
       "       34, 35, 36, 37, 38, 39, 40, 41, 42, 43, 44, 45, 46, 47, 48, 49, 50,\n",
       "       51, 52, 53, 54, 55, 56, 57, 58, 59, 60, 61, 62, 63, 64, 65, 66, 67,\n",
       "       68, 69, 70, 71, 72, 73, 74, 75, 76, 77, 78, 79, 80, 81, 82, 83, 84,\n",
       "       85, 86, 87, 88, 89, 90, 91, 92, 93, 94, 95, 96, 97, 98, 99])"
      ]
     },
     "execution_count": 36,
     "metadata": {},
     "output_type": "execute_result"
    }
   ],
   "source": [
    "np.unique([i[0] for  i in y_train])"
   ]
  },
  {
   "cell_type": "code",
   "execution_count": 37,
   "id": "af2b2891",
   "metadata": {},
   "outputs": [],
   "source": [
    "# plt.imshow(x_train[0])"
   ]
  },
  {
   "cell_type": "code",
   "execution_count": 38,
   "id": "85c0154f",
   "metadata": {},
   "outputs": [],
   "source": [
    "# plt.imshow(x_train[1])"
   ]
  },
  {
   "cell_type": "code",
   "execution_count": 39,
   "id": "89ebaff8",
   "metadata": {},
   "outputs": [],
   "source": [
    "# fig = plt.figure(figsize=(20,5))\n",
    "\n",
    "# for i in range(36):\n",
    "#     ax = fig.add_subplot(3,12,i+1,xticks=[],yticks=[])\n",
    "#     ax.imshow(x_train[i])"
   ]
  },
  {
   "cell_type": "code",
   "execution_count": 40,
   "id": "b670dc4b",
   "metadata": {},
   "outputs": [],
   "source": [
    "x_train = x_train.astype('float32')/255.0\n",
    "x_test = x_test.astype('float32')/255.0"
   ]
  },
  {
   "cell_type": "code",
   "execution_count": 41,
   "id": "6d75d592",
   "metadata": {},
   "outputs": [],
   "source": [
    "y_train_oh = to_categorical(y_train, 100)  #class가 100가지.. \n",
    "y_test_oh = to_categorical(y_train, 100)"
   ]
  },
  {
   "cell_type": "code",
   "execution_count": 45,
   "id": "ff048968",
   "metadata": {},
   "outputs": [
    {
     "name": "stdout",
     "output_type": "stream",
     "text": [
      "Model: \"sequential_2\"\n",
      "_________________________________________________________________\n",
      " Layer (type)                Output Shape              Param #   \n",
      "=================================================================\n",
      " conv2d_4 (Conv2D)           (None, 30, 30, 32)        896       \n",
      "                                                                 \n",
      " max_pooling2d_4 (MaxPooling  (None, 15, 15, 32)       0         \n",
      " 2D)                                                             \n",
      "                                                                 \n",
      " dropout_4 (Dropout)         (None, 15, 15, 32)        0         \n",
      "                                                                 \n",
      " conv2d_5 (Conv2D)           (None, 13, 13, 64)        18496     \n",
      "                                                                 \n",
      " max_pooling2d_5 (MaxPooling  (None, 6, 6, 64)         0         \n",
      " 2D)                                                             \n",
      "                                                                 \n",
      " dropout_5 (Dropout)         (None, 6, 6, 64)          0         \n",
      "                                                                 \n",
      " flatten_2 (Flatten)         (None, 2304)              0         \n",
      "                                                                 \n",
      " dense_5 (Dense)             (None, 500)               1152500   \n",
      "                                                                 \n",
      " dropout_6 (Dropout)         (None, 500)               0         \n",
      "                                                                 \n",
      " dense_6 (Dense)             (None, 250)               125250    \n",
      "                                                                 \n",
      " dropout_7 (Dropout)         (None, 250)               0         \n",
      "                                                                 \n",
      " dense_7 (Dense)             (None, 100)               25100     \n",
      "                                                                 \n",
      "=================================================================\n",
      "Total params: 1,322,242\n",
      "Trainable params: 1,322,242\n",
      "Non-trainable params: 0\n",
      "_________________________________________________________________\n"
     ]
    }
   ],
   "source": [
    "model = Sequential()\n",
    "\n",
    "model.add(Conv2D(32,(3,3),activation='relu',input_shape=(32,32,3))) #이미지가 32,32,3이니까 똑같이 지정해줌 \n",
    "model.add(MaxPooling2D(pool_size=(2,2)))\n",
    "model.add(Dropout(0.3))\n",
    "\n",
    "model.add(Conv2D(64,(3,3),activation='relu'))\n",
    "model.add(MaxPooling2D(pool_size=(2,2)))\n",
    "model.add(Dropout(0.3))\n",
    "\n",
    "\n",
    "model.add(Flatten()) #벡터라이징 \n",
    "\n",
    "model.add(Dense(500,activation='relu')) #덴스레이어 연결해서 \n",
    "model.add(Dropout(0.5))\n",
    "model.add(Dense(250,activation='relu'))\n",
    "model.add(Dropout(0.5))\n",
    "model.add(Dense(100,activation='softmax'))\n",
    "\n",
    "model.summary()"
   ]
  },
  {
   "cell_type": "code",
   "execution_count": 46,
   "id": "05362a33",
   "metadata": {},
   "outputs": [],
   "source": [
    "model.compile(loss='categorical_crossentropy',metrics = ['accuracy'],optimizer='adam')"
   ]
  },
  {
   "cell_type": "code",
   "execution_count": 47,
   "id": "3196877f",
   "metadata": {},
   "outputs": [
    {
     "name": "stdout",
     "output_type": "stream",
     "text": [
      "Epoch 1/10\n",
      "2000/2000 [==============================] - 48s 24ms/step - loss: 4.2627 - accuracy: 0.0436 - val_loss: 3.9745 - val_accuracy: 0.0934\n",
      "Epoch 2/10\n",
      "2000/2000 [==============================] - 46s 23ms/step - loss: 3.8535 - accuracy: 0.1013 - val_loss: 3.6899 - val_accuracy: 0.1394\n",
      "Epoch 3/10\n",
      "2000/2000 [==============================] - 47s 23ms/step - loss: 3.6511 - accuracy: 0.1371 - val_loss: 3.4634 - val_accuracy: 0.1815\n",
      "Epoch 4/10\n",
      "2000/2000 [==============================] - 47s 24ms/step - loss: 3.5231 - accuracy: 0.1604 - val_loss: 3.3359 - val_accuracy: 0.1968\n",
      "Epoch 5/10\n",
      "2000/2000 [==============================] - 47s 23ms/step - loss: 3.4208 - accuracy: 0.1780 - val_loss: 3.3294 - val_accuracy: 0.2016\n",
      "Epoch 6/10\n",
      "2000/2000 [==============================] - 48s 24ms/step - loss: 3.3517 - accuracy: 0.1881 - val_loss: 3.1612 - val_accuracy: 0.2361\n",
      "Epoch 7/10\n",
      "2000/2000 [==============================] - 47s 23ms/step - loss: 3.2936 - accuracy: 0.1986 - val_loss: 3.2042 - val_accuracy: 0.2262\n",
      "Epoch 8/10\n",
      "2000/2000 [==============================] - 46s 23ms/step - loss: 3.2456 - accuracy: 0.2103 - val_loss: 3.2236 - val_accuracy: 0.2313\n",
      "Epoch 9/10\n",
      "2000/2000 [==============================] - 45s 23ms/step - loss: 3.2086 - accuracy: 0.2192 - val_loss: 3.1044 - val_accuracy: 0.2477\n",
      "Epoch 10/10\n",
      "2000/2000 [==============================] - 45s 23ms/step - loss: 3.1772 - accuracy: 0.2254 - val_loss: 3.0854 - val_accuracy: 0.2596\n"
     ]
    },
    {
     "data": {
      "text/plain": [
       "<keras.callbacks.History at 0x1be83d8fca0>"
      ]
     },
     "execution_count": 47,
     "metadata": {},
     "output_type": "execute_result"
    }
   ],
   "source": [
    "model.fit(x_train,y_train_oh,epochs=10,batch_size=20,validation_split=0.2)"
   ]
  },
  {
   "cell_type": "code",
   "execution_count": null,
   "id": "3a6860e0",
   "metadata": {},
   "outputs": [],
   "source": [
    "# accuracy가 25가나왔지만 .. 에포크가 짧아서 그렇다.. "
   ]
  },
  {
   "cell_type": "code",
   "execution_count": null,
   "id": "32698f26",
   "metadata": {},
   "outputs": [],
   "source": []
  },
  {
   "cell_type": "code",
   "execution_count": null,
   "id": "0c0ddf6f",
   "metadata": {},
   "outputs": [],
   "source": []
  }
 ],
 "metadata": {
  "kernelspec": {
   "display_name": "Python 3 (ipykernel)",
   "language": "python",
   "name": "python3"
  },
  "language_info": {
   "codemirror_mode": {
    "name": "ipython",
    "version": 3
   },
   "file_extension": ".py",
   "mimetype": "text/x-python",
   "name": "python",
   "nbconvert_exporter": "python",
   "pygments_lexer": "ipython3",
   "version": "3.9.7"
  }
 },
 "nbformat": 4,
 "nbformat_minor": 5
}

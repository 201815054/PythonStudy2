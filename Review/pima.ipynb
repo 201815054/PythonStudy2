{
 "cells": [
  {
   "cell_type": "code",
   "execution_count": 1,
   "id": "1f576d65",
   "metadata": {},
   "outputs": [],
   "source": [
    "import pandas as pd\n",
    "import numpy as np\n",
    "import matplotlib.pyplot as plt \n",
    "import seaborn as sns\n"
   ]
  },
  {
   "cell_type": "code",
   "execution_count": 2,
   "id": "1c8bebac",
   "metadata": {},
   "outputs": [],
   "source": [
    "from tensorflow.keras.models import Sequential \n",
    "from tensorflow.keras.layers import Dense\n",
    "import tensorflow as tf \n"
   ]
  },
  {
   "cell_type": "code",
   "execution_count": 7,
   "id": "b9d9dccf",
   "metadata": {},
   "outputs": [
    {
     "data": {
      "text/html": [
       "<div>\n",
       "<style scoped>\n",
       "    .dataframe tbody tr th:only-of-type {\n",
       "        vertical-align: middle;\n",
       "    }\n",
       "\n",
       "    .dataframe tbody tr th {\n",
       "        vertical-align: top;\n",
       "    }\n",
       "\n",
       "    .dataframe thead th {\n",
       "        text-align: right;\n",
       "    }\n",
       "</style>\n",
       "<table border=\"1\" class=\"dataframe\">\n",
       "  <thead>\n",
       "    <tr style=\"text-align: right;\">\n",
       "      <th></th>\n",
       "      <th>0</th>\n",
       "      <th>1</th>\n",
       "      <th>2</th>\n",
       "      <th>3</th>\n",
       "      <th>4</th>\n",
       "      <th>5</th>\n",
       "      <th>6</th>\n",
       "      <th>7</th>\n",
       "      <th>8</th>\n",
       "    </tr>\n",
       "  </thead>\n",
       "  <tbody>\n",
       "    <tr>\n",
       "      <th>0</th>\n",
       "      <td>6</td>\n",
       "      <td>148</td>\n",
       "      <td>72</td>\n",
       "      <td>35</td>\n",
       "      <td>0</td>\n",
       "      <td>33.6</td>\n",
       "      <td>0.627</td>\n",
       "      <td>50</td>\n",
       "      <td>1</td>\n",
       "    </tr>\n",
       "    <tr>\n",
       "      <th>1</th>\n",
       "      <td>1</td>\n",
       "      <td>85</td>\n",
       "      <td>66</td>\n",
       "      <td>29</td>\n",
       "      <td>0</td>\n",
       "      <td>26.6</td>\n",
       "      <td>0.351</td>\n",
       "      <td>31</td>\n",
       "      <td>0</td>\n",
       "    </tr>\n",
       "    <tr>\n",
       "      <th>2</th>\n",
       "      <td>8</td>\n",
       "      <td>183</td>\n",
       "      <td>64</td>\n",
       "      <td>0</td>\n",
       "      <td>0</td>\n",
       "      <td>23.3</td>\n",
       "      <td>0.672</td>\n",
       "      <td>32</td>\n",
       "      <td>1</td>\n",
       "    </tr>\n",
       "    <tr>\n",
       "      <th>3</th>\n",
       "      <td>1</td>\n",
       "      <td>89</td>\n",
       "      <td>66</td>\n",
       "      <td>23</td>\n",
       "      <td>94</td>\n",
       "      <td>28.1</td>\n",
       "      <td>0.167</td>\n",
       "      <td>21</td>\n",
       "      <td>0</td>\n",
       "    </tr>\n",
       "    <tr>\n",
       "      <th>4</th>\n",
       "      <td>0</td>\n",
       "      <td>137</td>\n",
       "      <td>40</td>\n",
       "      <td>35</td>\n",
       "      <td>168</td>\n",
       "      <td>43.1</td>\n",
       "      <td>2.288</td>\n",
       "      <td>33</td>\n",
       "      <td>1</td>\n",
       "    </tr>\n",
       "  </tbody>\n",
       "</table>\n",
       "</div>"
      ],
      "text/plain": [
       "   0    1   2   3    4     5      6   7  8\n",
       "0  6  148  72  35    0  33.6  0.627  50  1\n",
       "1  1   85  66  29    0  26.6  0.351  31  0\n",
       "2  8  183  64   0    0  23.3  0.672  32  1\n",
       "3  1   89  66  23   94  28.1  0.167  21  0\n",
       "4  0  137  40  35  168  43.1  2.288  33  1"
      ]
     },
     "execution_count": 7,
     "metadata": {},
     "output_type": "execute_result"
    }
   ],
   "source": [
    "df = pd.read_csv('../kdt4/workplace2/data/deep_data_files-20220321T014240Z-001/deep_data_files/pima-indians-diabetes.csv',header=None)\n",
    "df.head()"
   ]
  },
  {
   "cell_type": "code",
   "execution_count": 8,
   "id": "d643853f",
   "metadata": {
    "collapsed": true
   },
   "outputs": [
    {
     "name": "stdout",
     "output_type": "stream",
     "text": [
      "<class 'pandas.core.frame.DataFrame'>\n",
      "RangeIndex: 768 entries, 0 to 767\n",
      "Data columns (total 9 columns):\n",
      " #   Column  Non-Null Count  Dtype  \n",
      "---  ------  --------------  -----  \n",
      " 0   0       768 non-null    int64  \n",
      " 1   1       768 non-null    int64  \n",
      " 2   2       768 non-null    int64  \n",
      " 3   3       768 non-null    int64  \n",
      " 4   4       768 non-null    int64  \n",
      " 5   5       768 non-null    float64\n",
      " 6   6       768 non-null    float64\n",
      " 7   7       768 non-null    int64  \n",
      " 8   8       768 non-null    int64  \n",
      "dtypes: float64(2), int64(7)\n",
      "memory usage: 54.1 KB\n"
     ]
    }
   ],
   "source": [
    "df.info()\n",
    "# 바이너리는 멀티나 바이너리로 만들 수 있음..\n",
    "# 하나의 노드에서 0과 1이 나오는 방식으로 하기위해 바이너리로 씀.. (원핫하지않음)"
   ]
  },
  {
   "cell_type": "code",
   "execution_count": 9,
   "id": "1a884666",
   "metadata": {},
   "outputs": [],
   "source": [
    "# diabetes여부를 판별하는 모델을 만들고, 모델을 평가하시오 "
   ]
  },
  {
   "cell_type": "code",
   "execution_count": 14,
   "id": "7184cf95",
   "metadata": {},
   "outputs": [],
   "source": [
    "y = df.iloc[:,8:]\n",
    "x = df.iloc[:,:8]"
   ]
  },
  {
   "cell_type": "code",
   "execution_count": 17,
   "id": "8456d3bc",
   "metadata": {},
   "outputs": [
    {
     "name": "stdout",
     "output_type": "stream",
     "text": [
      "Model: \"sequential\"\n",
      "_________________________________________________________________\n",
      " Layer (type)                Output Shape              Param #   \n",
      "=================================================================\n",
      " dense (Dense)               (None, 12)                108       \n",
      "                                                                 \n",
      " dense_1 (Dense)             (None, 8)                 104       \n",
      "                                                                 \n",
      " dense_2 (Dense)             (None, 1)                 9         \n",
      "                                                                 \n",
      "=================================================================\n",
      "Total params: 221\n",
      "Trainable params: 221\n",
      "Non-trainable params: 0\n",
      "_________________________________________________________________\n"
     ]
    }
   ],
   "source": [
    "model = Sequential()\n",
    "model.add(Dense(12,input_dim=8,activation='relu'))\n",
    "model.add(Dense(8,activation='relu'))\n",
    "model.add(Dense(1)) #로지스틱이라 sigmoid씀 .. \n",
    "model.summary()"
   ]
  },
  {
   "cell_type": "code",
   "execution_count": 18,
   "id": "b90de863",
   "metadata": {},
   "outputs": [],
   "source": [
    "model.compile(loss='binary_crossentropy',metrics=['accuracy'],optimizer='adam')\n"
   ]
  },
  {
   "cell_type": "code",
   "execution_count": 19,
   "id": "33520042",
   "metadata": {
    "collapsed": true
   },
   "outputs": [
    {
     "name": "stdout",
     "output_type": "stream",
     "text": [
      "Epoch 1/100\n",
      "39/39 [==============================] - 0s 1ms/step - loss: 5.5244 - accuracy: 0.6406\n",
      "Epoch 2/100\n",
      "39/39 [==============================] - 0s 1ms/step - loss: 5.4621 - accuracy: 0.6458\n",
      "Epoch 3/100\n",
      "39/39 [==============================] - 0s 1ms/step - loss: 5.4621 - accuracy: 0.6458\n",
      "Epoch 4/100\n",
      "39/39 [==============================] - 0s 1ms/step - loss: 5.4621 - accuracy: 0.6458\n",
      "Epoch 5/100\n",
      "39/39 [==============================] - 0s 1ms/step - loss: 5.4621 - accuracy: 0.6458\n",
      "Epoch 6/100\n",
      "39/39 [==============================] - 0s 1ms/step - loss: 5.4621 - accuracy: 0.6458\n",
      "Epoch 7/100\n",
      "39/39 [==============================] - 0s 1ms/step - loss: 5.4621 - accuracy: 0.6458\n",
      "Epoch 8/100\n",
      "39/39 [==============================] - 0s 1ms/step - loss: 5.4621 - accuracy: 0.6458\n",
      "Epoch 9/100\n",
      "39/39 [==============================] - 0s 1ms/step - loss: 5.4621 - accuracy: 0.6458\n",
      "Epoch 10/100\n",
      "39/39 [==============================] - 0s 1ms/step - loss: 5.4621 - accuracy: 0.6458\n",
      "Epoch 11/100\n",
      "39/39 [==============================] - 0s 1ms/step - loss: 5.4621 - accuracy: 0.6458\n",
      "Epoch 12/100\n",
      "39/39 [==============================] - 0s 1ms/step - loss: 5.4621 - accuracy: 0.6458\n",
      "Epoch 13/100\n",
      "39/39 [==============================] - 0s 1ms/step - loss: 5.4621 - accuracy: 0.6458\n",
      "Epoch 14/100\n",
      "39/39 [==============================] - 0s 1ms/step - loss: 5.4621 - accuracy: 0.6458\n",
      "Epoch 15/100\n",
      "39/39 [==============================] - 0s 1ms/step - loss: 5.4621 - accuracy: 0.6458\n",
      "Epoch 16/100\n",
      "39/39 [==============================] - 0s 1ms/step - loss: 5.4621 - accuracy: 0.6458\n",
      "Epoch 17/100\n",
      "39/39 [==============================] - 0s 1ms/step - loss: 5.4621 - accuracy: 0.6458\n",
      "Epoch 18/100\n",
      "39/39 [==============================] - 0s 1ms/step - loss: 5.4621 - accuracy: 0.6458\n",
      "Epoch 19/100\n",
      "39/39 [==============================] - 0s 1ms/step - loss: 5.4621 - accuracy: 0.6458\n",
      "Epoch 20/100\n",
      "39/39 [==============================] - 0s 1ms/step - loss: 5.4621 - accuracy: 0.6458\n",
      "Epoch 21/100\n",
      "39/39 [==============================] - 0s 1ms/step - loss: 5.4621 - accuracy: 0.6458\n",
      "Epoch 22/100\n",
      "39/39 [==============================] - 0s 2ms/step - loss: 5.4621 - accuracy: 0.6458\n",
      "Epoch 23/100\n",
      "39/39 [==============================] - 0s 2ms/step - loss: 5.4621 - accuracy: 0.6458\n",
      "Epoch 24/100\n",
      "39/39 [==============================] - 0s 2ms/step - loss: 5.4621 - accuracy: 0.6458\n",
      "Epoch 25/100\n",
      "39/39 [==============================] - 0s 2ms/step - loss: 5.4621 - accuracy: 0.6458\n",
      "Epoch 26/100\n",
      "39/39 [==============================] - 0s 2ms/step - loss: 5.4621 - accuracy: 0.6458\n",
      "Epoch 27/100\n",
      "39/39 [==============================] - 0s 2ms/step - loss: 5.4621 - accuracy: 0.6458\n",
      "Epoch 28/100\n",
      "39/39 [==============================] - 0s 2ms/step - loss: 5.4621 - accuracy: 0.6458\n",
      "Epoch 29/100\n",
      "39/39 [==============================] - 0s 2ms/step - loss: 5.4621 - accuracy: 0.6458\n",
      "Epoch 30/100\n",
      "39/39 [==============================] - 0s 2ms/step - loss: 5.4621 - accuracy: 0.6458\n",
      "Epoch 31/100\n",
      "39/39 [==============================] - 0s 2ms/step - loss: 5.4621 - accuracy: 0.6458\n",
      "Epoch 32/100\n",
      "39/39 [==============================] - 0s 1ms/step - loss: 5.4621 - accuracy: 0.6458\n",
      "Epoch 33/100\n",
      "39/39 [==============================] - 0s 1ms/step - loss: 5.4621 - accuracy: 0.6458\n",
      "Epoch 34/100\n",
      "39/39 [==============================] - 0s 2ms/step - loss: 5.4621 - accuracy: 0.6458\n",
      "Epoch 35/100\n",
      "39/39 [==============================] - 0s 1ms/step - loss: 5.4621 - accuracy: 0.6458\n",
      "Epoch 36/100\n",
      "39/39 [==============================] - 0s 1ms/step - loss: 5.4621 - accuracy: 0.6458\n",
      "Epoch 37/100\n",
      "39/39 [==============================] - 0s 1ms/step - loss: 5.4621 - accuracy: 0.6458\n",
      "Epoch 38/100\n",
      "39/39 [==============================] - 0s 1ms/step - loss: 5.4621 - accuracy: 0.6458\n",
      "Epoch 39/100\n",
      "39/39 [==============================] - 0s 1ms/step - loss: 5.4621 - accuracy: 0.6458\n",
      "Epoch 40/100\n",
      "39/39 [==============================] - 0s 1ms/step - loss: 5.4621 - accuracy: 0.6458\n",
      "Epoch 41/100\n",
      "39/39 [==============================] - 0s 1ms/step - loss: 5.4621 - accuracy: 0.6458\n",
      "Epoch 42/100\n",
      "39/39 [==============================] - 0s 1ms/step - loss: 5.4621 - accuracy: 0.6458\n",
      "Epoch 43/100\n",
      "39/39 [==============================] - 0s 1ms/step - loss: 5.4621 - accuracy: 0.6458\n",
      "Epoch 44/100\n",
      "39/39 [==============================] - 0s 1ms/step - loss: 5.4621 - accuracy: 0.6458\n",
      "Epoch 45/100\n",
      "39/39 [==============================] - 0s 1ms/step - loss: 5.4621 - accuracy: 0.6458\n",
      "Epoch 46/100\n",
      "39/39 [==============================] - 0s 1ms/step - loss: 5.4621 - accuracy: 0.6458\n",
      "Epoch 47/100\n",
      "39/39 [==============================] - 0s 1ms/step - loss: 5.4621 - accuracy: 0.6458\n",
      "Epoch 48/100\n",
      "39/39 [==============================] - 0s 1ms/step - loss: 5.4621 - accuracy: 0.6458\n",
      "Epoch 49/100\n",
      "39/39 [==============================] - 0s 1ms/step - loss: 5.4621 - accuracy: 0.6458\n",
      "Epoch 50/100\n",
      "39/39 [==============================] - 0s 1ms/step - loss: 5.4621 - accuracy: 0.6458\n",
      "Epoch 51/100\n",
      "39/39 [==============================] - 0s 1ms/step - loss: 5.4621 - accuracy: 0.6458\n",
      "Epoch 52/100\n",
      "39/39 [==============================] - 0s 1ms/step - loss: 5.4621 - accuracy: 0.6458\n",
      "Epoch 53/100\n",
      "39/39 [==============================] - 0s 1ms/step - loss: 5.4621 - accuracy: 0.6458\n",
      "Epoch 54/100\n",
      "39/39 [==============================] - 0s 1ms/step - loss: 5.4621 - accuracy: 0.6458\n",
      "Epoch 55/100\n",
      "39/39 [==============================] - 0s 1ms/step - loss: 5.4621 - accuracy: 0.6458\n",
      "Epoch 56/100\n",
      "39/39 [==============================] - 0s 1ms/step - loss: 5.4621 - accuracy: 0.6458\n",
      "Epoch 57/100\n",
      "39/39 [==============================] - 0s 1ms/step - loss: 5.4621 - accuracy: 0.6458\n",
      "Epoch 58/100\n",
      "39/39 [==============================] - 0s 1ms/step - loss: 5.4621 - accuracy: 0.6458\n",
      "Epoch 59/100\n",
      "39/39 [==============================] - 0s 1ms/step - loss: 5.4621 - accuracy: 0.6458\n",
      "Epoch 60/100\n",
      "39/39 [==============================] - 0s 1ms/step - loss: 5.4621 - accuracy: 0.6458\n",
      "Epoch 61/100\n",
      "39/39 [==============================] - 0s 2ms/step - loss: 5.4621 - accuracy: 0.6458\n",
      "Epoch 62/100\n",
      "39/39 [==============================] - 0s 2ms/step - loss: 5.4621 - accuracy: 0.6458\n",
      "Epoch 63/100\n",
      "39/39 [==============================] - 0s 2ms/step - loss: 5.4621 - accuracy: 0.6458\n",
      "Epoch 64/100\n",
      "39/39 [==============================] - 0s 2ms/step - loss: 5.4621 - accuracy: 0.6458\n",
      "Epoch 65/100\n",
      "39/39 [==============================] - 0s 1ms/step - loss: 5.4621 - accuracy: 0.6458\n",
      "Epoch 66/100\n",
      "39/39 [==============================] - 0s 1ms/step - loss: 5.4621 - accuracy: 0.6458\n",
      "Epoch 67/100\n",
      "39/39 [==============================] - 0s 1ms/step - loss: 5.4621 - accuracy: 0.6458\n",
      "Epoch 68/100\n",
      "39/39 [==============================] - 0s 1ms/step - loss: 5.4621 - accuracy: 0.6458\n",
      "Epoch 69/100\n",
      "39/39 [==============================] - 0s 1ms/step - loss: 5.4621 - accuracy: 0.6458\n",
      "Epoch 70/100\n",
      "39/39 [==============================] - 0s 1ms/step - loss: 5.4621 - accuracy: 0.6458\n",
      "Epoch 71/100\n",
      "39/39 [==============================] - 0s 1ms/step - loss: 5.4621 - accuracy: 0.6458\n",
      "Epoch 72/100\n",
      "39/39 [==============================] - 0s 1ms/step - loss: 5.4621 - accuracy: 0.6458\n",
      "Epoch 73/100\n",
      "39/39 [==============================] - 0s 1ms/step - loss: 5.4621 - accuracy: 0.6458\n",
      "Epoch 74/100\n",
      "39/39 [==============================] - 0s 1ms/step - loss: 5.4621 - accuracy: 0.6458\n",
      "Epoch 75/100\n",
      "39/39 [==============================] - 0s 1ms/step - loss: 5.4621 - accuracy: 0.6458\n",
      "Epoch 76/100\n",
      "39/39 [==============================] - 0s 1ms/step - loss: 5.4621 - accuracy: 0.6458\n",
      "Epoch 77/100\n",
      "39/39 [==============================] - 0s 1ms/step - loss: 5.4621 - accuracy: 0.6458\n",
      "Epoch 78/100\n",
      "39/39 [==============================] - 0s 1ms/step - loss: 5.4621 - accuracy: 0.6458\n",
      "Epoch 79/100\n",
      "39/39 [==============================] - 0s 1ms/step - loss: 5.4621 - accuracy: 0.6458\n",
      "Epoch 80/100\n",
      "39/39 [==============================] - 0s 1ms/step - loss: 5.4621 - accuracy: 0.6458\n",
      "Epoch 81/100\n",
      "39/39 [==============================] - 0s 1ms/step - loss: 5.4621 - accuracy: 0.6458\n",
      "Epoch 82/100\n",
      "39/39 [==============================] - 0s 1ms/step - loss: 5.4621 - accuracy: 0.6458\n",
      "Epoch 83/100\n"
     ]
    },
    {
     "name": "stdout",
     "output_type": "stream",
     "text": [
      "39/39 [==============================] - 0s 1ms/step - loss: 5.4621 - accuracy: 0.6458\n",
      "Epoch 84/100\n",
      "39/39 [==============================] - 0s 1ms/step - loss: 5.4621 - accuracy: 0.6458\n",
      "Epoch 85/100\n",
      "39/39 [==============================] - 0s 1ms/step - loss: 5.4621 - accuracy: 0.6458\n",
      "Epoch 86/100\n",
      "39/39 [==============================] - 0s 1ms/step - loss: 5.4621 - accuracy: 0.6458\n",
      "Epoch 87/100\n",
      "39/39 [==============================] - 0s 1ms/step - loss: 5.4621 - accuracy: 0.6458\n",
      "Epoch 88/100\n",
      "39/39 [==============================] - 0s 2ms/step - loss: 5.4621 - accuracy: 0.6458\n",
      "Epoch 89/100\n",
      "39/39 [==============================] - 0s 2ms/step - loss: 5.4621 - accuracy: 0.6458\n",
      "Epoch 90/100\n",
      "39/39 [==============================] - 0s 1ms/step - loss: 5.4621 - accuracy: 0.6458\n",
      "Epoch 91/100\n",
      "39/39 [==============================] - 0s 1ms/step - loss: 5.4621 - accuracy: 0.6458\n",
      "Epoch 92/100\n",
      "39/39 [==============================] - 0s 2ms/step - loss: 5.4621 - accuracy: 0.6458\n",
      "Epoch 93/100\n",
      "39/39 [==============================] - 0s 2ms/step - loss: 5.4621 - accuracy: 0.6458\n",
      "Epoch 94/100\n",
      "39/39 [==============================] - 0s 1ms/step - loss: 5.4621 - accuracy: 0.6458\n",
      "Epoch 95/100\n",
      "39/39 [==============================] - 0s 1ms/step - loss: 5.4621 - accuracy: 0.6458\n",
      "Epoch 96/100\n",
      "39/39 [==============================] - 0s 1ms/step - loss: 5.4621 - accuracy: 0.6458\n",
      "Epoch 97/100\n",
      "39/39 [==============================] - 0s 1ms/step - loss: 5.4621 - accuracy: 0.6458\n",
      "Epoch 98/100\n",
      "39/39 [==============================] - 0s 1ms/step - loss: 5.4621 - accuracy: 0.6458\n",
      "Epoch 99/100\n",
      "39/39 [==============================] - 0s 1ms/step - loss: 5.4621 - accuracy: 0.6458\n",
      "Epoch 100/100\n",
      "39/39 [==============================] - 0s 1ms/step - loss: 5.4621 - accuracy: 0.6458\n"
     ]
    },
    {
     "data": {
      "text/plain": [
       "<keras.callbacks.History at 0x21b3fd0ec70>"
      ]
     },
     "execution_count": 19,
     "metadata": {},
     "output_type": "execute_result"
    }
   ],
   "source": [
    "model.fit(x,y,epochs=100,batch_size=20) # x는 정규화한값으로 씀,.(scale)"
   ]
  },
  {
   "cell_type": "code",
   "execution_count": 31,
   "id": "443e4896",
   "metadata": {},
   "outputs": [],
   "source": [
    "from sklearn.preprocessing import StandardScaler\n",
    "scaler=StandardScaler()\n",
    "x_sc = scaler.fit_transform(df.iloc[:,:8])"
   ]
  },
  {
   "cell_type": "code",
   "execution_count": 32,
   "id": "983a2ec3",
   "metadata": {},
   "outputs": [
    {
     "data": {
      "text/plain": [
       "array([[ 0.63994726,  0.84832379,  0.14964075, ...,  0.20401277,\n",
       "         0.46849198,  1.4259954 ],\n",
       "       [-0.84488505, -1.12339636, -0.16054575, ..., -0.68442195,\n",
       "        -0.36506078, -0.19067191],\n",
       "       [ 1.23388019,  1.94372388, -0.26394125, ..., -1.10325546,\n",
       "         0.60439732, -0.10558415],\n",
       "       ...,\n",
       "       [ 0.3429808 ,  0.00330087,  0.14964075, ..., -0.73518964,\n",
       "        -0.68519336, -0.27575966],\n",
       "       [-0.84488505,  0.1597866 , -0.47073225, ..., -0.24020459,\n",
       "        -0.37110101,  1.17073215],\n",
       "       [-0.84488505, -0.8730192 ,  0.04624525, ..., -0.20212881,\n",
       "        -0.47378505, -0.87137393]])"
      ]
     },
     "execution_count": 32,
     "metadata": {},
     "output_type": "execute_result"
    }
   ],
   "source": [
    "x_sc"
   ]
  },
  {
   "cell_type": "code",
   "execution_count": 26,
   "id": "87ff1ada",
   "metadata": {
    "collapsed": true
   },
   "outputs": [
    {
     "name": "stdout",
     "output_type": "stream",
     "text": [
      "Epoch 1/100\n",
      "39/39 [==============================] - 0s 2ms/step - loss: 0.4353 - accuracy: 0.7852\n",
      "Epoch 2/100\n",
      "39/39 [==============================] - 0s 2ms/step - loss: 0.4338 - accuracy: 0.7865\n",
      "Epoch 3/100\n",
      "39/39 [==============================] - 0s 2ms/step - loss: 0.4341 - accuracy: 0.7852\n",
      "Epoch 4/100\n",
      "39/39 [==============================] - 0s 2ms/step - loss: 0.4327 - accuracy: 0.7891\n",
      "Epoch 5/100\n",
      "39/39 [==============================] - 0s 2ms/step - loss: 0.4328 - accuracy: 0.7865\n",
      "Epoch 6/100\n",
      "39/39 [==============================] - 0s 2ms/step - loss: 0.4336 - accuracy: 0.7852\n",
      "Epoch 7/100\n",
      "39/39 [==============================] - 0s 2ms/step - loss: 0.4319 - accuracy: 0.7891\n",
      "Epoch 8/100\n",
      "39/39 [==============================] - 0s 2ms/step - loss: 0.4289 - accuracy: 0.7865\n",
      "Epoch 9/100\n",
      "39/39 [==============================] - 0s 3ms/step - loss: 0.4297 - accuracy: 0.7878\n",
      "Epoch 10/100\n",
      "39/39 [==============================] - 0s 3ms/step - loss: 0.4298 - accuracy: 0.7878\n",
      "Epoch 11/100\n",
      "39/39 [==============================] - 0s 2ms/step - loss: 0.4284 - accuracy: 0.7878\n",
      "Epoch 12/100\n",
      "39/39 [==============================] - 0s 3ms/step - loss: 0.4279 - accuracy: 0.7891\n",
      "Epoch 13/100\n",
      "39/39 [==============================] - 0s 2ms/step - loss: 0.4262 - accuracy: 0.7917\n",
      "Epoch 14/100\n",
      "39/39 [==============================] - 0s 2ms/step - loss: 0.4263 - accuracy: 0.7891\n",
      "Epoch 15/100\n",
      "39/39 [==============================] - 0s 2ms/step - loss: 0.4281 - accuracy: 0.7865\n",
      "Epoch 16/100\n",
      "39/39 [==============================] - 0s 2ms/step - loss: 0.4251 - accuracy: 0.7891\n",
      "Epoch 17/100\n",
      "39/39 [==============================] - 0s 2ms/step - loss: 0.4249 - accuracy: 0.7943\n",
      "Epoch 18/100\n",
      "39/39 [==============================] - 0s 2ms/step - loss: 0.4240 - accuracy: 0.7891\n",
      "Epoch 19/100\n",
      "39/39 [==============================] - 0s 2ms/step - loss: 0.4236 - accuracy: 0.7891\n",
      "Epoch 20/100\n",
      "39/39 [==============================] - 0s 2ms/step - loss: 0.4231 - accuracy: 0.7904\n",
      "Epoch 21/100\n",
      "39/39 [==============================] - 0s 2ms/step - loss: 0.4234 - accuracy: 0.7852\n",
      "Epoch 22/100\n",
      "39/39 [==============================] - 0s 2ms/step - loss: 0.4221 - accuracy: 0.7930\n",
      "Epoch 23/100\n",
      "39/39 [==============================] - 0s 2ms/step - loss: 0.4219 - accuracy: 0.7852\n",
      "Epoch 24/100\n",
      "39/39 [==============================] - 0s 2ms/step - loss: 0.4207 - accuracy: 0.7917\n",
      "Epoch 25/100\n",
      "39/39 [==============================] - 0s 2ms/step - loss: 0.4205 - accuracy: 0.7982\n",
      "Epoch 26/100\n",
      "39/39 [==============================] - 0s 2ms/step - loss: 0.4201 - accuracy: 0.7930\n",
      "Epoch 27/100\n",
      "39/39 [==============================] - 0s 2ms/step - loss: 0.4197 - accuracy: 0.7904\n",
      "Epoch 28/100\n",
      "39/39 [==============================] - 0s 2ms/step - loss: 0.4179 - accuracy: 0.7917\n",
      "Epoch 29/100\n",
      "39/39 [==============================] - 0s 2ms/step - loss: 0.4180 - accuracy: 0.7865\n",
      "Epoch 30/100\n",
      "39/39 [==============================] - 0s 2ms/step - loss: 0.4166 - accuracy: 0.7852\n",
      "Epoch 31/100\n",
      "39/39 [==============================] - 0s 2ms/step - loss: 0.4153 - accuracy: 0.7878\n",
      "Epoch 32/100\n",
      "39/39 [==============================] - 0s 2ms/step - loss: 0.4174 - accuracy: 0.7839\n",
      "Epoch 33/100\n",
      "39/39 [==============================] - 0s 2ms/step - loss: 0.4155 - accuracy: 0.7878\n",
      "Epoch 34/100\n",
      "39/39 [==============================] - 0s 2ms/step - loss: 0.4160 - accuracy: 0.7904\n",
      "Epoch 35/100\n",
      "39/39 [==============================] - 0s 2ms/step - loss: 0.4128 - accuracy: 0.7917\n",
      "Epoch 36/100\n",
      "39/39 [==============================] - 0s 2ms/step - loss: 0.4139 - accuracy: 0.7878\n",
      "Epoch 37/100\n",
      "39/39 [==============================] - 0s 2ms/step - loss: 0.4134 - accuracy: 0.7878\n",
      "Epoch 38/100\n",
      "39/39 [==============================] - 0s 2ms/step - loss: 0.4127 - accuracy: 0.7917\n",
      "Epoch 39/100\n",
      "39/39 [==============================] - 0s 2ms/step - loss: 0.4120 - accuracy: 0.7930\n",
      "Epoch 40/100\n",
      "39/39 [==============================] - 0s 2ms/step - loss: 0.4107 - accuracy: 0.7904\n",
      "Epoch 41/100\n",
      "39/39 [==============================] - 0s 2ms/step - loss: 0.4101 - accuracy: 0.7878\n",
      "Epoch 42/100\n",
      "39/39 [==============================] - 0s 2ms/step - loss: 0.4102 - accuracy: 0.7839\n",
      "Epoch 43/100\n",
      "39/39 [==============================] - 0s 2ms/step - loss: 0.4091 - accuracy: 0.7904\n",
      "Epoch 44/100\n",
      "39/39 [==============================] - 0s 2ms/step - loss: 0.4081 - accuracy: 0.7904\n",
      "Epoch 45/100\n",
      "39/39 [==============================] - 0s 2ms/step - loss: 0.4094 - accuracy: 0.7930\n",
      "Epoch 46/100\n",
      "39/39 [==============================] - 0s 2ms/step - loss: 0.4083 - accuracy: 0.7891\n",
      "Epoch 47/100\n",
      "39/39 [==============================] - 0s 2ms/step - loss: 0.4090 - accuracy: 0.7956\n",
      "Epoch 48/100\n",
      "39/39 [==============================] - 0s 2ms/step - loss: 0.4090 - accuracy: 0.7943\n",
      "Epoch 49/100\n",
      "39/39 [==============================] - 0s 2ms/step - loss: 0.4063 - accuracy: 0.7930\n",
      "Epoch 50/100\n",
      "39/39 [==============================] - 0s 2ms/step - loss: 0.4093 - accuracy: 0.7891\n",
      "Epoch 51/100\n",
      "39/39 [==============================] - 0s 2ms/step - loss: 0.4059 - accuracy: 0.7982\n",
      "Epoch 52/100\n",
      "39/39 [==============================] - 0s 2ms/step - loss: 0.4060 - accuracy: 0.7995\n",
      "Epoch 53/100\n",
      "39/39 [==============================] - 0s 2ms/step - loss: 0.4050 - accuracy: 0.7969\n",
      "Epoch 54/100\n",
      "39/39 [==============================] - 0s 2ms/step - loss: 0.4042 - accuracy: 0.7943\n",
      "Epoch 55/100\n",
      "39/39 [==============================] - 0s 2ms/step - loss: 0.4039 - accuracy: 0.8021\n",
      "Epoch 56/100\n",
      "39/39 [==============================] - 0s 2ms/step - loss: 0.4040 - accuracy: 0.7995\n",
      "Epoch 57/100\n",
      "39/39 [==============================] - 0s 2ms/step - loss: 0.4023 - accuracy: 0.8021\n",
      "Epoch 58/100\n",
      "39/39 [==============================] - 0s 2ms/step - loss: 0.4024 - accuracy: 0.7995\n",
      "Epoch 59/100\n",
      "39/39 [==============================] - 0s 2ms/step - loss: 0.4026 - accuracy: 0.8034\n",
      "Epoch 60/100\n",
      "39/39 [==============================] - 0s 2ms/step - loss: 0.4018 - accuracy: 0.7969\n",
      "Epoch 61/100\n",
      "39/39 [==============================] - 0s 2ms/step - loss: 0.4051 - accuracy: 0.7995\n",
      "Epoch 62/100\n",
      "39/39 [==============================] - 0s 2ms/step - loss: 0.4008 - accuracy: 0.8008\n",
      "Epoch 63/100\n",
      "39/39 [==============================] - 0s 2ms/step - loss: 0.4017 - accuracy: 0.8021\n",
      "Epoch 64/100\n",
      "39/39 [==============================] - 0s 2ms/step - loss: 0.3999 - accuracy: 0.7982\n",
      "Epoch 65/100\n",
      "39/39 [==============================] - 0s 2ms/step - loss: 0.4017 - accuracy: 0.8008\n",
      "Epoch 66/100\n",
      "39/39 [==============================] - 0s 2ms/step - loss: 0.3996 - accuracy: 0.7969\n",
      "Epoch 67/100\n",
      "39/39 [==============================] - 0s 2ms/step - loss: 0.3988 - accuracy: 0.8047\n",
      "Epoch 68/100\n",
      "39/39 [==============================] - 0s 2ms/step - loss: 0.3968 - accuracy: 0.8008\n",
      "Epoch 69/100\n",
      "39/39 [==============================] - 0s 2ms/step - loss: 0.3975 - accuracy: 0.7995\n",
      "Epoch 70/100\n",
      "39/39 [==============================] - 0s 2ms/step - loss: 0.3964 - accuracy: 0.7982\n",
      "Epoch 71/100\n",
      "39/39 [==============================] - 0s 2ms/step - loss: 0.3988 - accuracy: 0.8008\n",
      "Epoch 72/100\n",
      "39/39 [==============================] - 0s 2ms/step - loss: 0.3954 - accuracy: 0.8047\n",
      "Epoch 73/100\n",
      "39/39 [==============================] - 0s 2ms/step - loss: 0.3979 - accuracy: 0.7995\n",
      "Epoch 74/100\n",
      "39/39 [==============================] - 0s 2ms/step - loss: 0.3961 - accuracy: 0.7995\n",
      "Epoch 75/100\n",
      "39/39 [==============================] - 0s 2ms/step - loss: 0.3976 - accuracy: 0.7943\n",
      "Epoch 76/100\n",
      "39/39 [==============================] - 0s 2ms/step - loss: 0.3980 - accuracy: 0.7982\n",
      "Epoch 77/100\n",
      "39/39 [==============================] - 0s 2ms/step - loss: 0.3956 - accuracy: 0.8047\n",
      "Epoch 78/100\n",
      "39/39 [==============================] - 0s 2ms/step - loss: 0.3933 - accuracy: 0.7995\n",
      "Epoch 79/100\n",
      "39/39 [==============================] - 0s 2ms/step - loss: 0.3933 - accuracy: 0.8008\n",
      "Epoch 80/100\n",
      "39/39 [==============================] - 0s 2ms/step - loss: 0.3915 - accuracy: 0.8021\n",
      "Epoch 81/100\n",
      "39/39 [==============================] - 0s 3ms/step - loss: 0.3917 - accuracy: 0.8047\n",
      "Epoch 82/100\n",
      "39/39 [==============================] - 0s 2ms/step - loss: 0.3911 - accuracy: 0.8008\n",
      "Epoch 83/100\n"
     ]
    },
    {
     "name": "stdout",
     "output_type": "stream",
     "text": [
      "39/39 [==============================] - 0s 2ms/step - loss: 0.3902 - accuracy: 0.7982\n",
      "Epoch 84/100\n",
      "39/39 [==============================] - 0s 2ms/step - loss: 0.3916 - accuracy: 0.7982\n",
      "Epoch 85/100\n",
      "39/39 [==============================] - 0s 2ms/step - loss: 0.3911 - accuracy: 0.8034\n",
      "Epoch 86/100\n",
      "39/39 [==============================] - 0s 2ms/step - loss: 0.3919 - accuracy: 0.7995\n",
      "Epoch 87/100\n",
      "39/39 [==============================] - 0s 2ms/step - loss: 0.3889 - accuracy: 0.8021\n",
      "Epoch 88/100\n",
      "39/39 [==============================] - 0s 2ms/step - loss: 0.3894 - accuracy: 0.7943\n",
      "Epoch 89/100\n",
      "39/39 [==============================] - 0s 2ms/step - loss: 0.3881 - accuracy: 0.8008\n",
      "Epoch 90/100\n",
      "39/39 [==============================] - 0s 2ms/step - loss: 0.3880 - accuracy: 0.7995\n",
      "Epoch 91/100\n",
      "39/39 [==============================] - 0s 2ms/step - loss: 0.3860 - accuracy: 0.7995\n",
      "Epoch 92/100\n",
      "39/39 [==============================] - 0s 2ms/step - loss: 0.3867 - accuracy: 0.8073\n",
      "Epoch 93/100\n",
      "39/39 [==============================] - 0s 2ms/step - loss: 0.3851 - accuracy: 0.8060\n",
      "Epoch 94/100\n",
      "39/39 [==============================] - 0s 2ms/step - loss: 0.3880 - accuracy: 0.8086\n",
      "Epoch 95/100\n",
      "39/39 [==============================] - 0s 2ms/step - loss: 0.3850 - accuracy: 0.8034\n",
      "Epoch 96/100\n",
      "39/39 [==============================] - 0s 2ms/step - loss: 0.3843 - accuracy: 0.8073\n",
      "Epoch 97/100\n",
      "39/39 [==============================] - 0s 2ms/step - loss: 0.3833 - accuracy: 0.7982\n",
      "Epoch 98/100\n",
      "39/39 [==============================] - 0s 2ms/step - loss: 0.3829 - accuracy: 0.8060\n",
      "Epoch 99/100\n",
      "39/39 [==============================] - 0s 2ms/step - loss: 0.3816 - accuracy: 0.8073\n",
      "Epoch 100/100\n",
      "39/39 [==============================] - 0s 2ms/step - loss: 0.3823 - accuracy: 0.8099\n"
     ]
    }
   ],
   "source": [
    "hist= model.fit(x_scaled,y,epochs=100,batch_size=20)"
   ]
  },
  {
   "cell_type": "code",
   "execution_count": 33,
   "id": "36f2808f",
   "metadata": {},
   "outputs": [
    {
     "name": "stdout",
     "output_type": "stream",
     "text": [
      "24/24 [==============================] - 0s 1ms/step - loss: 0.3790 - accuracy: 0.8164\n"
     ]
    },
    {
     "data": {
      "text/plain": [
       "[0.378993421792984, 0.81640625]"
      ]
     },
     "execution_count": 33,
     "metadata": {},
     "output_type": "execute_result"
    }
   ],
   "source": [
    "model.evaluate(x_sc,y) # 트레인테스트 안나눠서 evaluation안해도돰..."
   ]
  },
  {
   "cell_type": "code",
   "execution_count": 34,
   "id": "5ec95d98",
   "metadata": {},
   "outputs": [],
   "source": [
    "pred = model.predict(x_sc)"
   ]
  },
  {
   "cell_type": "code",
   "execution_count": null,
   "id": "735703ef",
   "metadata": {},
   "outputs": [],
   "source": []
  },
  {
   "cell_type": "code",
   "execution_count": 28,
   "id": "33da6eaa",
   "metadata": {},
   "outputs": [
    {
     "ename": "KeyError",
     "evalue": "'val_accuracy'",
     "output_type": "error",
     "traceback": [
      "\u001b[1;31m---------------------------------------------------------------------------\u001b[0m",
      "\u001b[1;31mKeyError\u001b[0m                                  Traceback (most recent call last)",
      "\u001b[1;32m~\\AppData\\Local\\Temp/ipykernel_7420/1459981099.py\u001b[0m in \u001b[0;36m<module>\u001b[1;34m\u001b[0m\n\u001b[0;32m      1\u001b[0m \u001b[0mplt\u001b[0m\u001b[1;33m.\u001b[0m\u001b[0mplot\u001b[0m\u001b[1;33m(\u001b[0m\u001b[0mhist\u001b[0m\u001b[1;33m.\u001b[0m\u001b[0mhistory\u001b[0m\u001b[1;33m[\u001b[0m\u001b[1;34m'accuracy'\u001b[0m\u001b[1;33m]\u001b[0m\u001b[1;33m)\u001b[0m\u001b[1;33m\u001b[0m\u001b[1;33m\u001b[0m\u001b[0m\n\u001b[1;32m----> 2\u001b[1;33m \u001b[0mplt\u001b[0m\u001b[1;33m.\u001b[0m\u001b[0mplot\u001b[0m\u001b[1;33m(\u001b[0m\u001b[0mhist\u001b[0m\u001b[1;33m.\u001b[0m\u001b[0mhistory\u001b[0m\u001b[1;33m[\u001b[0m\u001b[1;34m'val_accuracy'\u001b[0m\u001b[1;33m]\u001b[0m\u001b[1;33m)\u001b[0m\u001b[1;33m\u001b[0m\u001b[1;33m\u001b[0m\u001b[0m\n\u001b[0m",
      "\u001b[1;31mKeyError\u001b[0m: 'val_accuracy'"
     ]
    },
    {
     "data": {
      "image/png": "[encoded data removed]",
      "text/plain": [
       "<Figure size 432x288 with 1 Axes>"
      ]
     },
     "metadata": {
      "needs_background": "light"
     },
     "output_type": "display_data"
    }
   ],
   "source": [
    "plt.plot(hist.history['accuracy'])\n",
    "plt.plot(hist.history['val_accuracy'])\n"
   ]
  },
  {
   "cell_type": "markdown",
   "id": "018115f7",
   "metadata": {},
   "source": [
    "### 센세 시작"
   ]
  },
  {
   "cell_type": "code",
   "execution_count": null,
   "id": "b0e467f1",
   "metadata": {},
   "outputs": [],
   "source": []
  },
  {
   "cell_type": "code",
   "execution_count": null,
   "id": "94d39c10",
   "metadata": {},
   "outputs": [],
   "source": []
  },
  {
   "cell_type": "code",
   "execution_count": null,
   "id": "e0c8226a",
   "metadata": {},
   "outputs": [],
   "source": []
  },
  {
   "cell_type": "code",
   "execution_count": null,
   "id": "37bbd98f",
   "metadata": {},
   "outputs": [],
   "source": []
  },
  {
   "cell_type": "code",
   "execution_count": null,
   "id": "1298dfa8",
   "metadata": {},
   "outputs": [],
   "source": []
  },
  {
   "cell_type": "code",
   "execution_count": null,
   "id": "e2e35177",
   "metadata": {},
   "outputs": [],
   "source": []
  },
  {
   "cell_type": "code",
   "execution_count": null,
   "id": "83283c46",
   "metadata": {},
   "outputs": [],
   "source": []
  },
  {
   "cell_type": "code",
   "execution_count": null,
   "id": "b767dfad",
   "metadata": {},
   "outputs": [],
   "source": []
  },
  {
   "cell_type": "code",
   "execution_count": null,
   "id": "a4646c6f",
   "metadata": {},
   "outputs": [],
   "source": []
  },
  {
   "cell_type": "code",
   "execution_count": null,
   "id": "852974f8",
   "metadata": {},
   "outputs": [],
   "source": []
  },
  {
   "cell_type": "code",
   "execution_count": null,
   "id": "74d24c88",
   "metadata": {},
   "outputs": [],
   "source": []
  },
  {
   "cell_type": "code",
   "execution_count": null,
   "id": "b9c8c79d",
   "metadata": {},
   "outputs": [],
   "source": []
  },
  {
   "cell_type": "code",
   "execution_count": null,
   "id": "08c1af44",
   "metadata": {},
   "outputs": [],
   "source": []
  },
  {
   "cell_type": "code",
   "execution_count": null,
   "id": "c5de4673",
   "metadata": {},
   "outputs": [],
   "source": []
  },
  {
   "cell_type": "code",
   "execution_count": null,
   "id": "9da0f9bf",
   "metadata": {},
   "outputs": [],
   "source": []
  },
  {
   "cell_type": "code",
   "execution_count": null,
   "id": "24e69230",
   "metadata": {},
   "outputs": [],
   "source": []
  }
 ],
 "metadata": {
  "kernelspec": {
   "display_name": "Python 3 (ipykernel)",
   "language": "python",
   "name": "python3"
  },
  "language_info": {
   "codemirror_mode": {
    "name": "ipython",
    "version": 3
   },
   "file_extension": ".py",
   "mimetype": "text/x-python",
   "name": "python",
   "nbconvert_exporter": "python",
   "pygments_lexer": "ipython3",
   "version": "3.9.7"
  }
 },
 "nbformat": 4,
 "nbformat_minor": 5
}

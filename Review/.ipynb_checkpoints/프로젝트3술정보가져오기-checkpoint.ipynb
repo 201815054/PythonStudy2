{
 "cells": [
  {
   "cell_type": "code",
   "execution_count": 107,
   "id": "23396834",
   "metadata": {},
   "outputs": [],
   "source": [
    "from selenium import webdriver\n",
    "from bs4 import BeautifulSoup \n",
    "import time \n",
    "import re\n"
   ]
  },
  {
   "cell_type": "code",
   "execution_count": 108,
   "id": "db210662",
   "metadata": {},
   "outputs": [],
   "source": [
    "import pandas as pd \n",
    "import numpy as np\n",
    "import matplotlib.pyplot as plt"
   ]
  },
  {
   "cell_type": "code",
   "execution_count": 7,
   "id": "e90ed1e1",
   "metadata": {},
   "outputs": [
    {
     "data": {
      "text/html": [
       "<div>\n",
       "<style scoped>\n",
       "    .dataframe tbody tr th:only-of-type {\n",
       "        vertical-align: middle;\n",
       "    }\n",
       "\n",
       "    .dataframe tbody tr th {\n",
       "        vertical-align: top;\n",
       "    }\n",
       "\n",
       "    .dataframe thead th {\n",
       "        text-align: right;\n",
       "    }\n",
       "</style>\n",
       "<table border=\"1\" class=\"dataframe\">\n",
       "  <thead>\n",
       "    <tr style=\"text-align: right;\">\n",
       "      <th></th>\n",
       "      <th>전통주이름</th>\n",
       "    </tr>\n",
       "  </thead>\n",
       "  <tbody>\n",
       "    <tr>\n",
       "      <th>0</th>\n",
       "      <td>1000억 유산균 막걸리</td>\n",
       "    </tr>\n",
       "    <tr>\n",
       "      <th>1</th>\n",
       "      <td>1932 새싹땅콩+햅쌀/흑미</td>\n",
       "    </tr>\n",
       "    <tr>\n",
       "      <th>2</th>\n",
       "      <td>2017년 햅쌀로 빚은 첫술</td>\n",
       "    </tr>\n",
       "    <tr>\n",
       "      <th>3</th>\n",
       "      <td>52C</td>\n",
       "    </tr>\n",
       "    <tr>\n",
       "      <th>4</th>\n",
       "      <td>DOK막걸리</td>\n",
       "    </tr>\n",
       "  </tbody>\n",
       "</table>\n",
       "</div>"
      ],
      "text/plain": [
       "             전통주이름\n",
       "0    1000억 유산균 막걸리\n",
       "1  1932 새싹땅콩+햅쌀/흑미\n",
       "2  2017년 햅쌀로 빚은 첫술\n",
       "3              52C\n",
       "4           DOK막걸리"
      ]
     },
     "execution_count": 7,
     "metadata": {},
     "output_type": "execute_result"
    }
   ],
   "source": [
    "df = pd.read_csv('./더술_전통주리스트.csv',index_col=0)\n",
    "df.head()"
   ]
  },
  {
   "cell_type": "code",
   "execution_count": null,
   "id": "53aa397f",
   "metadata": {},
   "outputs": [],
   "source": [
    "driver = webdriver.Chrome()"
   ]
  },
  {
   "cell_type": "code",
   "execution_count": null,
   "id": "b6dcb368",
   "metadata": {},
   "outputs": [],
   "source": []
  },
  {
   "cell_type": "code",
   "execution_count": 117,
   "id": "40535151",
   "metadata": {},
   "outputs": [
    {
     "name": "stdout",
     "output_type": "stream",
     "text": [
      "https://thesool.com/front/find/M000000082/view.do?searchType=2&searchKey=&searchKind=&levelType=&searchString=&productId=PR00000050&pageIndex=2&categoryNm=&kind=\n",
      "['이동 생 쌀 막걸리']\n",
      "['탁주']\n",
      "['정제수, 백미, 팽화미, 입국, 아스파탐 등']\n",
      "['6%']\n",
      "['750ml']\n",
      "[nan]\n",
      "[nan]\n",
      "['이동주조']\n",
      "['경기도 포천시 이동면 화동로 2466']\n",
      "['http://edongricewine.modoo.at/']\n",
      "[nan]\n"
     ]
    }
   ],
   "source": [
    "name_lst=[]\n",
    "kinds_lst = []\n",
    "material_lst = []\n",
    "alchol_level_lst = []\n",
    "ml_lst = []\n",
    "intro_lst = []\n",
    "food_lst =[]\n",
    "home_lst =[]\n",
    "addr_lst=[]\n",
    "homep_lst=[]\n",
    "ask_lst=[]\n",
    "\n",
    "\n",
    "for i in range(50,51):\n",
    "    \n",
    "    \n",
    "    url = 'https://thesool.com/front/find/M000000082/view.do?searchType=2&searchKey=&searchKind=&levelType=&searchString=&productId=PR000000{}&pageIndex=2&categoryNm=&kind='.format(i)\n",
    "    print(url)\n",
    "    driver.get(url)\n",
    "    time.sleep(1)\n",
    "    html = driver.page_source\n",
    "    soup = BeautifulSoup(html, 'html.parser')\n",
    "    \n",
    "    name = soup.select('#content > div > div > div.product-view > dl > dt')\n",
    "    if name:\n",
    "        name_lst.append(name[0].text.strip('\\n\\t'))        \n",
    "    else:\n",
    "        continue\n",
    "    \n",
    "    kinds = soup.select('#content > div > div > div.product-view > dl > dd.detail > div.info > ul > li:nth-child(1)>span')\n",
    "    if kinds:\n",
    "        kinds_lst.append(kinds[0].text.strip('\\n\\t'))\n",
    "    else:\n",
    "        kinds_lst.append(np.nan)\n",
    "        \n",
    "    material = soup.select('#content > div > div > div.product-view > dl > dd.detail > div.info > ul > li:nth-child(2)>span')\n",
    "    if material:\n",
    "        material_lst.append(material[0].text.strip('\\n\\t'))\n",
    "    else:\n",
    "        material_lst.append(np.nan)\n",
    "        \n",
    "    alchol_level = soup.select('#content > div > div > div.product-view > dl > dd.detail > div.info > ul > li:nth-child(3)>span')\n",
    "    if alchol_level:\n",
    "        alchol_level_lst.append(re.search('(\\d)*%',alchol_level[0].text)[0])\n",
    "    else:\n",
    "        alchol_level_lst.append(np.nan)\n",
    "        \n",
    "    ml = soup.select('#content > div > div > div.product-view > dl > dd.detail > div.info > ul > li:nth-child(4)>span')\n",
    "    if ml:\n",
    "        ml_lst.append(ml[0].text.strip('\\n\\t'))\n",
    "    else:\n",
    "        ml_lst.append(np.nan)\n",
    "        \n",
    "    intro = soup.select('#content > div > div > div.product-view > dl > dd.intro>span')\n",
    "    if intro:\n",
    "        intro_lst.append(intro[0].text.strip('\\n\\t'))\n",
    "    else:\n",
    "        intro_lst.append(np.nan)\n",
    "        \n",
    "    food = soup.select('#content > div > div > div.product-view > dl > dd.food>span')\n",
    "    if food:\n",
    "        food_lst.append(food[0].text.strip('\\n\\t'))\n",
    "    else:\n",
    "        food_lst.append(np.nan)\n",
    "        \n",
    "    home = soup.select('#content > div > div > div.product-view > dl > dd.place > div.text > ul > li:nth-child(1)>span')\n",
    "    if home:\n",
    "        home_lst.append(home[0].text.strip('\\n\\t'))\n",
    "    else:\n",
    "        home_lst.append(np.nan)\n",
    "        \n",
    "    addr = soup.select('#content > div > div > div.product-view > dl > dd.place > div.text > ul > li:nth-child(2)>span')\n",
    "    if addr:\n",
    "        addr_lst.append(addr[0].text.strip('\\n\\t'))\n",
    "    else:\n",
    "        addr_lst.append(np.nan)\n",
    "        \n",
    "    homep = soup.select('#content > div > div > div.product-view > dl > dd.place > div.text > ul > li:nth-child(3)>span')\n",
    "    if homep:\n",
    "        homep_lst.append(homep[0].text.strip('\\n\\t'))\n",
    "    else:\n",
    "        homep_lst.append(np.nan)\n",
    "        \n",
    "    ask = soup.select('#content > div > div > div.product-view > dl > dd.place > div.text > ul > li:nth-child(4)>span')\n",
    "    if ask:\n",
    "        ask_lst.append(ask[0].text.strip('\\n\\t'))\n",
    "    else:\n",
    "        ask_lst.append(np.nan)\n",
    "\n",
    "print(name_lst)\n",
    "print(kinds_lst)\n",
    "print(material_lst)\n",
    "print(alchol_level_lst)\n",
    "print(ml_lst)\n",
    "print(intro_lst)\n",
    "print(food_lst)\n",
    "print(home_lst)\n",
    "print(addr_lst)\n",
    "print(homep_lst)\n",
    "print(ask_lst)"
   ]
  },
  {
   "cell_type": "code",
   "execution_count": 66,
   "id": "6fe6f73d",
   "metadata": {},
   "outputs": [
    {
     "data": {
      "text/plain": [
       "'탁주'"
      ]
     },
     "execution_count": 66,
     "metadata": {},
     "output_type": "execute_result"
    }
   ],
   "source": [
    "kinds[0].text.strip('\\n\\t')"
   ]
  },
  {
   "cell_type": "code",
   "execution_count": 79,
   "id": "73415dce",
   "metadata": {},
   "outputs": [
    {
     "data": {
      "text/plain": [
       "[<span>\n",
       " \t\t\t\t\t\t\t탁주\n",
       " \n",
       " \t\t\t\t\t\t</span>]"
      ]
     },
     "execution_count": 79,
     "metadata": {},
     "output_type": "execute_result"
    }
   ],
   "source": [
    "kinds"
   ]
  },
  {
   "cell_type": "code",
   "execution_count": 116,
   "id": "54880219",
   "metadata": {},
   "outputs": [
    {
     "data": {
      "text/plain": [
       "[<dt class=\"subject\">이동 생 쌀 막걸리</dt>]"
      ]
     },
     "execution_count": 116,
     "metadata": {},
     "output_type": "execute_result"
    }
   ],
   "source": [
    "name"
   ]
  },
  {
   "cell_type": "code",
   "execution_count": 112,
   "id": "7fd6973a",
   "metadata": {},
   "outputs": [
    {
     "data": {
      "text/plain": [
       "<re.Match object; span=(18, 20), match='6%'>"
      ]
     },
     "execution_count": 112,
     "metadata": {},
     "output_type": "execute_result"
    }
   ],
   "source": [
    "re.search('(\\d)*%',alchol_level[0].text)"
   ]
  },
  {
   "cell_type": "code",
   "execution_count": null,
   "id": "c4ebc32b",
   "metadata": {},
   "outputs": [],
   "source": []
  },
  {
   "cell_type": "code",
   "execution_count": null,
   "id": "4a8fa09c",
   "metadata": {},
   "outputs": [],
   "source": []
  },
  {
   "cell_type": "code",
   "execution_count": null,
   "id": "3ba924db",
   "metadata": {},
   "outputs": [],
   "source": []
  },
  {
   "cell_type": "code",
   "execution_count": null,
   "id": "84b6cdea",
   "metadata": {},
   "outputs": [],
   "source": []
  },
  {
   "cell_type": "code",
   "execution_count": null,
   "id": "e1ad4692",
   "metadata": {},
   "outputs": [],
   "source": []
  },
  {
   "cell_type": "code",
   "execution_count": null,
   "id": "3277cd32",
   "metadata": {},
   "outputs": [],
   "source": []
  },
  {
   "cell_type": "code",
   "execution_count": null,
   "id": "86b5cdcf",
   "metadata": {},
   "outputs": [],
   "source": []
  },
  {
   "cell_type": "code",
   "execution_count": null,
   "id": "5f886881",
   "metadata": {},
   "outputs": [],
   "source": []
  },
  {
   "cell_type": "code",
   "execution_count": null,
   "id": "85c11a11",
   "metadata": {},
   "outputs": [],
   "source": []
  },
  {
   "cell_type": "code",
   "execution_count": null,
   "id": "e2a42c09",
   "metadata": {},
   "outputs": [],
   "source": []
  },
  {
   "cell_type": "code",
   "execution_count": null,
   "id": "d4195f85",
   "metadata": {},
   "outputs": [],
   "source": []
  },
  {
   "cell_type": "code",
   "execution_count": null,
   "id": "58ba6a2d",
   "metadata": {},
   "outputs": [],
   "source": []
  },
  {
   "cell_type": "code",
   "execution_count": null,
   "id": "a8dd47c3",
   "metadata": {},
   "outputs": [],
   "source": []
  },
  {
   "cell_type": "code",
   "execution_count": null,
   "id": "56c9662c",
   "metadata": {},
   "outputs": [],
   "source": []
  },
  {
   "cell_type": "code",
   "execution_count": null,
   "id": "6860fe08",
   "metadata": {},
   "outputs": [],
   "source": []
  },
  {
   "cell_type": "code",
   "execution_count": null,
   "id": "0713508b",
   "metadata": {},
   "outputs": [],
   "source": []
  },
  {
   "cell_type": "code",
   "execution_count": null,
   "id": "0f896ed8",
   "metadata": {},
   "outputs": [],
   "source": []
  },
  {
   "cell_type": "code",
   "execution_count": null,
   "id": "6138b9a3",
   "metadata": {},
   "outputs": [],
   "source": []
  },
  {
   "cell_type": "code",
   "execution_count": null,
   "id": "52dbef56",
   "metadata": {},
   "outputs": [],
   "source": []
  },
  {
   "cell_type": "code",
   "execution_count": null,
   "id": "89d6ecd1",
   "metadata": {},
   "outputs": [],
   "source": []
  },
  {
   "cell_type": "code",
   "execution_count": null,
   "id": "56845383",
   "metadata": {},
   "outputs": [],
   "source": []
  }
 ],
 "metadata": {
  "kernelspec": {
   "display_name": "Python 3 (ipykernel)",
   "language": "python",
   "name": "python3"
  },
  "language_info": {
   "codemirror_mode": {
    "name": "ipython",
    "version": 3
   },
   "file_extension": ".py",
   "mimetype": "text/x-python",
   "name": "python",
   "nbconvert_exporter": "python",
   "pygments_lexer": "ipython3",
   "version": "3.9.7"
  }
 },
 "nbformat": 4,
 "nbformat_minor": 5
}

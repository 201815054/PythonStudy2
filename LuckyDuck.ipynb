{
 "cells": [
  {
   "cell_type": "code",
   "execution_count": 1,
   "id": "c3e7070c",
   "metadata": {},
   "outputs": [],
   "source": [
    "import random\n",
    "# 45,6개"
   ]
  },
  {
   "cell_type": "code",
   "execution_count": 2,
   "id": "aee73340",
   "metadata": {},
   "outputs": [],
   "source": [
    "x =random.randrange(1,46)"
   ]
  },
  {
   "cell_type": "code",
   "execution_count": 3,
   "id": "b3d4b73b",
   "metadata": {},
   "outputs": [
    {
     "ename": "SyntaxError",
     "evalue": "invalid syntax (Temp/ipykernel_26556/1333151846.py, line 2)",
     "output_type": "error",
     "traceback": [
      "\u001b[1;36m  File \u001b[1;32m\"C:\\Users\\sim\\AppData\\Local\\Temp/ipykernel_26556/1333151846.py\"\u001b[1;36m, line \u001b[1;32m2\u001b[0m\n\u001b[1;33m    for i in range(1,5)\u001b[0m\n\u001b[1;37m                       ^\u001b[0m\n\u001b[1;31mSyntaxError\u001b[0m\u001b[1;31m:\u001b[0m invalid syntax\n"
     ]
    }
   ],
   "source": [
    "lis=[]\n",
    "for i in range(1,5)\n",
    "for i in range(1,6):\n",
    "    y = random.randrange(1,46)\n",
    "    lis.append(y)\n",
    "    while y in lis:\n",
    "        y = random.randrange(1,46)\n",
    "lis.append(y)\n",
    "lis.sort()\n",
    "print(lis)"
   ]
  },
  {
   "cell_type": "code",
   "execution_count": 9,
   "id": "07b9ecd0",
   "metadata": {},
   "outputs": [
    {
     "name": "stdout",
     "output_type": "stream",
     "text": [
      "[20, 22, 23, 30, 39, 43]\n",
      "[13, 18, 21, 27, 29, 33]\n",
      "[6, 32, 33, 37, 40, 45]\n",
      "[6, 16, 18, 26, 35, 42]\n",
      "[4, 12, 15, 22, 34, 44]\n"
     ]
    }
   ],
   "source": [
    "lis = []\n",
    "rand = random.randint(1,45)\n",
    "for i in range(1,7):\n",
    "    while rand in lis:\n",
    "        rand = random.randint(1,45)\n",
    "    lis.append(rand)\n",
    "lis.sort()\n",
    "print(lis)\n",
    "\n",
    "\n",
    "lis = []\n",
    "rand = random.randint(1,45)\n",
    "for i in range(1,7):\n",
    "    while rand in lis:\n",
    "        rand = random.randint(1,45)\n",
    "    lis.append(rand)\n",
    "lis.sort()\n",
    "print(lis)\n",
    "\n",
    "lis = []\n",
    "rand = random.randint(1,45)\n",
    "for i in range(1,7):\n",
    "    while rand in lis:\n",
    "        rand = random.randint(1,45)\n",
    "    lis.append(rand)\n",
    "lis.sort()\n",
    "print(lis)\n",
    "\n",
    "lis = []\n",
    "rand = random.randint(1,45)\n",
    "for i in range(1,7):\n",
    "    while rand in lis:\n",
    "        rand = random.randint(1,45)\n",
    "    lis.append(rand)\n",
    "lis.sort()\n",
    "print(lis)\n",
    "\n",
    "lis = []\n",
    "rand = random.randint(1,45)\n",
    "for i in range(1,7):\n",
    "    while rand in lis:\n",
    "        rand = random.randint(1,45)\n",
    "    lis.append(rand)\n",
    "lis.sort()\n",
    "print(lis)"
   ]
  },
  {
   "cell_type": "code",
   "execution_count": null,
   "id": "9914c27c",
   "metadata": {},
   "outputs": [],
   "source": []
  },
  {
   "cell_type": "code",
   "execution_count": null,
   "id": "0c555a64",
   "metadata": {},
   "outputs": [],
   "source": []
  },
  {
   "cell_type": "code",
   "execution_count": null,
   "id": "d5780f8c",
   "metadata": {},
   "outputs": [],
   "source": []
  },
  {
   "cell_type": "code",
   "execution_count": null,
   "id": "9124657f",
   "metadata": {},
   "outputs": [],
   "source": []
  },
  {
   "cell_type": "code",
   "execution_count": null,
   "id": "3ca44b78",
   "metadata": {},
   "outputs": [],
   "source": []
  }
 ],
 "metadata": {
  "kernelspec": {
   "display_name": "Python 3 (ipykernel)",
   "language": "python",
   "name": "python3"
  },
  "language_info": {
   "codemirror_mode": {
    "name": "ipython",
    "version": 3
   },
   "file_extension": ".py",
   "mimetype": "text/x-python",
   "name": "python",
   "nbconvert_exporter": "python",
   "pygments_lexer": "ipython3",
   "version": "3.7.11"
  }
 },
 "nbformat": 4,
 "nbformat_minor": 5
}

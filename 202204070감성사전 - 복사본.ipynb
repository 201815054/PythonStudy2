{
 "cells": [
  {
   "cell_type": "code",
   "execution_count": 1,
   "id": "c137668b",
   "metadata": {},
   "outputs": [],
   "source": [
    "import pandas as pd\n",
    "import numpy as np\n",
    "import matplotlib.pyplot as plt\n",
    "import seaborn as sns"
   ]
  },
  {
   "cell_type": "code",
   "execution_count": 3,
   "id": "6b935217",
   "metadata": {
    "collapsed": true
   },
   "outputs": [
    {
     "name": "stdout",
     "output_type": "stream",
     "text": [
      "Collecting afinn\n",
      "  Downloading afinn-0.1.tar.gz (52 kB)\n",
      "Building wheels for collected packages: afinn\n",
      "  Building wheel for afinn (setup.py): started\n",
      "  Building wheel for afinn (setup.py): finished with status 'done'\n",
      "  Created wheel for afinn: filename=afinn-0.1-py3-none-any.whl size=53448 sha256=75f6b20a5c2a28373338869a7524d1c60d9720b5d45a4449f113b7787622d8fc\n",
      "  Stored in directory: c:\\users\\bitcamp\\appdata\\local\\pip\\cache\\wheels\\9d\\16\\3a\\9f0953027434eab5dadf3f33ab3298fa95afa8292fcf7aba75\n",
      "Successfully built afinn\n",
      "Installing collected packages: afinn\n",
      "Successfully installed afinn-0.1\n"
     ]
    }
   ],
   "source": [
    "!pip install afinn"
   ]
  },
  {
   "cell_type": "code",
   "execution_count": 4,
   "id": "9e35f9fb",
   "metadata": {},
   "outputs": [],
   "source": [
    "from afinn import Afinn\n",
    "from nltk.corpus import stopwords\n",
    "from nltk.stem.porter import PorterStemmer\n",
    "from nltk.tokenize import RegexpTokenizer"
   ]
  },
  {
   "cell_type": "code",
   "execution_count": null,
   "id": "6adf8320",
   "metadata": {},
   "outputs": [],
   "source": [
    "# google drive\n",
    "\n",
    "# aclimdb - neg_1, pos_1\n",
    "# NRC.txt"
   ]
  },
  {
   "cell_type": "code",
   "execution_count": 5,
   "id": "cdb66213",
   "metadata": {},
   "outputs": [],
   "source": [
    "import glob"
   ]
  },
  {
   "cell_type": "code",
   "execution_count": 12,
   "id": "d2a68995",
   "metadata": {},
   "outputs": [],
   "source": [
    "pos_reviews = glob.glob('./data_files/comments/pos/pos_1/*.txt')"
   ]
  },
  {
   "cell_type": "code",
   "execution_count": 13,
   "id": "b71accc0",
   "metadata": {},
   "outputs": [],
   "source": [
    "neg_reviews = glob.glob('./data_files/comments/neg/neg_1/*.txt')"
   ]
  },
  {
   "cell_type": "code",
   "execution_count": null,
   "id": "37de3ad7",
   "metadata": {},
   "outputs": [],
   "source": []
  },
  {
   "cell_type": "code",
   "execution_count": 18,
   "id": "41e37685",
   "metadata": {
    "collapsed": true
   },
   "outputs": [
    {
     "name": "stdout",
     "output_type": "stream",
     "text": [
      "Whoever wrote the screenplay for this movie obviously never consulted any books about Lucille Ball, especially her autobiography. I've never seen so many mistakes in a biopic, ranging from her early years in Celoron and Jamestown to her later years with Desi. I could write a whole list of factual errors, but it would go on for pages. In all, I believe that Lucille Ball is one of those inimitable people who simply cannot be portrayed by anyone other than themselves. If I were Lucie Arnaz and Desi, Jr., I would be irate at how many mistakes were made in this film. The filmmakers tried hard, but the movie seems awfully sloppy to me.\n"
     ]
    }
   ],
   "source": [
    "f=open(pos_reviews[20], 'r')\n",
    "pos_text = f.read()\n",
    "print(text)"
   ]
  },
  {
   "cell_type": "code",
   "execution_count": null,
   "id": "5cfcf4c8",
   "metadata": {},
   "outputs": [],
   "source": []
  },
  {
   "cell_type": "code",
   "execution_count": 19,
   "id": "40fc589c",
   "metadata": {
    "collapsed": true
   },
   "outputs": [
    {
     "name": "stdout",
     "output_type": "stream",
     "text": [
      "Whoever wrote the screenplay for this movie obviously never consulted any books about Lucille Ball, especially her autobiography. I've never seen so many mistakes in a biopic, ranging from her early years in Celoron and Jamestown to her later years with Desi. I could write a whole list of factual errors, but it would go on for pages. In all, I believe that Lucille Ball is one of those inimitable people who simply cannot be portrayed by anyone other than themselves. If I were Lucie Arnaz and Desi, Jr., I would be irate at how many mistakes were made in this film. The filmmakers tried hard, but the movie seems awfully sloppy to me.\n"
     ]
    }
   ],
   "source": [
    "f=open(neg_reviews[20], 'r')\n",
    "neg_text = f.read()\n",
    "print(text)"
   ]
  },
  {
   "cell_type": "code",
   "execution_count": null,
   "id": "2e4d1ac8",
   "metadata": {},
   "outputs": [],
   "source": []
  },
  {
   "cell_type": "code",
   "execution_count": 20,
   "id": "0f2e3062",
   "metadata": {},
   "outputs": [],
   "source": [
    "afinn = Afinn()"
   ]
  },
  {
   "cell_type": "code",
   "execution_count": 21,
   "id": "741f1d6e",
   "metadata": {},
   "outputs": [
    {
     "data": {
      "text/plain": [
       "14.0"
      ]
     },
     "execution_count": 21,
     "metadata": {},
     "output_type": "execute_result"
    }
   ],
   "source": [
    "afinn.score(pos_text)  # -15 ~ 20"
   ]
  },
  {
   "cell_type": "code",
   "execution_count": 22,
   "id": "dac44b0d",
   "metadata": {},
   "outputs": [
    {
     "data": {
      "text/plain": [
       "-12.0"
      ]
     },
     "execution_count": 22,
     "metadata": {},
     "output_type": "execute_result"
    }
   ],
   "source": [
    "afinn.score(neg_text)"
   ]
  },
  {
   "cell_type": "code",
   "execution_count": null,
   "id": "3401e399",
   "metadata": {},
   "outputs": [],
   "source": []
  },
  {
   "cell_type": "code",
   "execution_count": null,
   "id": "536d5db4",
   "metadata": {},
   "outputs": [],
   "source": [
    "# 감성어사전 - NRC"
   ]
  },
  {
   "cell_type": "code",
   "execution_count": 23,
   "id": "1ccf0710",
   "metadata": {},
   "outputs": [],
   "source": [
    "nrc = pd.read_csv('./data_files/NRC.txt', engine='python', header=None, sep='\\t')"
   ]
  },
  {
   "cell_type": "code",
   "execution_count": 24,
   "id": "07ea89c5",
   "metadata": {
    "collapsed": true
   },
   "outputs": [
    {
     "data": {
      "text/html": [
       "<div>\n",
       "<style scoped>\n",
       "    .dataframe tbody tr th:only-of-type {\n",
       "        vertical-align: middle;\n",
       "    }\n",
       "\n",
       "    .dataframe tbody tr th {\n",
       "        vertical-align: top;\n",
       "    }\n",
       "\n",
       "    .dataframe thead th {\n",
       "        text-align: right;\n",
       "    }\n",
       "</style>\n",
       "<table border=\"1\" class=\"dataframe\">\n",
       "  <thead>\n",
       "    <tr style=\"text-align: right;\">\n",
       "      <th></th>\n",
       "      <th>0</th>\n",
       "      <th>1</th>\n",
       "      <th>2</th>\n",
       "    </tr>\n",
       "  </thead>\n",
       "  <tbody>\n",
       "    <tr>\n",
       "      <th>0</th>\n",
       "      <td>aback</td>\n",
       "      <td>anger</td>\n",
       "      <td>0</td>\n",
       "    </tr>\n",
       "    <tr>\n",
       "      <th>1</th>\n",
       "      <td>aback</td>\n",
       "      <td>anticipation</td>\n",
       "      <td>0</td>\n",
       "    </tr>\n",
       "    <tr>\n",
       "      <th>2</th>\n",
       "      <td>aback</td>\n",
       "      <td>disgust</td>\n",
       "      <td>0</td>\n",
       "    </tr>\n",
       "    <tr>\n",
       "      <th>3</th>\n",
       "      <td>aback</td>\n",
       "      <td>fear</td>\n",
       "      <td>0</td>\n",
       "    </tr>\n",
       "    <tr>\n",
       "      <th>4</th>\n",
       "      <td>aback</td>\n",
       "      <td>joy</td>\n",
       "      <td>0</td>\n",
       "    </tr>\n",
       "    <tr>\n",
       "      <th>...</th>\n",
       "      <td>...</td>\n",
       "      <td>...</td>\n",
       "      <td>...</td>\n",
       "    </tr>\n",
       "    <tr>\n",
       "      <th>141815</th>\n",
       "      <td>zoom</td>\n",
       "      <td>negative</td>\n",
       "      <td>0</td>\n",
       "    </tr>\n",
       "    <tr>\n",
       "      <th>141816</th>\n",
       "      <td>zoom</td>\n",
       "      <td>positive</td>\n",
       "      <td>0</td>\n",
       "    </tr>\n",
       "    <tr>\n",
       "      <th>141817</th>\n",
       "      <td>zoom</td>\n",
       "      <td>sadness</td>\n",
       "      <td>0</td>\n",
       "    </tr>\n",
       "    <tr>\n",
       "      <th>141818</th>\n",
       "      <td>zoom</td>\n",
       "      <td>surprise</td>\n",
       "      <td>0</td>\n",
       "    </tr>\n",
       "    <tr>\n",
       "      <th>141819</th>\n",
       "      <td>zoom</td>\n",
       "      <td>trust</td>\n",
       "      <td>0</td>\n",
       "    </tr>\n",
       "  </tbody>\n",
       "</table>\n",
       "<p>141820 rows × 3 columns</p>\n",
       "</div>"
      ],
      "text/plain": [
       "            0             1  2\n",
       "0       aback         anger  0\n",
       "1       aback  anticipation  0\n",
       "2       aback       disgust  0\n",
       "3       aback          fear  0\n",
       "4       aback           joy  0\n",
       "...       ...           ... ..\n",
       "141815   zoom      negative  0\n",
       "141816   zoom      positive  0\n",
       "141817   zoom       sadness  0\n",
       "141818   zoom      surprise  0\n",
       "141819   zoom         trust  0\n",
       "\n",
       "[141820 rows x 3 columns]"
      ]
     },
     "execution_count": 24,
     "metadata": {},
     "output_type": "execute_result"
    }
   ],
   "source": [
    "nrc"
   ]
  },
  {
   "cell_type": "code",
   "execution_count": 26,
   "id": "017faf24",
   "metadata": {
    "collapsed": true
   },
   "outputs": [
    {
     "data": {
      "text/plain": [
       "anger           14182\n",
       "anticipation    14182\n",
       "disgust         14182\n",
       "fear            14182\n",
       "joy             14182\n",
       "negative        14182\n",
       "positive        14182\n",
       "sadness         14182\n",
       "surprise        14182\n",
       "trust           14182\n",
       "Name: 1, dtype: int64"
      ]
     },
     "execution_count": 26,
     "metadata": {},
     "output_type": "execute_result"
    }
   ],
   "source": [
    "nrc.iloc[:, 1].value_counts()"
   ]
  },
  {
   "cell_type": "code",
   "execution_count": 28,
   "id": "512b4889",
   "metadata": {},
   "outputs": [
    {
     "data": {
      "text/plain": [
       "14181"
      ]
     },
     "execution_count": 28,
     "metadata": {},
     "output_type": "execute_result"
    }
   ],
   "source": [
    "len(nrc.iloc[:, 0].value_counts())"
   ]
  },
  {
   "cell_type": "code",
   "execution_count": null,
   "id": "2a5e93f7",
   "metadata": {},
   "outputs": [],
   "source": []
  },
  {
   "cell_type": "code",
   "execution_count": 33,
   "id": "18e8aed6",
   "metadata": {},
   "outputs": [],
   "source": [
    "nrc = nrc[(nrc != 0).all(1)]"
   ]
  },
  {
   "cell_type": "code",
   "execution_count": null,
   "id": "cd06f0cf",
   "metadata": {},
   "outputs": [],
   "source": []
  },
  {
   "cell_type": "code",
   "execution_count": 36,
   "id": "997edeaa",
   "metadata": {
    "collapsed": true
   },
   "outputs": [
    {
     "data": {
      "text/html": [
       "<div>\n",
       "<style scoped>\n",
       "    .dataframe tbody tr th:only-of-type {\n",
       "        vertical-align: middle;\n",
       "    }\n",
       "\n",
       "    .dataframe tbody tr th {\n",
       "        vertical-align: top;\n",
       "    }\n",
       "\n",
       "    .dataframe thead th {\n",
       "        text-align: right;\n",
       "    }\n",
       "</style>\n",
       "<table border=\"1\" class=\"dataframe\">\n",
       "  <thead>\n",
       "    <tr style=\"text-align: right;\">\n",
       "      <th></th>\n",
       "      <th>0</th>\n",
       "      <th>1</th>\n",
       "      <th>2</th>\n",
       "    </tr>\n",
       "  </thead>\n",
       "  <tbody>\n",
       "    <tr>\n",
       "      <th>57871</th>\n",
       "      <td>happy</td>\n",
       "      <td>anticipation</td>\n",
       "      <td>1</td>\n",
       "    </tr>\n",
       "    <tr>\n",
       "      <th>57874</th>\n",
       "      <td>happy</td>\n",
       "      <td>joy</td>\n",
       "      <td>1</td>\n",
       "    </tr>\n",
       "    <tr>\n",
       "      <th>57876</th>\n",
       "      <td>happy</td>\n",
       "      <td>positive</td>\n",
       "      <td>1</td>\n",
       "    </tr>\n",
       "    <tr>\n",
       "      <th>57879</th>\n",
       "      <td>happy</td>\n",
       "      <td>trust</td>\n",
       "      <td>1</td>\n",
       "    </tr>\n",
       "  </tbody>\n",
       "</table>\n",
       "</div>"
      ],
      "text/plain": [
       "           0             1  2\n",
       "57871  happy  anticipation  1\n",
       "57874  happy           joy  1\n",
       "57876  happy      positive  1\n",
       "57879  happy         trust  1"
      ]
     },
     "execution_count": 36,
     "metadata": {},
     "output_type": "execute_result"
    }
   ],
   "source": [
    "nrc[nrc[0] == 'happy']"
   ]
  },
  {
   "cell_type": "code",
   "execution_count": 37,
   "id": "d6dc2018",
   "metadata": {
    "collapsed": true
   },
   "outputs": [
    {
     "data": {
      "text/html": [
       "<div>\n",
       "<style scoped>\n",
       "    .dataframe tbody tr th:only-of-type {\n",
       "        vertical-align: middle;\n",
       "    }\n",
       "\n",
       "    .dataframe tbody tr th {\n",
       "        vertical-align: top;\n",
       "    }\n",
       "\n",
       "    .dataframe thead th {\n",
       "        text-align: right;\n",
       "    }\n",
       "</style>\n",
       "<table border=\"1\" class=\"dataframe\">\n",
       "  <thead>\n",
       "    <tr style=\"text-align: right;\">\n",
       "      <th></th>\n",
       "      <th>0</th>\n",
       "      <th>1</th>\n",
       "      <th>2</th>\n",
       "    </tr>\n",
       "  </thead>\n",
       "  <tbody>\n",
       "    <tr>\n",
       "      <th>36260</th>\n",
       "      <td>disaster</td>\n",
       "      <td>anger</td>\n",
       "      <td>1</td>\n",
       "    </tr>\n",
       "    <tr>\n",
       "      <th>36262</th>\n",
       "      <td>disaster</td>\n",
       "      <td>disgust</td>\n",
       "      <td>1</td>\n",
       "    </tr>\n",
       "    <tr>\n",
       "      <th>36263</th>\n",
       "      <td>disaster</td>\n",
       "      <td>fear</td>\n",
       "      <td>1</td>\n",
       "    </tr>\n",
       "    <tr>\n",
       "      <th>36265</th>\n",
       "      <td>disaster</td>\n",
       "      <td>negative</td>\n",
       "      <td>1</td>\n",
       "    </tr>\n",
       "    <tr>\n",
       "      <th>36267</th>\n",
       "      <td>disaster</td>\n",
       "      <td>sadness</td>\n",
       "      <td>1</td>\n",
       "    </tr>\n",
       "    <tr>\n",
       "      <th>36268</th>\n",
       "      <td>disaster</td>\n",
       "      <td>surprise</td>\n",
       "      <td>1</td>\n",
       "    </tr>\n",
       "  </tbody>\n",
       "</table>\n",
       "</div>"
      ],
      "text/plain": [
       "              0         1  2\n",
       "36260  disaster     anger  1\n",
       "36262  disaster   disgust  1\n",
       "36263  disaster      fear  1\n",
       "36265  disaster  negative  1\n",
       "36267  disaster   sadness  1\n",
       "36268  disaster  surprise  1"
      ]
     },
     "execution_count": 37,
     "metadata": {},
     "output_type": "execute_result"
    }
   ],
   "source": [
    "nrc[nrc[0] == 'disaster']"
   ]
  },
  {
   "cell_type": "code",
   "execution_count": 40,
   "id": "2f7a77c7",
   "metadata": {
    "collapsed": true
   },
   "outputs": [
    {
     "data": {
      "text/html": [
       "<div>\n",
       "<style scoped>\n",
       "    .dataframe tbody tr th:only-of-type {\n",
       "        vertical-align: middle;\n",
       "    }\n",
       "\n",
       "    .dataframe tbody tr th {\n",
       "        vertical-align: top;\n",
       "    }\n",
       "\n",
       "    .dataframe thead th {\n",
       "        text-align: right;\n",
       "    }\n",
       "</style>\n",
       "<table border=\"1\" class=\"dataframe\">\n",
       "  <thead>\n",
       "    <tr style=\"text-align: right;\">\n",
       "      <th></th>\n",
       "      <th>0</th>\n",
       "      <th>1</th>\n",
       "      <th>2</th>\n",
       "    </tr>\n",
       "  </thead>\n",
       "  <tbody>\n",
       "    <tr>\n",
       "      <th>0</th>\n",
       "      <td>abacus</td>\n",
       "      <td>trust</td>\n",
       "      <td>1</td>\n",
       "    </tr>\n",
       "    <tr>\n",
       "      <th>1</th>\n",
       "      <td>abandon</td>\n",
       "      <td>fear</td>\n",
       "      <td>1</td>\n",
       "    </tr>\n",
       "    <tr>\n",
       "      <th>2</th>\n",
       "      <td>abandon</td>\n",
       "      <td>negative</td>\n",
       "      <td>1</td>\n",
       "    </tr>\n",
       "    <tr>\n",
       "      <th>3</th>\n",
       "      <td>abandon</td>\n",
       "      <td>sadness</td>\n",
       "      <td>1</td>\n",
       "    </tr>\n",
       "    <tr>\n",
       "      <th>4</th>\n",
       "      <td>abandoned</td>\n",
       "      <td>anger</td>\n",
       "      <td>1</td>\n",
       "    </tr>\n",
       "    <tr>\n",
       "      <th>...</th>\n",
       "      <td>...</td>\n",
       "      <td>...</td>\n",
       "      <td>...</td>\n",
       "    </tr>\n",
       "    <tr>\n",
       "      <th>13896</th>\n",
       "      <td>zest</td>\n",
       "      <td>anticipation</td>\n",
       "      <td>1</td>\n",
       "    </tr>\n",
       "    <tr>\n",
       "      <th>13897</th>\n",
       "      <td>zest</td>\n",
       "      <td>joy</td>\n",
       "      <td>1</td>\n",
       "    </tr>\n",
       "    <tr>\n",
       "      <th>13898</th>\n",
       "      <td>zest</td>\n",
       "      <td>positive</td>\n",
       "      <td>1</td>\n",
       "    </tr>\n",
       "    <tr>\n",
       "      <th>13899</th>\n",
       "      <td>zest</td>\n",
       "      <td>trust</td>\n",
       "      <td>1</td>\n",
       "    </tr>\n",
       "    <tr>\n",
       "      <th>13900</th>\n",
       "      <td>zip</td>\n",
       "      <td>negative</td>\n",
       "      <td>1</td>\n",
       "    </tr>\n",
       "  </tbody>\n",
       "</table>\n",
       "<p>13901 rows × 3 columns</p>\n",
       "</div>"
      ],
      "text/plain": [
       "               0             1  2\n",
       "0         abacus         trust  1\n",
       "1        abandon          fear  1\n",
       "2        abandon      negative  1\n",
       "3        abandon       sadness  1\n",
       "4      abandoned         anger  1\n",
       "...          ...           ... ..\n",
       "13896       zest  anticipation  1\n",
       "13897       zest           joy  1\n",
       "13898       zest      positive  1\n",
       "13899       zest         trust  1\n",
       "13900        zip      negative  1\n",
       "\n",
       "[13901 rows x 3 columns]"
      ]
     },
     "execution_count": 40,
     "metadata": {},
     "output_type": "execute_result"
    }
   ],
   "source": [
    "nrc = nrc.reset_index(drop=True)\n",
    "nrc"
   ]
  },
  {
   "cell_type": "code",
   "execution_count": null,
   "id": "ad4919ed",
   "metadata": {},
   "outputs": [],
   "source": []
  },
  {
   "cell_type": "code",
   "execution_count": 45,
   "id": "b5ae8c95",
   "metadata": {},
   "outputs": [],
   "source": [
    "lines1 = pos_text"
   ]
  },
  {
   "cell_type": "code",
   "execution_count": 43,
   "id": "f66c5532",
   "metadata": {},
   "outputs": [],
   "source": [
    "stopwords = stopwords.words('english')"
   ]
  },
  {
   "cell_type": "code",
   "execution_count": 47,
   "id": "2725e013",
   "metadata": {},
   "outputs": [],
   "source": [
    "tokenizer = RegexpTokenizer('[\\w]+')"
   ]
  },
  {
   "cell_type": "code",
   "execution_count": 44,
   "id": "5751d47a",
   "metadata": {},
   "outputs": [],
   "source": [
    "p_stemmer = PorterStemmer()"
   ]
  },
  {
   "cell_type": "code",
   "execution_count": null,
   "id": "a675a6f4",
   "metadata": {},
   "outputs": [],
   "source": []
  },
  {
   "cell_type": "code",
   "execution_count": 48,
   "id": "dc189a54",
   "metadata": {
    "collapsed": true
   },
   "outputs": [
    {
     "data": {
      "text/plain": [
       "['critics',\n",
       " 'need',\n",
       " 'review',\n",
       " 'class',\n",
       " 'quality',\n",
       " 'movie',\n",
       " 'think',\n",
       " 'critics',\n",
       " 'seen',\n",
       " 'many',\n",
       " 'actions',\n",
       " 'films',\n",
       " 'succumbed',\n",
       " 'matrix',\n",
       " 'style',\n",
       " 'films',\n",
       " 'europa',\n",
       " 'breath',\n",
       " 'fresh',\n",
       " 'air',\n",
       " 'film',\n",
       " 'many',\n",
       " 'layers',\n",
       " 'one',\n",
       " 'viewing',\n",
       " 'enough',\n",
       " 'understand',\n",
       " 'appreciate',\n",
       " 'outstanding',\n",
       " 'film',\n",
       " 'lars',\n",
       " 'von',\n",
       " 'trier',\n",
       " 'shows',\n",
       " 'old',\n",
       " 'styles',\n",
       " 'filming',\n",
       " 'produce',\n",
       " 'marvellous',\n",
       " 'cinema',\n",
       " 'build',\n",
       " 'drama',\n",
       " 'tension',\n",
       " 'back',\n",
       " 'projection',\n",
       " 'effect',\n",
       " 'uses',\n",
       " 'film',\n",
       " 'arouses',\n",
       " 'enhances',\n",
       " 'characters',\n",
       " 'focus',\n",
       " 'conversation',\n",
       " 'effects',\n",
       " 'uses',\n",
       " 'colour',\n",
       " 'black',\n",
       " 'white',\n",
       " 'one',\n",
       " 'scene',\n",
       " 'much',\n",
       " 'like',\n",
       " 'hitchcock',\n",
       " 'girl',\n",
       " 'red',\n",
       " 'coat',\n",
       " 'grabs',\n",
       " 'attention',\n",
       " 'enhances',\n",
       " 'drama',\n",
       " 'meaning',\n",
       " 'scene',\n",
       " 'commentary',\n",
       " 'superb',\n",
       " 'hypnotic',\n",
       " 'effect',\n",
       " 'maintaining',\n",
       " 'focus',\n",
       " 'central',\n",
       " 'characters',\n",
       " 'scene',\n",
       " 'actions',\n",
       " 'br',\n",
       " 'br',\n",
       " 'could',\n",
       " 'talk',\n",
       " 'effects',\n",
       " 'think',\n",
       " 'would',\n",
       " 'agree',\n",
       " 'push',\n",
       " 'film',\n",
       " 'category',\n",
       " 'really',\n",
       " 'heighten',\n",
       " 'drama',\n",
       " 'film',\n",
       " 'film',\n",
       " 'buy',\n",
       " 'already',\n",
       " 'one',\n",
       " 'see',\n",
       " 'br',\n",
       " 'br',\n",
       " '10',\n",
       " '10',\n",
       " 'miss',\n",
       " 'artistic',\n",
       " 'noir',\n",
       " 'film',\n",
       " 'one',\n",
       " 'great',\n",
       " 'film',\n",
       " 'directors']"
      ]
     },
     "execution_count": 48,
     "metadata": {},
     "output_type": "execute_result"
    }
   ],
   "source": [
    "raw = lines1.lower()\n",
    "tokens = tokenizer.tokenize(raw)\n",
    "stopped_tokens = [i for i in tokens if not i in stopwords]\n",
    "stopped_tokens"
   ]
  },
  {
   "cell_type": "code",
   "execution_count": 50,
   "id": "c6f2c3aa",
   "metadata": {
    "collapsed": true
   },
   "outputs": [
    {
     "data": {
      "text/plain": [
       "['outstanding',\n",
       " 'build',\n",
       " 'tension',\n",
       " 'focus',\n",
       " 'black',\n",
       " 'white',\n",
       " 'attention',\n",
       " 'superb',\n",
       " 'focus',\n",
       " 'talk',\n",
       " 'agree',\n",
       " 'heighten',\n",
       " 'artistic']"
      ]
     },
     "execution_count": 50,
     "metadata": {},
     "output_type": "execute_result"
    }
   ],
   "source": [
    "match_tokens = [x for x in stopped_tokens if x in list(nrc[0])]\n",
    "match_tokens"
   ]
  },
  {
   "cell_type": "code",
   "execution_count": 52,
   "id": "1e1d7a9a",
   "metadata": {
    "collapsed": true
   },
   "outputs": [
    {
     "data": {
      "text/plain": [
       "['joy',\n",
       " 'negative',\n",
       " 'positive',\n",
       " 'positive',\n",
       " 'anger',\n",
       " 'positive',\n",
       " 'negative',\n",
       " 'sadness',\n",
       " 'anticipation',\n",
       " 'joy',\n",
       " 'positive',\n",
       " 'trust',\n",
       " 'positive',\n",
       " 'positive',\n",
       " 'positive',\n",
       " 'positive',\n",
       " 'positive',\n",
       " 'fear',\n",
       " 'negative',\n",
       " 'positive']"
      ]
     },
     "execution_count": 52,
     "metadata": {},
     "output_type": "execute_result"
    }
   ],
   "source": [
    "emotion = []\n",
    "\n",
    "for i in match_tokens:\n",
    "    em_word = nrc[nrc[0] == i][1].values\n",
    "    for j in em_word:\n",
    "        emotion.append(j)\n",
    "        \n",
    "emotion"
   ]
  },
  {
   "cell_type": "code",
   "execution_count": 54,
   "id": "77bad4b1",
   "metadata": {},
   "outputs": [
    {
     "data": {
      "text/plain": [
       "positive        10\n",
       "negative         3\n",
       "joy              2\n",
       "anger            1\n",
       "sadness          1\n",
       "anticipation     1\n",
       "trust            1\n",
       "fear             1\n",
       "dtype: int64"
      ]
     },
     "execution_count": 54,
     "metadata": {},
     "output_type": "execute_result"
    }
   ],
   "source": [
    "sent_result = pd.Series(emotion).value_counts()\n",
    "sent_result"
   ]
  },
  {
   "cell_type": "code",
   "execution_count": 59,
   "id": "125f0f24",
   "metadata": {},
   "outputs": [],
   "source": [
    "def emotion_score(series):\n",
    "    \n",
    "    emot_score = 0\n",
    "    \n",
    "    for j in range(len(series)):\n",
    "        \n",
    "        if series.index[j] in ('positive', 'anticipation', 'trust','joy', 'surprise'):\n",
    "            emot_score += series.iloc[j]\n",
    "        else:\n",
    "            emot_score -= series.iloc[j]\n",
    "            \n",
    "    return emot_score"
   ]
  },
  {
   "cell_type": "code",
   "execution_count": 60,
   "id": "08b496fe",
   "metadata": {},
   "outputs": [
    {
     "data": {
      "text/plain": [
       "8"
      ]
     },
     "execution_count": 60,
     "metadata": {},
     "output_type": "execute_result"
    }
   ],
   "source": [
    "emotion_score(sent_result)"
   ]
  },
  {
   "cell_type": "code",
   "execution_count": null,
   "id": "80348fa7",
   "metadata": {},
   "outputs": [],
   "source": []
  },
  {
   "cell_type": "code",
   "execution_count": 62,
   "id": "0d8f3818",
   "metadata": {},
   "outputs": [
    {
     "data": {
      "text/plain": [
       "-2"
      ]
     },
     "execution_count": 62,
     "metadata": {},
     "output_type": "execute_result"
    }
   ],
   "source": [
    "lines2 = neg_text\n",
    "\n",
    "raw = lines2.lower()\n",
    "tokens = tokenizer.tokenize(raw)\n",
    "stopped_tokens = [i for i in tokens if not i in stopwords]\n",
    "match_tokens = [x for x in stopped_tokens if x in list(nrc[0])]\n",
    "\n",
    "emotion = []\n",
    "for i in match_tokens:\n",
    "    em_word = nrc[nrc[0] == i][1].values\n",
    "    for j in em_word:\n",
    "        emotion.append(j)\n",
    "        \n",
    "sent_result = pd.Series(emotion).value_counts()\n",
    "\n",
    "emotion_score(sent_result)"
   ]
  },
  {
   "cell_type": "code",
   "execution_count": null,
   "id": "6b515c67",
   "metadata": {},
   "outputs": [],
   "source": [
    "# mecab 한글 네이버 댓글 감성분석\n",
    "# 한글 감성어 사전 이용 네이버 댓글 감성분석 "
   ]
  },
  {
   "cell_type": "code",
   "execution_count": 1,
   "id": "8b006c8b",
   "metadata": {},
   "outputs": [],
   "source": [
    "import requests\n",
    "from bs4 import BeautifulSoup\n",
    "from selenium import webdriver "
   ]
  },
  {
   "cell_type": "code",
   "execution_count": 15,
   "id": "88a0443c",
   "metadata": {},
   "outputs": [],
   "source": [
    "url = 'https://n.news.naver.com/article/comment/015/0004683158'\n",
    "driver = webdriver.Chrome()\n",
    "driver.get(url)\n",
    "html = driver.page_source\n",
    "soup = BeautifulSoup(html, 'html.parser')\n",
    "path = '#cbox_module_wai_u_cbox_content_wrap_tabpanel > ul > li.u_cbox_comment > div.u_cbox_comment_box.u_cbox_type_profile > div > div.u_cbox_text_wrap > span.u_cbox_contents'\n",
    "# path = '#cbox_module_wai_u_cbox_content_wrap_tabpanel > ul > li.u_cbox_comment.cbox_module__comment_754438459594113120._user_id_no_1nLuS > div.u_cbox_comment_box.u_cbox_type_profile > div > div.u_cbox_text_wrap > span.u_cbox_contents'"
   ]
  },
  {
   "cell_type": "code",
   "execution_count": 22,
   "id": "88276c3d",
   "metadata": {},
   "outputs": [
    {
     "ename": "TypeError",
     "evalue": "object of type 'WebElement' has no len()",
     "output_type": "error",
     "traceback": [
      "\u001b[1;31m---------------------------------------------------------------------------\u001b[0m",
      "\u001b[1;31mTypeError\u001b[0m                                 Traceback (most recent call last)",
      "\u001b[1;32m~\\AppData\\Local\\Temp/ipykernel_9444/1616369367.py\u001b[0m in \u001b[0;36m<module>\u001b[1;34m\u001b[0m\n\u001b[1;32m----> 1\u001b[1;33m \u001b[0mlen\u001b[0m\u001b[1;33m(\u001b[0m\u001b[0mcontents\u001b[0m\u001b[1;33m)\u001b[0m\u001b[1;33m\u001b[0m\u001b[1;33m\u001b[0m\u001b[0m\n\u001b[0m",
      "\u001b[1;31mTypeError\u001b[0m: object of type 'WebElement' has no len()"
     ]
    }
   ],
   "source": [
    "len(contents)"
   ]
  },
  {
   "cell_type": "code",
   "execution_count": 24,
   "id": "cdabe732",
   "metadata": {},
   "outputs": [
    {
     "name": "stderr",
     "output_type": "stream",
     "text": [
      "C:\\Users\\sim\\Anaconda3\\lib\\site-packages\\ipykernel_launcher.py:7: DeprecationWarning: executable_path has been deprecated, please pass in a Service object\n",
      "  import sys\n",
      "C:\\Users\\sim\\Anaconda3\\lib\\site-packages\\ipykernel_launcher.py:12: DeprecationWarning: find_element_by_* commands are deprecated. Please use find_element() instead\n",
      "  if sys.path[0] == '':\n",
      "C:\\Users\\sim\\Anaconda3\\lib\\site-packages\\ipykernel_launcher.py:15: DeprecationWarning: find_element_by_* commands are deprecated. Please use find_element() instead\n",
      "  from ipykernel import kernelapp as app\n",
      "C:\\Users\\sim\\Anaconda3\\lib\\site-packages\\ipykernel_launcher.py:18: DeprecationWarning: find_element_by_* commands are deprecated. Please use find_element() instead\n"
     ]
    },
    {
     "ename": "NoSuchElementException",
     "evalue": "Message: no such element: Unable to locate element: {\"method\":\"css selector\",\"selector\":\"a.u_cbox_layer_cleanbot_extrabutton\"}\n  (Session info: chrome=100.0.4896.60)\nStacktrace:\nBacktrace:\n\tOrdinal0 [0x00969943+2595139]\n\tOrdinal0 [0x008FC9F1+2148849]\n\tOrdinal0 [0x007F4528+1066280]\n\tOrdinal0 [0x00820FD4+1249236]\n\tOrdinal0 [0x008211CB+1249739]\n\tOrdinal0 [0x0084D812+1431570]\n\tOrdinal0 [0x0083BA34+1358388]\n\tOrdinal0 [0x0084BAF2+1424114]\n\tOrdinal0 [0x0083B806+1357830]\n\tOrdinal0 [0x00816086+1204358]\n\tOrdinal0 [0x00816F96+1208214]\n\tGetHandleVerifier [0x00B0B232+1658114]\n\tGetHandleVerifier [0x00BC312C+2411516]\n\tGetHandleVerifier [0x009FF261+560433]\n\tGetHandleVerifier [0x009FE366+556598]\n\tOrdinal0 [0x0090286B+2173035]\n\tOrdinal0 [0x009075F8+2192888]\n\tOrdinal0 [0x009076E5+2193125]\n\tOrdinal0 [0x009111FC+2232828]\n\tBaseThreadInitThunk [0x7790FA29+25]\n\tRtlGetAppContainerNamedObjectPath [0x77DD7A7E+286]\n\tRtlGetAppContainerNamedObjectPath [0x77DD7A4E+238]\n",
     "output_type": "error",
     "traceback": [
      "\u001b[1;31m---------------------------------------------------------------------------\u001b[0m",
      "\u001b[1;31mNoSuchElementException\u001b[0m                    Traceback (most recent call last)",
      "\u001b[1;32m~\\AppData\\Local\\Temp/ipykernel_9444/1942032396.py\u001b[0m in \u001b[0;36m<module>\u001b[1;34m\u001b[0m\n\u001b[0;32m     16\u001b[0m \u001b[0mcleanbot_disable\u001b[0m\u001b[1;33m.\u001b[0m\u001b[0mclick\u001b[0m\u001b[1;33m(\u001b[0m\u001b[1;33m)\u001b[0m\u001b[1;33m\u001b[0m\u001b[1;33m\u001b[0m\u001b[0m\n\u001b[0;32m     17\u001b[0m \u001b[0mtime\u001b[0m\u001b[1;33m.\u001b[0m\u001b[0msleep\u001b[0m\u001b[1;33m(\u001b[0m\u001b[1;36m1\u001b[0m\u001b[1;33m)\u001b[0m\u001b[1;33m\u001b[0m\u001b[1;33m\u001b[0m\u001b[0m\n\u001b[1;32m---> 18\u001b[1;33m \u001b[0mcleanbot_confirm\u001b[0m \u001b[1;33m=\u001b[0m \u001b[0mdriver\u001b[0m\u001b[1;33m.\u001b[0m\u001b[0mfind_element_by_css_selector\u001b[0m\u001b[1;33m(\u001b[0m\u001b[1;34m'a.u_cbox_layer_cleanbot_extrabutton'\u001b[0m\u001b[1;33m)\u001b[0m\u001b[1;33m\u001b[0m\u001b[1;33m\u001b[0m\u001b[0m\n\u001b[0m\u001b[0;32m     19\u001b[0m \u001b[0mcleanbot_confirm\u001b[0m\u001b[1;33m.\u001b[0m\u001b[0mclick\u001b[0m\u001b[1;33m(\u001b[0m\u001b[1;33m)\u001b[0m\u001b[1;33m\u001b[0m\u001b[1;33m\u001b[0m\u001b[0m\n\u001b[0;32m     20\u001b[0m \u001b[0mtime\u001b[0m\u001b[1;33m.\u001b[0m\u001b[0msleep\u001b[0m\u001b[1;33m(\u001b[0m\u001b[1;36m1\u001b[0m\u001b[1;33m)\u001b[0m\u001b[1;33m\u001b[0m\u001b[1;33m\u001b[0m\u001b[0m\n",
      "\u001b[1;32m~\\Anaconda3\\lib\\site-packages\\selenium\\webdriver\\remote\\webdriver.py\u001b[0m in \u001b[0;36mfind_element_by_css_selector\u001b[1;34m(self, css_selector)\u001b[0m\n\u001b[0;32m    806\u001b[0m             \u001b[0mstacklevel\u001b[0m\u001b[1;33m=\u001b[0m\u001b[1;36m2\u001b[0m\u001b[1;33m,\u001b[0m\u001b[1;33m\u001b[0m\u001b[1;33m\u001b[0m\u001b[0m\n\u001b[0;32m    807\u001b[0m         )\n\u001b[1;32m--> 808\u001b[1;33m         \u001b[1;32mreturn\u001b[0m \u001b[0mself\u001b[0m\u001b[1;33m.\u001b[0m\u001b[0mfind_element\u001b[0m\u001b[1;33m(\u001b[0m\u001b[0mby\u001b[0m\u001b[1;33m=\u001b[0m\u001b[0mBy\u001b[0m\u001b[1;33m.\u001b[0m\u001b[0mCSS_SELECTOR\u001b[0m\u001b[1;33m,\u001b[0m \u001b[0mvalue\u001b[0m\u001b[1;33m=\u001b[0m\u001b[0mcss_selector\u001b[0m\u001b[1;33m)\u001b[0m\u001b[1;33m\u001b[0m\u001b[1;33m\u001b[0m\u001b[0m\n\u001b[0m\u001b[0;32m    809\u001b[0m \u001b[1;33m\u001b[0m\u001b[0m\n\u001b[0;32m    810\u001b[0m     \u001b[1;32mdef\u001b[0m \u001b[0mfind_elements_by_css_selector\u001b[0m\u001b[1;33m(\u001b[0m\u001b[0mself\u001b[0m\u001b[1;33m,\u001b[0m \u001b[0mcss_selector\u001b[0m\u001b[1;33m)\u001b[0m \u001b[1;33m->\u001b[0m \u001b[0mWebElement\u001b[0m\u001b[1;33m:\u001b[0m\u001b[1;33m\u001b[0m\u001b[1;33m\u001b[0m\u001b[0m\n",
      "\u001b[1;32m~\\Anaconda3\\lib\\site-packages\\selenium\\webdriver\\remote\\webdriver.py\u001b[0m in \u001b[0;36mfind_element\u001b[1;34m(self, by, value)\u001b[0m\n\u001b[0;32m   1244\u001b[0m         return self.execute(Command.FIND_ELEMENT, {\n\u001b[0;32m   1245\u001b[0m             \u001b[1;34m'using'\u001b[0m\u001b[1;33m:\u001b[0m \u001b[0mby\u001b[0m\u001b[1;33m,\u001b[0m\u001b[1;33m\u001b[0m\u001b[1;33m\u001b[0m\u001b[0m\n\u001b[1;32m-> 1246\u001b[1;33m             'value': value})['value']\n\u001b[0m\u001b[0;32m   1247\u001b[0m \u001b[1;33m\u001b[0m\u001b[0m\n\u001b[0;32m   1248\u001b[0m     \u001b[1;32mdef\u001b[0m \u001b[0mfind_elements\u001b[0m\u001b[1;33m(\u001b[0m\u001b[0mself\u001b[0m\u001b[1;33m,\u001b[0m \u001b[0mby\u001b[0m\u001b[1;33m=\u001b[0m\u001b[0mBy\u001b[0m\u001b[1;33m.\u001b[0m\u001b[0mID\u001b[0m\u001b[1;33m,\u001b[0m \u001b[0mvalue\u001b[0m\u001b[1;33m=\u001b[0m\u001b[1;32mNone\u001b[0m\u001b[1;33m)\u001b[0m \u001b[1;33m->\u001b[0m \u001b[0mList\u001b[0m\u001b[1;33m[\u001b[0m\u001b[0mWebElement\u001b[0m\u001b[1;33m]\u001b[0m\u001b[1;33m:\u001b[0m\u001b[1;33m\u001b[0m\u001b[1;33m\u001b[0m\u001b[0m\n",
      "\u001b[1;32m~\\Anaconda3\\lib\\site-packages\\selenium\\webdriver\\remote\\webdriver.py\u001b[0m in \u001b[0;36mexecute\u001b[1;34m(self, driver_command, params)\u001b[0m\n\u001b[0;32m    422\u001b[0m         \u001b[0mresponse\u001b[0m \u001b[1;33m=\u001b[0m \u001b[0mself\u001b[0m\u001b[1;33m.\u001b[0m\u001b[0mcommand_executor\u001b[0m\u001b[1;33m.\u001b[0m\u001b[0mexecute\u001b[0m\u001b[1;33m(\u001b[0m\u001b[0mdriver_command\u001b[0m\u001b[1;33m,\u001b[0m \u001b[0mparams\u001b[0m\u001b[1;33m)\u001b[0m\u001b[1;33m\u001b[0m\u001b[1;33m\u001b[0m\u001b[0m\n\u001b[0;32m    423\u001b[0m         \u001b[1;32mif\u001b[0m \u001b[0mresponse\u001b[0m\u001b[1;33m:\u001b[0m\u001b[1;33m\u001b[0m\u001b[1;33m\u001b[0m\u001b[0m\n\u001b[1;32m--> 424\u001b[1;33m             \u001b[0mself\u001b[0m\u001b[1;33m.\u001b[0m\u001b[0merror_handler\u001b[0m\u001b[1;33m.\u001b[0m\u001b[0mcheck_response\u001b[0m\u001b[1;33m(\u001b[0m\u001b[0mresponse\u001b[0m\u001b[1;33m)\u001b[0m\u001b[1;33m\u001b[0m\u001b[1;33m\u001b[0m\u001b[0m\n\u001b[0m\u001b[0;32m    425\u001b[0m             response['value'] = self._unwrap_value(\n\u001b[0;32m    426\u001b[0m                 response.get('value', None))\n",
      "\u001b[1;32m~\\Anaconda3\\lib\\site-packages\\selenium\\webdriver\\remote\\errorhandler.py\u001b[0m in \u001b[0;36mcheck_response\u001b[1;34m(self, response)\u001b[0m\n\u001b[0;32m    245\u001b[0m                 \u001b[0malert_text\u001b[0m \u001b[1;33m=\u001b[0m \u001b[0mvalue\u001b[0m\u001b[1;33m[\u001b[0m\u001b[1;34m'alert'\u001b[0m\u001b[1;33m]\u001b[0m\u001b[1;33m.\u001b[0m\u001b[0mget\u001b[0m\u001b[1;33m(\u001b[0m\u001b[1;34m'text'\u001b[0m\u001b[1;33m)\u001b[0m\u001b[1;33m\u001b[0m\u001b[1;33m\u001b[0m\u001b[0m\n\u001b[0;32m    246\u001b[0m             \u001b[1;32mraise\u001b[0m \u001b[0mexception_class\u001b[0m\u001b[1;33m(\u001b[0m\u001b[0mmessage\u001b[0m\u001b[1;33m,\u001b[0m \u001b[0mscreen\u001b[0m\u001b[1;33m,\u001b[0m \u001b[0mstacktrace\u001b[0m\u001b[1;33m,\u001b[0m \u001b[0malert_text\u001b[0m\u001b[1;33m)\u001b[0m  \u001b[1;31m# type: ignore[call-arg]  # mypy is not smart enough here\u001b[0m\u001b[1;33m\u001b[0m\u001b[1;33m\u001b[0m\u001b[0m\n\u001b[1;32m--> 247\u001b[1;33m         \u001b[1;32mraise\u001b[0m \u001b[0mexception_class\u001b[0m\u001b[1;33m(\u001b[0m\u001b[0mmessage\u001b[0m\u001b[1;33m,\u001b[0m \u001b[0mscreen\u001b[0m\u001b[1;33m,\u001b[0m \u001b[0mstacktrace\u001b[0m\u001b[1;33m)\u001b[0m\u001b[1;33m\u001b[0m\u001b[1;33m\u001b[0m\u001b[0m\n\u001b[0m\u001b[0;32m    248\u001b[0m \u001b[1;33m\u001b[0m\u001b[0m\n\u001b[0;32m    249\u001b[0m     \u001b[1;32mdef\u001b[0m \u001b[0m_value_or_default\u001b[0m\u001b[1;33m(\u001b[0m\u001b[0mself\u001b[0m\u001b[1;33m,\u001b[0m \u001b[0mobj\u001b[0m\u001b[1;33m:\u001b[0m \u001b[0mMapping\u001b[0m\u001b[1;33m[\u001b[0m\u001b[0m_KT\u001b[0m\u001b[1;33m,\u001b[0m \u001b[0m_VT\u001b[0m\u001b[1;33m]\u001b[0m\u001b[1;33m,\u001b[0m \u001b[0mkey\u001b[0m\u001b[1;33m:\u001b[0m \u001b[0m_KT\u001b[0m\u001b[1;33m,\u001b[0m \u001b[0mdefault\u001b[0m\u001b[1;33m:\u001b[0m \u001b[0m_VT\u001b[0m\u001b[1;33m)\u001b[0m \u001b[1;33m->\u001b[0m \u001b[0m_VT\u001b[0m\u001b[1;33m:\u001b[0m\u001b[1;33m\u001b[0m\u001b[1;33m\u001b[0m\u001b[0m\n",
      "\u001b[1;31mNoSuchElementException\u001b[0m: Message: no such element: Unable to locate element: {\"method\":\"css selector\",\"selector\":\"a.u_cbox_layer_cleanbot_extrabutton\"}\n  (Session info: chrome=100.0.4896.60)\nStacktrace:\nBacktrace:\n\tOrdinal0 [0x00969943+2595139]\n\tOrdinal0 [0x008FC9F1+2148849]\n\tOrdinal0 [0x007F4528+1066280]\n\tOrdinal0 [0x00820FD4+1249236]\n\tOrdinal0 [0x008211CB+1249739]\n\tOrdinal0 [0x0084D812+1431570]\n\tOrdinal0 [0x0083BA34+1358388]\n\tOrdinal0 [0x0084BAF2+1424114]\n\tOrdinal0 [0x0083B806+1357830]\n\tOrdinal0 [0x00816086+1204358]\n\tOrdinal0 [0x00816F96+1208214]\n\tGetHandleVerifier [0x00B0B232+1658114]\n\tGetHandleVerifier [0x00BC312C+2411516]\n\tGetHandleVerifier [0x009FF261+560433]\n\tGetHandleVerifier [0x009FE366+556598]\n\tOrdinal0 [0x0090286B+2173035]\n\tOrdinal0 [0x009075F8+2192888]\n\tOrdinal0 [0x009076E5+2193125]\n\tOrdinal0 [0x009111FC+2232828]\n\tBaseThreadInitThunk [0x7790FA29+25]\n\tRtlGetAppContainerNamedObjectPath [0x77DD7A7E+286]\n\tRtlGetAppContainerNamedObjectPath [0x77DD7A4E+238]\n"
     ]
    }
   ],
   "source": [
    "from selenium import webdriver\n",
    "import time\n",
    " \n",
    "url = 'https://news.naver.com/main/read.nhn?m_view=1&includeAllCount=true&mode=LSD&mid=shm&sid1=100&oid=422&aid=0000430957' \n",
    "#웹 드라이버\n",
    "driver = webdriver.Chrome('./chromedriver.exe')\n",
    "driver.implicitly_wait(30)\n",
    "driver.get(url)\n",
    " \n",
    "#네이버의 경우, 클린봇으로 추출이 안되는게 있다, 클린봇 옵션 해제 후 추출해주도록 한다.\n",
    "cleanbot = driver.find_element_by_css_selector('a.u_cbox_cleanbot_setbutton')\n",
    "cleanbot.click()\n",
    "time.sleep(1)\n",
    "cleanbot_disable = driver.find_element_by_xpath(\"//input[@id='cleanbot_dialog_checkbox_cbox_module']\")\n",
    "cleanbot_disable.click()\n",
    "time.sleep(1)\n",
    "cleanbot_confirm = driver.find_element_by_css_selector('a.u_cbox_layer_cleanbot_extrabutton')\n",
    "cleanbot_confirm.click()\n",
    "time.sleep(1)\n",
    " \n",
    "#더보기 계속 클릭하기\n",
    "while True:\n",
    "    try:\n",
    "        btn_more = driver.find_element_by_css_selector('a.u_cbox_btn_more')\n",
    "        btn_more.click()\n",
    "        # time.sleep(1)\n",
    "    except:\n",
    "        break\n",
    " \n",
    " \n",
    "#기사제목 추출\n",
    "article_head = driver.find_elements_by_css_selector('div.article_info > h3 > a')\n",
    "print(\"기사 제목 : \" + article_head[0].text)\n",
    " \n",
    "#기사시간 추출\n",
    "article_time = driver.find_elements_by_css_selector('div.sponsor > span.t11')\n",
    "print(\"기사 등록 시간 : \" + article_time[0].text)\n",
    " \n",
    "# 성비와 연령대 추출\n",
    "per = driver.find_elements_by_css_selector('span.u_cbox_chart_per')\n",
    " \n",
    "print(\"남자 성비 : \" + per[0].text)\n",
    "print(\"여자 성비 : \" + per[1].text)\n",
    "print(\"10대 : \" + per[2].text)\n",
    "print(\"20대 : \" + per[3].text)\n",
    "print(\"30대 : \" + per[4].text)\n",
    "print(\"40대 : \" + per[5].text)\n",
    "print(\"50대 : \" + per[6].text)\n",
    "print(\"60대 이상 : \" + per[7].text)\n",
    " \n",
    "#댓글추출\n",
    "contents = driver.find_elements_by_css_selector('span.u_cbox_contents')\n",
    "cnt = 1;\n",
    "for content in contents:\n",
    "    print(cnt, \" : \", content.text)\n",
    "    cnt+=1"
   ]
  },
  {
   "cell_type": "code",
   "execution_count": null,
   "id": "5413fcb8",
   "metadata": {},
   "outputs": [],
   "source": []
  }
 ],
 "metadata": {
  "kernelspec": {
   "display_name": "Python 3 (ipykernel)",
   "language": "python",
   "name": "python3"
  },
  "language_info": {
   "codemirror_mode": {
    "name": "ipython",
    "version": 3
   },
   "file_extension": ".py",
   "mimetype": "text/x-python",
   "name": "python",
   "nbconvert_exporter": "python",
   "pygments_lexer": "ipython3",
   "version": "3.7.11"
  }
 },
 "nbformat": 4,
 "nbformat_minor": 5
}

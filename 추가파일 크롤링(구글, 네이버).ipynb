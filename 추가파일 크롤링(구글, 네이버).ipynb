{
 "cells": [
  {
   "cell_type": "code",
   "execution_count": 1,
   "metadata": {
    "ExecuteTime": {
     "end_time": "2022-03-28T00:48:59.944907Z",
     "start_time": "2022-03-28T00:48:59.030224Z"
    }
   },
   "outputs": [],
   "source": [
    "# 구글 부터 해봅세다\n",
    "import pandas as pd\n",
    "import numpy as np\n",
    "import requests\n",
    "\n",
    "from selenium import webdriver\n",
    "from selenium.webdriver.common.keys import Keys\n",
    "\n",
    "import urllib\n",
    "import os, shutil, base64,re\n",
    "import time"
   ]
  },
  {
   "cell_type": "code",
   "execution_count": 2,
   "metadata": {
    "ExecuteTime": {
     "end_time": "2022-03-28T00:49:00.100820Z",
     "start_time": "2022-03-28T00:49:00.083889Z"
    },
    "scrolled": true
   },
   "outputs": [
    {
     "data": {
      "text/plain": [
       "['1932 새싹땅콩햅쌀흑미',\n",
       " 'G12 골디락스',\n",
       " '감악산 산머루주',\n",
       " '경기전',\n",
       " '계룡산 산삼주 금수강산 21',\n",
       " '계룡산 산삼주 금수강산 40',\n",
       " '과하주23',\n",
       " '김포별주',\n",
       " '김포특주',\n",
       " '꿀샘 16',\n",
       " '능이주',\n",
       " '다래와인 3004',\n",
       " '달홀진주25',\n",
       " '달홀진주40',\n",
       " '대윤 가야곡 왕주',\n",
       " '독산 53',\n",
       " '동강더덕주',\n",
       " '두레앙목통숙성주',\n",
       " '두륜탁주',\n",
       " '막시모 40',\n",
       " '모월 로',\n",
       " '모월 청',\n",
       " '모월로미니',\n",
       " '무주구천동산머루주',\n",
       " '문배술 헤리티지 25도',\n",
       " '문배술 헤리티지 40도',\n",
       " '미담',\n",
       " '미인탁주',\n",
       " '밤꽃향기',\n",
       " '사미인주',\n",
       " '산막생대덕주',\n",
       " '삼양춘 생약주',\n",
       " '샤토미소 랑',\n",
       " '샹스프랑보아즈',\n",
       " '석로주',\n",
       " '세종 알밤주',\n",
       " '소여강 25',\n",
       " '소호',\n",
       " '술샘19',\n",
       " '술아 국화주',\n",
       " '술아 매화주',\n",
       " '술아 순곡주',\n",
       " '술아 연화주',\n",
       " '시인의마을',\n",
       " '신선주',\n",
       " '아띠',\n",
       " '아우내',\n",
       " '안동소주 일품 21도',\n",
       " '얼떨결에',\n",
       " '여민락주',\n",
       " '역전주',\n",
       " '연천 아주',\n",
       " '영탁막걸리',\n",
       " '예천주 사월24',\n",
       " '예천주 사월365',\n",
       " '예천주복 만월24',\n",
       " '오드린 베베마루 아내를 위한',\n",
       " '오목대',\n",
       " '우곡생주',\n",
       " '우곡주',\n",
       " '유기농이도 14',\n",
       " '이담',\n",
       " '이도 22',\n",
       " '제주몬순커피주',\n",
       " '죽향41',\n",
       " '지란지교',\n",
       " '지리산 정담 생쌀 막걸리',\n",
       " '참동이 허브잎술',\n",
       " '청주신선주탁주',\n",
       " '추성주',\n",
       " '포항불로주',\n",
       " '풍정사계 동(冬)',\n",
       " '풍정사계 춘(春)',\n",
       " '해남진양주',\n",
       " '해방주',\n",
       " '해창 막걸리 9도',\n",
       " '혼디주',\n",
       " '희양산 막걸리 15도',\n",
       " '희양산 막걸리 9도']"
      ]
     },
     "execution_count": 2,
     "metadata": {},
     "output_type": "execute_result"
    }
   ],
   "source": [
    "origin_path = './recrawl/'\n",
    "dirlist = os.listdir(origin_path)\n",
    "dirlist"
   ]
  },
  {
   "cell_type": "code",
   "execution_count": 3,
   "metadata": {
    "ExecuteTime": {
     "end_time": "2022-03-28T00:49:02.999048Z",
     "start_time": "2022-03-28T00:49:01.940839Z"
    }
   },
   "outputs": [],
   "source": [
    "driver = webdriver.Chrome()"
   ]
  },
  {
   "cell_type": "code",
   "execution_count": 4,
   "metadata": {
    "ExecuteTime": {
     "end_time": "2022-03-28T01:37:41.587441Z",
     "start_time": "2022-03-28T00:49:06.253996Z"
    }
   },
   "outputs": [
    {
     "name": "stderr",
     "output_type": "stream",
     "text": [
      "C:\\Users\\bitcamp\\AppData\\Local\\Temp/ipykernel_1068/1474762267.py:10: DeprecationWarning: find_elements_by_* commands are deprecated. Please use find_elements() instead\n",
      "  images = driver.find_elements_by_css_selector('#islrg > div.islrc > div> a.wXeWr.islib.nfEiy')\n",
      "C:\\Users\\bitcamp\\AppData\\Local\\Temp/ipykernel_1068/1474762267.py:17: DeprecationWarning: find_element_by_* commands are deprecated. Please use find_element() instead\n",
      "  ImgUrl = driver.find_element_by_xpath('//*[@id=\"Sva75c\"]/div/div/div[3]/div[2]/c-wiz/div/div[1]/div[1]/div[2]/div/a/img').get_attribute('src')\n"
     ]
    }
   ],
   "source": [
    "for key in dirlist[57:]:\n",
    "    keyword = key+' 전통주'\n",
    "    driver.get(f'https://www.google.com/search?q={keyword}&source=lnms&tbm=isch')\n",
    "    time.sleep(2)\n",
    "    SCROLL_PAUSE_TIME = 1\n",
    "    for _ in range(2):\n",
    "        last_height = driver.execute_script(\"return document.body.scrollHeight\")\n",
    "        driver.execute_script('window.scrollTo(0, document.body.scrollHeight);')\n",
    "        time.sleep(SCROLL_PAUSE_TIME)\n",
    "    images = driver.find_elements_by_css_selector('#islrg > div.islrc > div> a.wXeWr.islib.nfEiy')\n",
    "    maxcnt = min(len(images),80)\n",
    "    for ind,img in enumerate(images):\n",
    "        if ind>maxcnt:\n",
    "            break\n",
    "        img.click()\n",
    "        time.sleep(0.5)\n",
    "        ImgUrl = driver.find_element_by_xpath('//*[@id=\"Sva75c\"]/div/div/div[3]/div[2]/c-wiz/div/div[1]/div[1]/div[2]/div/a/img').get_attribute('src')\n",
    "        time.sleep(1)\n",
    "        if ImgUrl[:23] == 'data:image/jpeg;base64,':\n",
    "            with open(origin_path+key+f'/{key}_{ind+1}.jpg','wb') as f:\n",
    "                f.write(base64.b64decode(ImgUrl[23:]))\n",
    "        else:\n",
    "            try:\n",
    "                urllib.request.urlretrieve(ImgUrl, origin_path+key+f'/{key}_{ind+1}.jpg')\n",
    "            except:\n",
    "                pass\n",
    "\n"
   ]
  },
  {
   "cell_type": "code",
   "execution_count": 5,
   "metadata": {
    "ExecuteTime": {
     "end_time": "2022-03-28T00:42:19.601721Z",
     "start_time": "2022-03-28T00:42:19.596763Z"
    }
   },
   "outputs": [
    {
     "data": {
      "text/plain": [
       "57"
      ]
     },
     "execution_count": 5,
     "metadata": {},
     "output_type": "execute_result"
    }
   ],
   "source": [
    "# 오매락\n",
    "dirlist.index('오목대')"
   ]
  },
  {
   "cell_type": "code",
   "execution_count": null,
   "metadata": {
    "ExecuteTime": {
     "end_time": "2022-03-28T02:23:33.518989Z",
     "start_time": "2022-03-28T02:23:33.509016Z"
    },
    "scrolled": true
   },
   "outputs": [],
   "source": [
    "# 여기부터 하렴"
   ]
  },
  {
   "cell_type": "code",
   "execution_count": 3,
   "metadata": {
    "ExecuteTime": {
     "end_time": "2022-03-28T03:45:28.176844Z",
     "start_time": "2022-03-28T03:45:28.157307Z"
    }
   },
   "outputs": [],
   "source": [
    "worker = 'sim'\n",
    "# df = pd.read_csv('중간상황갯수_yeon.csv',index_col=0)\n",
    "count = [len(os.listdir('./drinks/'+dr)) for dr in os.listdir('./drinks/')]\n",
    "dr = os.listdir('./drinks/')\n",
    "df = pd.DataFrame({'술이름':dr,'이미지갯수':count})"
   ]
  },
  {
   "cell_type": "code",
   "execution_count": 4,
   "metadata": {
    "ExecuteTime": {
     "end_time": "2022-03-28T03:45:29.020832Z",
     "start_time": "2022-03-28T03:45:28.995512Z"
    }
   },
   "outputs": [],
   "source": [
    "refill = df[df['이미지갯수']<=20]['술이름'].values\n",
    "# if not os.path.exists('./drinks/'+ worker):\n",
    "#     os.mkdir('./drinks/'+ worker)\n",
    "# for dr in refill:\n",
    "#     os.mkdir('./drinks/'+dr)"
   ]
  },
  {
   "cell_type": "code",
   "execution_count": 5,
   "metadata": {
    "ExecuteTime": {
     "end_time": "2022-03-28T01:40:45.904388Z",
     "start_time": "2022-03-28T01:40:44.913078Z"
    }
   },
   "outputs": [],
   "source": [
    "driver = webdriver.Chrome()"
   ]
  },
  {
   "cell_type": "code",
   "execution_count": 11,
   "metadata": {
    "ExecuteTime": {
     "end_time": "2022-03-28T04:08:38.004606Z",
     "start_time": "2022-03-28T03:46:24.781221Z"
    }
   },
   "outputs": [
    {
     "name": "stderr",
     "output_type": "stream",
     "text": [
      "C:\\Users\\sim\\AppData\\Local\\Temp/ipykernel_17432/3245937787.py:15: DeprecationWarning: find_elements_by_* commands are deprecated. Please use find_elements() instead\n",
      "  for image in driver.find_elements_by_css_selector(path):\n",
      "C:\\Users\\sim\\AppData\\Local\\Temp/ipykernel_17432/3245937787.py:19: DeprecationWarning: find_elements_by_* commands are deprecated. Please use find_elements() instead\n",
      "  imgurl = driver.find_elements_by_css_selector('div.image._imageBox > img')[0].get_attribute('src')\n",
      "C:\\Users\\sim\\AppData\\Local\\Temp/ipykernel_17432/3245937787.py:27: DeprecationWarning: find_elements_by_* commands are deprecated. Please use find_elements() instead\n",
      "  if len(driver.find_elements_by_css_selector(path)) < 20:\n",
      "C:\\Users\\sim\\AppData\\Local\\Temp/ipykernel_17432/3245937787.py:38: DeprecationWarning: find_elements_by_* commands are deprecated. Please use find_elements() instead\n",
      "  for image in driver.find_elements_by_css_selector(path):\n",
      "C:\\Users\\sim\\AppData\\Local\\Temp/ipykernel_17432/3245937787.py:42: DeprecationWarning: find_elements_by_* commands are deprecated. Please use find_elements() instead\n",
      "  imgurl = driver.find_elements_by_css_selector('div.image._imageBox > img')[0].get_attribute('src')\n"
     ]
    }
   ],
   "source": [
    "num = 50\n",
    "folder_path = './drinks/'\n",
    "for dr in refill:\n",
    "    keyword = re.sub('%', '', dr)+' 전통주'\n",
    "    url = f'https://search.naver.com/search.naver?where=image&query={keyword}&res_fr=786432'\n",
    "    driver.get(url)\n",
    "    time.sleep(2)\n",
    "    SCROLL_PAUSE_TIME = 1\n",
    "    for _ in range(2):\n",
    "        last_height = driver.execute_script(\"return document.body.scrollHeight\")\n",
    "        driver.execute_script('window.scrollTo(0, document.body.scrollHeight);')\n",
    "        time.sleep(SCROLL_PAUSE_TIME)\n",
    "    path = '#main_pack > section.sc_new.sp_nimage._prs_img._imageSearchPC > div > div.photo_group._listGrid > div.photo_tile._grid > div > div > div.thumb > a > img'\n",
    "    cnt = 1\n",
    "    for image in driver.find_elements_by_css_selector(path):\n",
    "        image.click()\n",
    "        time.sleep(0.5)\n",
    "        try:  \n",
    "            imgurl = driver.find_elements_by_css_selector('div.image._imageBox > img')[0].get_attribute('src')\n",
    "            urllib.request.urlretrieve(imgurl, '/'.join([folder_path, dr,f'{dr}_{cnt}.jpg']))\n",
    "            cnt+=1 \n",
    "        except:\n",
    "            pass\n",
    "        if cnt > num:\n",
    "            break\n",
    "        \n",
    "    if len(driver.find_elements_by_css_selector(path)) < 20:\n",
    "        keyword = re.sub('%', '', dr)\n",
    "        url = f'https://search.naver.com/search.naver?where=image&query={keyword}&res_fr=786432'\n",
    "        driver.get(url)\n",
    "        time.sleep(2)\n",
    "        SCROLL_PAUSE_TIME = 1\n",
    "        for _ in range(2):\n",
    "            last_height = driver.execute_script(\"return document.body.scrollHeight\")\n",
    "            driver.execute_script('window.scrollTo(0, document.body.scrollHeight);')\n",
    "            time.sleep(SCROLL_PAUSE_TIME)\n",
    "        path = '#main_pack > section.sc_new.sp_nimage._prs_img._imageSearchPC > div > div.photo_group._listGrid > div.photo_tile._grid > div > div > div.thumb > a > img'\n",
    "        for image in driver.find_elements_by_css_selector(path):\n",
    "            image.click()\n",
    "            time.sleep(0.5)\n",
    "            try:\n",
    "                imgurl = driver.find_elements_by_css_selector('div.image._imageBox > img')[0].get_attribute('src')\n",
    "                urllib.request.urlretrieve(imgurl, '/'.join([folder_path, dr,f'{dr}_{cnt}.jpg']))\n",
    "                cnt+=1\n",
    "            except:\n",
    "                pass\n",
    "            if cnt > num:\n",
    "                break\n",
    "        "
   ]
  },
  {
   "cell_type": "code",
   "execution_count": 12,
   "metadata": {
    "ExecuteTime": {
     "end_time": "2022-03-28T02:24:43.592077Z",
     "start_time": "2022-03-28T02:24:43.574126Z"
    }
   },
   "outputs": [],
   "source": [
    "dr = refill[0]"
   ]
  },
  {
   "cell_type": "code",
   "execution_count": 15,
   "metadata": {
    "ExecuteTime": {
     "end_time": "2022-03-28T02:26:11.238863Z",
     "start_time": "2022-03-28T02:26:11.222935Z"
    }
   },
   "outputs": [
    {
     "data": {
      "text/plain": [
       "array(['미르아토 증류주 tears of god', '미소 아이스', '바나나 주', '배꽃 필 무렵', '배꽃담은연',\n",
       "       '백년친구 쌀막걸리', '백운복분자주', '백이주', '뱅꼬레 레드와인', '뱅꼬레 아이스와인', '뱅꼬레 화이트와인',\n",
       "       '베리와인1168 스위트와인', '베베마루 설레임 로제 스위트와인', '베베마루 캠밸로제',\n",
       "       '베베마루 캠벨로제 스위트', '별바랑', '별산오디 스파클링 막걸리', '병영설성 동동주', '병영설성 생막걸리',\n",
       "       '병영소주', '보리수헤는밤', '보성 강하주', '복단지', '복단지 350', '복분자아락40', '복분자음',\n",
       "       '복분자주 360', '복순도가 약주', '복숭아와인', '볼빨간막걸리 10', '볼빨간막걸리 7', '볼빨간미자',\n",
       "       '봇뜰 막걸리 10도', '봉하쌀 생막걸리', '부안참뽕막걸리', '부안참뽕와인', '부자', '부자 송산포도',\n",
       "       '북극곰 막걸리', '불로생우리쌀막걸리', '불소곡주', '붉은 원숭이', '블루베리 이야기', '빨간쌀막걸리',\n",
       "       '사과와인', '사시통음주', '사십오도', '사임주', '산내울 복분자주', '산내울 사과애주', '산내울 오미자주',\n",
       "       '산막 생유 막걸리', '산막와이너리 증류주 환희', '산머루 크라테 드라이', '산머루 크라테 로제',\n",
       "       '산머루 크라테 스위트', '산머루와인 깊은맛 드라이', '산머루와인 달콤한 스위트', '산삼가득 명술',\n",
       "       '산천어막걸리', '삼선', '삼양춘 생탁주', '삼양춘 스파클링', '새송이 쌀막걸리 정', '생 청주 막걸리',\n",
       "       '생탁주', '샤토미소 레드 스위트', '샤토미소 로제스위트와인', '샤토미소 아이스와인', '샤토미소 영동',\n",
       "       '서설', '서주 16%', '석탄주 약주', '석탄주 탁주', '선운산 복분자와인', '선운산 복분자주',\n",
       "       '선운산 복분자주 프리미엄', '선운산의 아침 복분자 막걸리', '설궁', '설련주', '성읍민속마을 오메기술',\n",
       "       '성포 생막걸리', '세오녀탁주', '세우리', '세인트하우스 모과와인', '세인트하우스 살구와인', '세종 쌀막걸리',\n",
       "       '세종 오가닉', '세종청주생막걸리', '소나무와 학', '소백산(샤토소백) 스위트 레드와인', '소양강 생 막걸리',\n",
       "       '소여강', '손가네 태종대 개똥쑥생막걸리', '송로주', '송이주', '송화백일주', '수삼단본 720',\n",
       "       '수성 프리미엄 백주43', '술그리다 생탁주', '술예쁘다 생탁주', '스타베리오디', '스파클링와인',\n",
       "       '시나브로 드 글로리아', '시나브로 레드 드라이', '시나브로 레드 스위트', '시나브로 로제와인',\n",
       "       '시나브로 에뚜왈 로제 스파클링', '시나브로 청수 화이트', '시향가 미니캔막걸리', '신례명주', '심술6 막걸리',\n",
       "       '씨(C) 그린막걸리', '씨(C) 막걸리 시그니처 큐베', '씨(C) 옐로막걸리', '아리아리', '아이스 375',\n",
       "       '아이원 막걸리', '아임프리6.0', '아황주', '악양생막걸리', '안성맞춤 생막걸리', '안양동동주', '애석',\n",
       "       '애피소드호프', '양조학당 뜰', '양촌 생 동동주', '양촌 생 막걸리', '어우야', '엄청주'],\n",
       "      dtype=object)"
      ]
     },
     "execution_count": 15,
     "metadata": {},
     "output_type": "execute_result"
    }
   ],
   "source": [
    "refill"
   ]
  },
  {
   "cell_type": "code",
   "execution_count": null,
   "metadata": {},
   "outputs": [],
   "source": []
  }
 ],
 "metadata": {
  "kernelspec": {
   "display_name": "Python 3 (ipykernel)",
   "language": "python",
   "name": "python3"
  },
  "language_info": {
   "codemirror_mode": {
    "name": "ipython",
    "version": 3
   },
   "file_extension": ".py",
   "mimetype": "text/x-python",
   "name": "python",
   "nbconvert_exporter": "python",
   "pygments_lexer": "ipython3",
   "version": "3.9.7"
  },
  "toc": {
   "base_numbering": 1,
   "nav_menu": {},
   "number_sections": true,
   "sideBar": true,
   "skip_h1_title": false,
   "title_cell": "Table of Contents",
   "title_sidebar": "Contents",
   "toc_cell": false,
   "toc_position": {},
   "toc_section_display": true,
   "toc_window_display": false
  },
  "varInspector": {
   "cols": {
    "lenName": 16,
    "lenType": 16,
    "lenVar": 40
   },
   "kernels_config": {
    "python": {
     "delete_cmd_postfix": "",
     "delete_cmd_prefix": "del ",
     "library": "var_list.py",
     "varRefreshCmd": "print(var_dic_list())"
    },
    "r": {
     "delete_cmd_postfix": ") ",
     "delete_cmd_prefix": "rm(",
     "library": "var_list.r",
     "varRefreshCmd": "cat(var_dic_list()) "
    }
   },
   "position": {
    "height": "144.844px",
    "left": "1678.45px",
    "right": "20px",
    "top": "134.993px",
    "width": "350px"
   },
   "types_to_exclude": [
    "module",
    "function",
    "builtin_function_or_method",
    "instance",
    "_Feature"
   ],
   "window_display": true
  }
 },
 "nbformat": 4,
 "nbformat_minor": 4
}

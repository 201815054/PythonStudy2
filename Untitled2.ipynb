{
 "cells": [
  {
   "cell_type": "code",
   "execution_count": 1,
   "id": "3b16b9b9",
   "metadata": {},
   "outputs": [],
   "source": [
    "import pandas as pd \n",
    "import numpy as np\n",
    "import matplotlib.pyplot as plt\n",
    "import seaborn as sns"
   ]
  },
  {
   "cell_type": "code",
   "execution_count": 2,
   "id": "419923fc",
   "metadata": {},
   "outputs": [
    {
     "name": "stdout",
     "output_type": "stream",
     "text": [
      "Requirement already satisfied: afinn in c:\\users\\sim\\anaconda3\\lib\\site-packages (0.1)\n"
     ]
    }
   ],
   "source": [
    "!pip install afinn"
   ]
  },
  {
   "cell_type": "code",
   "execution_count": 3,
   "id": "2575e932",
   "metadata": {},
   "outputs": [],
   "source": [
    "from afinn import Afinn\n",
    "from nltk.corpus import stopwords\n",
    "from nltk.stem.porter import PorterStemmer\n",
    "from nltk.tokenize import RegexpTokenizer"
   ]
  },
  {
   "cell_type": "code",
   "execution_count": 4,
   "id": "a29994b4",
   "metadata": {},
   "outputs": [],
   "source": [
    "# google drive\n",
    "\n",
    "# aclimdb\n",
    "# NRC.txt "
   ]
  },
  {
   "cell_type": "code",
   "execution_count": 5,
   "id": "3dcc9620",
   "metadata": {},
   "outputs": [],
   "source": [
    "import glob"
   ]
  },
  {
   "cell_type": "code",
   "execution_count": 6,
   "id": "f500f419",
   "metadata": {},
   "outputs": [],
   "source": [
    "pos_reviews = glob.glob('./data/pos_1-20220407T060112Z-001/pos_1/*.txt')"
   ]
  },
  {
   "cell_type": "code",
   "execution_count": 7,
   "id": "86245812",
   "metadata": {},
   "outputs": [],
   "source": [
    "neg_reviews = glob.glob('./data/neg_1-20220407T060114Z-001/neg_1/*.txt')"
   ]
  },
  {
   "cell_type": "code",
   "execution_count": 8,
   "id": "180a9c28",
   "metadata": {},
   "outputs": [
    {
     "ename": "NameError",
     "evalue": "name 'text' is not defined",
     "output_type": "error",
     "traceback": [
      "\u001b[1;31m---------------------------------------------------------------------------\u001b[0m",
      "\u001b[1;31mNameError\u001b[0m                                 Traceback (most recent call last)",
      "\u001b[1;32m~\\AppData\\Local\\Temp/ipykernel_25476/3303281111.py\u001b[0m in \u001b[0;36m<module>\u001b[1;34m\u001b[0m\n\u001b[0;32m      1\u001b[0m \u001b[0mf\u001b[0m \u001b[1;33m=\u001b[0m\u001b[0mopen\u001b[0m\u001b[1;33m(\u001b[0m\u001b[0mpos_reviews\u001b[0m\u001b[1;33m[\u001b[0m\u001b[1;36m10\u001b[0m\u001b[1;33m]\u001b[0m\u001b[1;33m,\u001b[0m\u001b[1;34m'r'\u001b[0m\u001b[1;33m)\u001b[0m\u001b[1;33m\u001b[0m\u001b[1;33m\u001b[0m\u001b[0m\n\u001b[0;32m      2\u001b[0m \u001b[0mpos_text\u001b[0m \u001b[1;33m=\u001b[0m \u001b[0mf\u001b[0m\u001b[1;33m.\u001b[0m\u001b[0mread\u001b[0m\u001b[1;33m(\u001b[0m\u001b[1;33m)\u001b[0m\u001b[1;33m\u001b[0m\u001b[1;33m\u001b[0m\u001b[0m\n\u001b[1;32m----> 3\u001b[1;33m \u001b[0mprint\u001b[0m\u001b[1;33m(\u001b[0m\u001b[0mtext\u001b[0m\u001b[1;33m)\u001b[0m\u001b[1;33m\u001b[0m\u001b[1;33m\u001b[0m\u001b[0m\n\u001b[0m",
      "\u001b[1;31mNameError\u001b[0m: name 'text' is not defined"
     ]
    }
   ],
   "source": [
    "f =open(pos_reviews[10],'r')\n",
    "pos_text = f.read()\n",
    "print(text)"
   ]
  },
  {
   "cell_type": "code",
   "execution_count": null,
   "id": "1346f084",
   "metadata": {},
   "outputs": [],
   "source": [
    "f =open(neg_reviews[20],'r')\n",
    "neg_text = f.read()\n",
    "print(text)"
   ]
  },
  {
   "cell_type": "code",
   "execution_count": null,
   "id": "8577eb9a",
   "metadata": {},
   "outputs": [],
   "source": [
    "afinn = Afinn()"
   ]
  },
  {
   "cell_type": "code",
   "execution_count": null,
   "id": "1d57d300",
   "metadata": {},
   "outputs": [],
   "source": [
    "afinn.score(pos_text) # -15 ~ 20 "
   ]
  },
  {
   "cell_type": "code",
   "execution_count": null,
   "id": "5e7c507c",
   "metadata": {},
   "outputs": [],
   "source": [
    "afinn.score(neg_text)"
   ]
  },
  {
   "cell_type": "code",
   "execution_count": null,
   "id": "d922b51f",
   "metadata": {},
   "outputs": [],
   "source": [
    "# 감성어사전 - NRC"
   ]
  },
  {
   "cell_type": "code",
   "execution_count": null,
   "id": "737d116f",
   "metadata": {},
   "outputs": [],
   "source": [
    "nrc = pd.read_csv('./data/NRC.txt',engine='python',header=None,sep='\\t')"
   ]
  },
  {
   "cell_type": "code",
   "execution_count": null,
   "id": "cb27315b",
   "metadata": {},
   "outputs": [],
   "source": [
    "nrc.iloc[:,1].value_counts()"
   ]
  },
  {
   "cell_type": "code",
   "execution_count": null,
   "id": "b8abec13",
   "metadata": {},
   "outputs": [],
   "source": [
    "nrc.iloc[:,0].value_counts()"
   ]
  },
  {
   "cell_type": "code",
   "execution_count": null,
   "id": "165abc31",
   "metadata": {},
   "outputs": [],
   "source": [
    "nrc = nrc[(nrc !=0).all(1)] # 0 제거 "
   ]
  },
  {
   "cell_type": "code",
   "execution_count": null,
   "id": "812ee94b",
   "metadata": {},
   "outputs": [],
   "source": [
    "nrc[nrc[0]=='happy']"
   ]
  },
  {
   "cell_type": "code",
   "execution_count": null,
   "id": "e7ef506e",
   "metadata": {},
   "outputs": [],
   "source": [
    "nrc[nrc[0]=='disaster']"
   ]
  },
  {
   "cell_type": "code",
   "execution_count": null,
   "id": "08121a05",
   "metadata": {},
   "outputs": [],
   "source": [
    "nrc = nrc.reset_index(drop=True)\n",
    "nrc"
   ]
  },
  {
   "cell_type": "code",
   "execution_count": null,
   "id": "a779bab8",
   "metadata": {},
   "outputs": [],
   "source": [
    "lines1=pos_text"
   ]
  },
  {
   "cell_type": "code",
   "execution_count": null,
   "id": "cc8f40f0",
   "metadata": {},
   "outputs": [],
   "source": [
    "stopwords=stopwords.words('english')"
   ]
  },
  {
   "cell_type": "code",
   "execution_count": null,
   "id": "bed3bc34",
   "metadata": {},
   "outputs": [],
   "source": [
    "tokenizer= RegexpTokenizer('[\\w]+')"
   ]
  },
  {
   "cell_type": "code",
   "execution_count": null,
   "id": "5cc368e2",
   "metadata": {},
   "outputs": [],
   "source": [
    "p_stemmer=PorterStemmer()"
   ]
  },
  {
   "cell_type": "code",
   "execution_count": null,
   "id": "35aaa027",
   "metadata": {},
   "outputs": [],
   "source": [
    "raw= lines1.lower()\n",
    "tokens=tokenizer.tokenize(raw)\n",
    "stopped_tokens=[i for i in tokens if not i in stopwords]\n",
    "stopped_tokens"
   ]
  },
  {
   "cell_type": "code",
   "execution_count": null,
   "id": "e4d7dde0",
   "metadata": {},
   "outputs": [],
   "source": [
    "match_tokens = [x for x in stopped_tokens if x in list(nrc[0])]#감성어 사전에만있는 토큰스 뽑아내기\n",
    "match_tokens"
   ]
  },
  {
   "cell_type": "code",
   "execution_count": null,
   "id": "d0c2eb72",
   "metadata": {},
   "outputs": [],
   "source": [
    "emotion=[]\n",
    "for i in match_tokens:\n",
    "    em_word = nrc[nrc[0] == i][1].values\n",
    "    for j in em_word:\n",
    "        emotion.append(j)\n",
    "emotion"
   ]
  },
  {
   "cell_type": "code",
   "execution_count": null,
   "id": "d30c3d91",
   "metadata": {},
   "outputs": [],
   "source": [
    "sent_result = pd.Series(emotion).value_counts()\n",
    "sent_result"
   ]
  },
  {
   "cell_type": "code",
   "execution_count": null,
   "id": "c7ec6bc8",
   "metadata": {},
   "outputs": [],
   "source": [
    "def emotion_score(series):\n",
    "    emot_score = 0 \n",
    "    for j in range(len(series)):\n",
    "        \n",
    "        if series.index[j] in ('positive','anticipation','trust','joy','surprise'):\n",
    "            emot_score+=series.iloc[j].values\n",
    "        else:\n",
    "            emot_score-=series.iloc[j].values\n",
    "    return emot_score"
   ]
  },
  {
   "cell_type": "code",
   "execution_count": null,
   "id": "7813b298",
   "metadata": {},
   "outputs": [],
   "source": [
    "lines2 = neg_text\n",
    "\n",
    "raw= lines1.lower()\n",
    "tokens=tokenizer.tokenize(raw)\n",
    "stopped_tokens=[i for i in tokens if not i in stopwords]\n",
    "match_tokens = [x for x in stopped_tokens if x in list(nrc[0])]#감성어 사전에만있는 토큰스 뽑아내기\n",
    "\n",
    "emotion=[]\n",
    "for i in match_tokens:\n",
    "    em_word = nrc[nrc[0] == i][1].values\n",
    "    for j in em_word:\n",
    "        emotion.append(j)\n",
    "        \n",
    "sent_result = pd.Series(emotion).value_counts()\n",
    "\n",
    "emotion_score(sent_result)#전처리\n"
   ]
  },
  {
   "cell_type": "code",
   "execution_count": null,
   "id": "c1c0a937",
   "metadata": {},
   "outputs": [],
   "source": [
    "# 한글 감성어 사전"
   ]
  },
  {
   "cell_type": "code",
   "execution_count": null,
   "id": "d3a1b414",
   "metadata": {},
   "outputs": [],
   "source": [
    "# lexicon > polarity.scv"
   ]
  },
  {
   "cell_type": "code",
   "execution_count": null,
   "id": "5cc323ae",
   "metadata": {},
   "outputs": [],
   "source": [
    "pd.read_csv('./data/')"
   ]
  },
  {
   "cell_type": "code",
   "execution_count": null,
   "id": "128f90a0",
   "metadata": {},
   "outputs": [],
   "source": [
    "# mecab 한글 네이버 댓글 감성분석\n",
    "# 한글 감성어 사전 이용 네이버 댓글 감성분석 "
   ]
  },
  {
   "cell_type": "code",
   "execution_count": 9,
   "id": "ea39bb19",
   "metadata": {},
   "outputs": [
    {
     "ename": "ImportError",
     "evalue": "cannot import name '_MeCab' from 'MeCab' (C:\\Users\\sim\\Anaconda3\\lib\\site-packages\\MeCab\\__init__.py)",
     "output_type": "error",
     "traceback": [
      "\u001b[1;31m---------------------------------------------------------------------------\u001b[0m",
      "\u001b[1;31mImportError\u001b[0m                               Traceback (most recent call last)",
      "\u001b[1;32m~\\AppData\\Local\\Temp/ipykernel_25476/2050789042.py\u001b[0m in \u001b[0;36m<module>\u001b[1;34m\u001b[0m\n\u001b[1;32m----> 1\u001b[1;33m \u001b[1;32mimport\u001b[0m \u001b[0mMeCab\u001b[0m\u001b[1;33m\u001b[0m\u001b[1;33m\u001b[0m\u001b[0m\n\u001b[0m",
      "\u001b[1;32m~\\Anaconda3\\lib\\site-packages\\MeCab\\__init__.py\u001b[0m in \u001b[0;36m<module>\u001b[1;34m\u001b[0m\n\u001b[0;32m      8\u001b[0m \u001b[1;33m\u001b[0m\u001b[0m\n\u001b[0;32m      9\u001b[0m \u001b[1;32mfrom\u001b[0m \u001b[0m__future__\u001b[0m \u001b[1;32mimport\u001b[0m \u001b[0mabsolute_import\u001b[0m\u001b[1;33m,\u001b[0m \u001b[0mprint_function\u001b[0m\u001b[1;33m\u001b[0m\u001b[1;33m\u001b[0m\u001b[0m\n\u001b[1;32m---> 10\u001b[1;33m \u001b[1;32mfrom\u001b[0m \u001b[1;33m.\u001b[0m \u001b[1;32mimport\u001b[0m \u001b[0m_MeCab\u001b[0m\u001b[1;33m\u001b[0m\u001b[1;33m\u001b[0m\u001b[0m\n\u001b[0m\u001b[0;32m     11\u001b[0m \u001b[1;33m\u001b[0m\u001b[0m\n\u001b[0;32m     12\u001b[0m \u001b[1;32mimport\u001b[0m \u001b[0mos\u001b[0m\u001b[1;33m\u001b[0m\u001b[1;33m\u001b[0m\u001b[0m\n",
      "\u001b[1;31mImportError\u001b[0m: cannot import name '_MeCab' from 'MeCab' (C:\\Users\\sim\\Anaconda3\\lib\\site-packages\\MeCab\\__init__.py)"
     ]
    }
   ],
   "source": [
    "import MeCab"
   ]
  },
  {
   "cell_type": "code",
   "execution_count": null,
   "id": "c2c8b836",
   "metadata": {},
   "outputs": [],
   "source": []
  },
  {
   "cell_type": "code",
   "execution_count": null,
   "id": "6998de3d",
   "metadata": {},
   "outputs": [],
   "source": []
  },
  {
   "cell_type": "code",
   "execution_count": null,
   "id": "239913bb",
   "metadata": {},
   "outputs": [],
   "source": []
  }
 ],
 "metadata": {
  "kernelspec": {
   "display_name": "Python 3 (ipykernel)",
   "language": "python",
   "name": "python3"
  },
  "language_info": {
   "codemirror_mode": {
    "name": "ipython",
    "version": 3
   },
   "file_extension": ".py",
   "mimetype": "text/x-python",
   "name": "python",
   "nbconvert_exporter": "python",
   "pygments_lexer": "ipython3",
   "version": "3.7.11"
  }
 },
 "nbformat": 4,
 "nbformat_minor": 5
}
